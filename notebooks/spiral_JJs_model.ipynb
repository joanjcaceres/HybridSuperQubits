{
 "cells": [
  {
   "cell_type": "code",
   "execution_count": 180,
   "metadata": {},
   "outputs": [],
   "source": [
    "import sys\n",
    "sys.path.append('..')\n",
    "import cmath\n",
    "import numpy as np\n",
    "from scipy.sparse import diags\n",
    "from scipy.linalg import eigh\n",
    "import matplotlib.pyplot as plt"
   ]
  },
  {
   "cell_type": "code",
   "execution_count": 169,
   "metadata": {},
   "outputs": [],
   "source": [
    "def update_couplings(matrix, indices, value):\n",
    "    \"\"\"Helper function to update symmetric off-diagonal matrix elements.\"\"\"\n",
    "    for i, j in indices:\n",
    "        matrix[i, j] = value\n",
    "        matrix[j, i] = value  # Ensure symmetry\n",
    "\n",
    "def C_matrix(N, Cs, Cjj, C0, C0big, Cin):\n",
    "    # Create the diagonal, sub-diagonal, and super-diagonal values\n",
    "    diagonals = [-Cjj * np.ones(N), (2 * Cjj + C0) * np.ones(N + 1), -Cjj * np.ones(N)]\n",
    "    matrix = diags(diagonals, offsets=[-1, 0, 1]).toarray()\n",
    "\n",
    "    # Update specific values at the edges\n",
    "    matrix[0, 0] = Cin + Cs\n",
    "    matrix[1, 1] = C0big + Cs + Cjj\n",
    "    matrix[-2, -2] = C0big + Cs + Cjj\n",
    "    matrix[-1, -1] = Cs\n",
    "\n",
    "    # Apply couplings using the helper function for symmetry\n",
    "    update_couplings(matrix, [(1, 0), (-2, -1)], -Cs)\n",
    "\n",
    "    return matrix\n",
    "\n",
    "def L_inv_matrix(N, Ljj, Ls):\n",
    "    # Create the diagonal, sub-diagonal, and super-diagonal values\n",
    "    diagonals = [(-1 / Ljj) * np.ones(N), (2 / Ljj) * np.ones(N + 1), (-1 / Ljj) * np.ones(N)]\n",
    "    matrix = diags(diagonals, offsets=[-1, 0, 1]).toarray()\n",
    "\n",
    "    # Update specific values at the edges\n",
    "    matrix[0, 0] = 1 / Ls\n",
    "    matrix[-1, -1] = 1 / Ls\n",
    "    matrix[1, 1] = 1 / Ls + 1 / Ljj\n",
    "    matrix[-2, -2] = 1 / Ls + 1 / Ljj\n",
    "\n",
    "    # Apply couplings using the helper function for symmetry\n",
    "    update_couplings(matrix, [(1, 0), (-2, -1)], -1 / Ls)\n",
    "\n",
    "    return matrix\n",
    "\n",
    "def jja_eigensys(Cs,Ls,Cjj,Ljj,C0, C0big, Cin, N):\n",
    "\n",
    "    eigenvalues_C, eigenvectors_C = eigh(C_matrix(N,Cs,Cjj,C0,C0big,Cin))\n",
    "    Lambda_inv_sqrt = np.diag(1 / np.sqrt(eigenvalues_C))\n",
    "    C_inv_sqrt = np.dot(eigenvectors_C, np.dot(Lambda_inv_sqrt, eigenvectors_C.T)) # spectral decomposition of C^-1/2\n",
    "    matrix_operation = np.dot(C_inv_sqrt, np.dot(L_inv_matrix(N,Ljj, Ls), C_inv_sqrt)) # C^-1/2 L^-1 C^-1/2\n",
    "    eigvals, eigvecs = eigh(matrix_operation) # eigenvalues and eigvecs of C^-1/2 L^-1 C^-1/2\n",
    "    return np.sqrt(eigvals), eigvecs # Returns \\omega_k, \\Phi_k"
   ]
  },
  {
   "cell_type": "code",
   "execution_count": 181,
   "metadata": {},
   "outputs": [
    {
     "data": {
      "text/plain": [
       "array([9.60219178e-08, 2.19906616e+00, 4.99432727e+00, 5.26668509e+00,\n",
       "       1.39015189e+01, 1.59687050e+01, 1.64571362e+01, 1.66178606e+01])"
      ]
     },
     "execution_count": 181,
     "metadata": {},
     "output_type": "execute_result"
    }
   ],
   "source": [
    "### 500 nm\n",
    "Cs=8.911e-15\n",
    "Ls = 102.48e-9\n",
    "\n",
    "Cjj = 29e-15\n",
    "Ljj = 3e-9\n",
    "C0 = 5.7e-15\n",
    "C0big = C0*120\n",
    "Cin = 1e-15\n",
    "N=7\n",
    "\n",
    "cmatrix = C_matrix(N,Cs,Cjj,C0,C0big,Cin)\n",
    "linvmatrix = L_inv_matrix(N, Ljj, Ls)\n",
    "evals,eigvecs = jja_eigensys(Cs,Ls,Cjj,Ljj,C0,C0big, Cin, N)\n",
    "evals/2/np.pi*1e-9"
   ]
  },
  {
   "cell_type": "code",
   "execution_count": null,
   "metadata": {},
   "outputs": [],
   "source": [
    "C0big_array = np.geomspace(C0,C0*500,50)\n",
    "f0_array = np.zeros_like(C0big_array)\n",
    "\n",
    "for i, C0big in enumerate(C0big_array):\n",
    "    cmatrix = C_matrix(N,Cs,Cjj,C0,C0big,Cin)\n",
    "    linvmatrix = L_inv_matrix(N, Ljj, Ls)\n",
    "    evals,eigvecs = jja_eigensys(Cs,Ls,Cjj,Ljj,C0,C0big, Cin, N)\n",
    "    evals/2/np.pi*1e-9"
   ]
  },
  {
   "cell_type": "code",
   "execution_count": null,
   "metadata": {},
   "outputs": [],
   "source": [
    "\n",
    "fig, ax = plt.subplots(1,1)\n",
    "ax.plot()"
   ]
  },
  {
   "cell_type": "code",
   "execution_count": 179,
   "metadata": {},
   "outputs": [
    {
     "name": "stderr",
     "output_type": "stream",
     "text": [
      "C:\\Users\\jc269556\\AppData\\Local\\Temp\\ipykernel_10424\\2615845286.py:46: RuntimeWarning: invalid value encountered in sqrt\n",
      "  return np.sqrt(eigvals), eigvecs # Returns \\omega_k, \\Phi_k\n"
     ]
    },
    {
     "data": {
      "text/plain": [
       "array([        nan,  4.1334236 ,  4.31685242, 13.37252896, 17.02010531,\n",
       "       17.05111567, 17.05680467, 17.05856876])"
      ]
     },
     "execution_count": 179,
     "metadata": {},
     "output_type": "execute_result"
    }
   ],
   "source": [
    "### 150 nm\n",
    "Cs=10.31e-15\n",
    "Ls = 131.84e-9\n",
    "\n",
    "Cjj = 29e-15\n",
    "Ljj = 3e-9\n",
    "C0 = 0.057e-15\n",
    "C0big = C0*120\n",
    "Cin = 1e-15\n",
    "N=7\n",
    "\n",
    "cmatrix = C_matrix(7,Cs,Cjj,C0,C0big,Cin)\n",
    "linvmatrix = L_inv_matrix(N, Ljj, Ls)\n",
    "evals,eigvecs = jja_eigensys(Cs,Ls,Cjj,Ljj,C0, C0big,Cin, N)\n",
    "evals/2/np.pi*1e-9"
   ]
  },
  {
   "cell_type": "code",
   "execution_count": null,
   "metadata": {},
   "outputs": [],
   "source": []
  },
  {
   "cell_type": "code",
   "execution_count": 39,
   "metadata": {},
   "outputs": [
    {
     "data": {
      "text/plain": [
       "array([1.24117805e-06, 5.26993878e+00, 5.26993878e+00, 1.64099080e+01,\n",
       "       1.64538225e+01, 1.64618977e+01, 1.64645921e+01, 1.64656494e+01])"
      ]
     },
     "execution_count": 39,
     "metadata": {},
     "output_type": "execute_result"
    }
   ],
   "source": [
    "evals/2/np.pi*1e-9"
   ]
  },
  {
   "cell_type": "code",
   "execution_count": null,
   "metadata": {},
   "outputs": [],
   "source": []
  }
 ],
 "metadata": {
  "kernelspec": {
   "display_name": "ferbo",
   "language": "python",
   "name": "python3"
  },
  "language_info": {
   "codemirror_mode": {
    "name": "ipython",
    "version": 3
   },
   "file_extension": ".py",
   "mimetype": "text/x-python",
   "name": "python",
   "nbconvert_exporter": "python",
   "pygments_lexer": "ipython3",
   "version": "3.11.7"
  }
 },
 "nbformat": 4,
 "nbformat_minor": 2
}
