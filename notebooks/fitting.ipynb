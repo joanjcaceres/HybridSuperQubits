{
 "cells": [
  {
   "cell_type": "code",
   "execution_count": null,
   "metadata": {},
   "outputs": [],
   "source": [
    "%load_ext autoreload\n",
    "%autoreload 2\n",
    "import scqubits as sq\n",
    "import numpy as np\n",
    "import matplotlib.pyplot as plt\n",
    "from scipy.optimize import differential_evolution\n",
    "import os\n",
    "from utilities import *"
   ]
  },
  {
   "cell_type": "code",
   "execution_count": null,
   "metadata": {},
   "outputs": [],
   "source": [
    "period = 3.02 # V\n",
    "voltage_center = 1.455 # V\n",
    "\n",
    "experimental_points = np.array([\n",
    "    #level, flux, frequeny\n",
    "    (1, 0, 6.8843),\n",
    "    (2, 0, 6.8900),\n",
    "    (2, 0.1092, 8.38),\n",
    "    (1, 0.036, 6.3936),\n",
    "    (2, (1.945-voltage_center)/period, 9.10),\n",
    "    (2, (2.1509-voltage_center)/period, 10.01165),\n",
    "    (3, (2.58-voltage_center)/period, 11.94),\n",
    "    (4, (2.58-voltage_center)/period, 12),\n",
    "    (2, (2.234-voltage_center)/period, 9.89),\n",
    "    (2, (2.241-voltage_center)/period, 9.8616),\n",
    "])"
   ]
  },
  {
   "cell_type": "code",
   "execution_count": null,
   "metadata": {},
   "outputs": [],
   "source": [
    "def minimizer(params):\n",
    "    EJ,EC,EL = params\n",
    "    fluxonium = sq.Fluxonium(EJ=EJ,EC=EC,EL=EL,flux=0,cutoff=40)\n",
    "    val = fluxonium.get_spectrum_vs_paramvals(param_name='flux',param_vals=experimental_points[:,1], evals_count=5, subtract_ground=True)\n",
    "    \n",
    "    cost_function = np.sqrt(np.sum((val.energy_table[np.arange(len(experimental_points)),experimental_points[:,0].astype(int)] - experimental_points[:,2])**2))/len(experimental_points)\n",
    "    \n",
    "    return cost_function   "
   ]
  },
  {
   "cell_type": "code",
   "execution_count": null,
   "metadata": {},
   "outputs": [],
   "source": [
    "bounds_list = [\n",
    "    (7,15),\n",
    "    (1,4),\n",
    "    (0.1,0.6)\n",
    "]\n",
    "result = differential_evolution(func=minimizer,bounds=bounds_list)"
   ]
  },
  {
   "cell_type": "code",
   "execution_count": null,
   "metadata": {},
   "outputs": [],
   "source": [
    "result"
   ]
  },
  {
   "cell_type": "code",
   "execution_count": null,
   "metadata": {},
   "outputs": [],
   "source": [
    "EJ,EC,EL = result.x\n",
    "fluxonium = sq.Fluxonium(EJ,EC,EL,flux=0, cutoff=40)\n",
    "\n",
    "flux_array =np.linspace(-0.5,1,301)\n",
    "evals = fluxonium.get_spectrum_vs_paramvals(param_name='flux',param_vals=flux_array,evals_count=5,subtract_ground=True)\n",
    "\n",
    "plt.close('all')\n",
    "%matplotlib widget\n",
    "fig,ax = plt.subplots(1,1)\n",
    "plt.suptitle(f\"EJ: {np.round(EJ,2)}, EC: {np.round(EC,2)}, EL: {np.round(EL,3)}\")\n",
    "ax.plot(flux_array*period + voltage_center, evals.energy_table)\n",
    "ax.set_xlabel('Voltage [V]')\n",
    "ax.set_ylabel('Frequency [GHz]')\n",
    "plt.show()"
   ]
  },
  {
   "cell_type": "markdown",
   "metadata": {},
   "source": [
    "Data processing"
   ]
  },
  {
   "cell_type": "code",
   "execution_count": null,
   "metadata": {},
   "outputs": [],
   "source": [
    "# Example usage\n",
    "base_name = 'data_temp/FBW10S4_204062'\n",
    "x_values, y_values, phase_values = load_data(base_name)\n",
    "\n",
    "# Create a phase matrix for plotting\n",
    "phase_matrix = np.array(phase_values).T\n",
    "\n",
    "# Remove column offsets\n",
    "adjusted_phase_matrix_columns = remove_column_offsets(phase_matrix)\n",
    "\n",
    "# Remove row offsets\n",
    "adjusted_phase_matrix_rows = remove_row_offsets(phase_matrix)\n",
    "plt.close('all')\n",
    "# Plot the phase map with column offsets removed\n",
    "plot3D(x_values, y_values, adjusted_phase_matrix_rows, title='Phase Map with Column Offsets Removed')"
   ]
  },
  {
   "cell_type": "code",
   "execution_count": null,
   "metadata": {},
   "outputs": [],
   "source": [
    "# Ruta al directorio con los archivos de Y y Z\n",
    "directory = 'data_temp/FBW10S4_204062'\n",
    "\n",
    "# Cargar datos del eje Y y la fase desde todos los archivos en el directorio\n",
    "x_values, y_values, phase_values = load_data(directory)"
   ]
  },
  {
   "cell_type": "code",
   "execution_count": null,
   "metadata": {},
   "outputs": [],
   "source": [
    "# Graficar los datos en 2D\n",
    "plt.figure(figsize=(9, 6))\n",
    "\n",
    "# Crear una matriz de fases para el plot\n",
    "phase_matrix = np.array(phase_values)\n",
    "\n",
    "# Graficar la fase como una imagen\n",
    "plt.imshow(remove_column_offsets(phase_matrix).T, aspect='auto',origin=\"lower\", extent=[x_values[0],x_values[-1], min(y_values[0]), max(y_values[0])], cmap='viridis')\n",
    "# plt.imshow(phase_matrix.T, aspect='auto',origin=\"lower\", extent=[x_values[0],x_values[-1], min(y_values[0]), max(y_values[0])], cmap='viridis')\n",
    "plt.colorbar(label='Fase (Phase)')\n",
    "plt.title('Mapa de Fase en Función del Eje X y Frecuencia (Y)')\n",
    "plt.xlabel('Eje X')\n",
    "plt.ylabel('Frecuencia (Y)')\n",
    "plt.show()"
   ]
  },
  {
   "cell_type": "code",
   "execution_count": null,
   "metadata": {},
   "outputs": [],
   "source": [
    "# Ruta al archivo del eje X\n",
    "x_file = 'data_temp/FBW10S4_204062.txt'\n",
    "# Cargar datos del eje X\n",
    "x_values = load_x_data(x_file)\n",
    "print(x_values)\n"
   ]
  },
  {
   "cell_type": "code",
   "execution_count": null,
   "metadata": {},
   "outputs": [],
   "source": [
    "x_values"
   ]
  },
  {
   "cell_type": "code",
   "execution_count": null,
   "metadata": {},
   "outputs": [],
   "source": [
    "fig, ax = plt.subplots(1,1)\n",
    "ax.imshow()"
   ]
  }
 ],
 "metadata": {
  "kernelspec": {
   "display_name": "ferbo",
   "language": "python",
   "name": "python3"
  },
  "language_info": {
   "codemirror_mode": {
    "name": "ipython",
    "version": 3
   },
   "file_extension": ".py",
   "mimetype": "text/x-python",
   "name": "python",
   "nbconvert_exporter": "python",
   "pygments_lexer": "ipython3",
   "version": "3.11.7"
  }
 },
 "nbformat": 4,
 "nbformat_minor": 2
}
