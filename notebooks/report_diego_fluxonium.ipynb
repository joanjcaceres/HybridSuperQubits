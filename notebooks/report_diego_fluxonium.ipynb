{
 "cells": [
  {
   "cell_type": "code",
   "execution_count": 1,
   "metadata": {},
   "outputs": [],
   "source": [
    "%load_ext autoreload\n",
    "%autoreload 2\n",
    "import sys\n",
    "import h5py\n",
    "from tqdm.notebook import tqdm\n",
    "import scqubits as sq\n",
    "sys.path.append('..')\n",
    "filedirectory = \"\\\\Users\\\\diego\\\\Documents\\\\resilio_FERBO\\\\FB_W10_S4\\\\run3\\\\\"\n",
    "from src.utilities import *\n",
    "from scipy.optimize import curve_fit\n",
    "from src.fitting import get_transitions_from_levels, plot_transitions\n",
    "from ipywidgets import interact, IntSlider\n",
    "import ipywidgets as widgets\n",
    "%matplotlib inline"
   ]
  },
  {
   "cell_type": "code",
   "execution_count": 2,
   "metadata": {},
   "outputs": [],
   "source": [
    "datasets = {\n",
    "    # 'sts_power':        409931,\n",
    "    # 'res_fluq':         416866,\n",
    "    # 'two_res':          200907,\n",
    "    'sts_flux':         411703,\n",
    "    'sts_flux_zoom':    413199,\n",
    "    # 'flux_drifting':    421220,\n",
    "    # 'sts_power_change': 418329,   \n",
    "    # 'sts_power_change2':421479,\n",
    "    # 'tts_left':         422696,\n",
    "    # 'tts_upper':        422958,\n",
    "    # 'tts_lower':        424530,\n",
    "    # 'tts_zero':         422231,\n",
    "    # 'tts_double':       401277,\n",
    "    # 'rabi':             406035,\n",
    "    # 'rabi_chevron':     426128,\n",
    "    # 't1':               405783,    \n",
    "    # 'ramsey':           421172,\n",
    "    # 'flux_center':      427297,\n",
    "}"
   ]
  },
  {
   "cell_type": "code",
   "execution_count": null,
   "metadata": {},
   "outputs": [],
   "source": [
    "data = {}\n",
    "for key, datanumber in tqdm(datasets.items()):\n",
    "    data[key] = load_data(filedirectory +str(datanumber))\n",
    "    if 'freq' in data[key]:\n",
    "        data[key]['freq'] *= 1e-9\n",
    "    elif 'detuning' in data[key]:\n",
    "        data[key]['detuning'] *= 1e-6"
   ]
  },
  {
   "cell_type": "code",
   "execution_count": null,
   "metadata": {},
   "outputs": [],
   "source": [
    "voltage_period = 3.033\n",
    "zero_flux = 1.5373\n",
    "\n",
    "for key in ['sts_flux','sts_flux_zoom']:\n",
    "    data[key]['phi'] = (data[key]['flux']-zero_flux)/voltage_period\n",
    "\n",
    "fig, ax = plt.subplots(1,2,figsize=(8,5))\n",
    "plot3D(\n",
    "    data_dict=data['sts_flux'],\n",
    "    x_key='phi',\n",
    "    y_key='freq',\n",
    "    z_key='amp',\n",
    "    ax=ax[0,0],\n",
    "    fig=fig\n",
    ")\n",
    "\n",
    "plot3D(\n",
    "    data_dict=data['sts_flux_zoom'],\n",
    "    x_key='phi',\n",
    "    y_key='freq',\n",
    "    z_key='amp',\n",
    "    ax=ax[1,0],\n",
    "    fig=fig\n",
    ")\n",
    "\n",
    "\n",
    "for ax in ax.flat:\n",
    "    ax.set_xlabel(r'$\\Phi/\\Phi_0$')\n",
    "    ax.set_ylabel('Frequency [GHz]')\n",
    "\n",
    "plt.show()"
   ]
  },
  {
   "cell_type": "code",
   "execution_count": null,
   "metadata": {},
   "outputs": [],
   "source": []
  },
  {
   "cell_type": "code",
   "execution_count": null,
   "metadata": {},
   "outputs": [],
   "source": []
  },
  {
   "cell_type": "code",
   "execution_count": null,
   "metadata": {},
   "outputs": [],
   "source": []
  },
  {
   "cell_type": "code",
   "execution_count": null,
   "metadata": {},
   "outputs": [],
   "source": []
  },
  {
   "cell_type": "code",
   "execution_count": null,
   "metadata": {},
   "outputs": [],
   "source": []
  }
 ],
 "metadata": {
  "kernelspec": {
   "display_name": "ferbo",
   "language": "python",
   "name": "python3"
  },
  "language_info": {
   "codemirror_mode": {
    "name": "ipython",
    "version": 3
   },
   "file_extension": ".py",
   "mimetype": "text/x-python",
   "name": "python",
   "nbconvert_exporter": "python",
   "pygments_lexer": "ipython3",
   "version": "3.12.2"
  }
 },
 "nbformat": 4,
 "nbformat_minor": 2
}
