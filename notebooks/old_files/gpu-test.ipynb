{
 "cells": [
  {
   "cell_type": "code",
   "execution_count": 1,
   "metadata": {},
   "outputs": [
    {
     "name": "stderr",
     "output_type": "stream",
     "text": [
      "c:\\Users\\jc269556\\Anaconda3\\envs\\gpu\\lib\\site-packages\\qutip\\__init__.py:96: UserWarning: matplotlib not found: Graphics will not work.\n",
      "  warnings.warn(\"matplotlib not found: Graphics will not work.\")\n"
     ]
    }
   ],
   "source": [
    "import cupy as cp  # Importar CuPy\n",
    "from qutip import *\n",
    "import dask\n",
    "from dask import delayed\n",
    "import dask.bag as db\n",
    "from dask.distributed import Client, LocalCluster, progress\n",
    "import functions_fbq\n",
    "from functions_fbq import *\n",
    "from scipy.interpolate import CubicSpline"
   ]
  },
  {
   "cell_type": "code",
   "execution_count": 50,
   "metadata": {},
   "outputs": [
    {
     "name": "stderr",
     "output_type": "stream",
     "text": [
      "c:\\Users\\jc269556\\Anaconda3\\envs\\gpu\\lib\\site-packages\\distributed\\node.py:179: UserWarning: Port 8787 is already in use.\n",
      "Perhaps you already have a cluster running?\n",
      "Hosting the HTTP server on port 57891 instead\n",
      "  warnings.warn(\n"
     ]
    }
   ],
   "source": [
    "cluster = LocalCluster(n_workers=20, threads_per_worker=1)\n",
    "client = Client(cluster)\n",
    "print(client)"
   ]
  },
  {
   "cell_type": "code",
   "execution_count": 117,
   "metadata": {},
   "outputs": [],
   "source": [
    "def eigensystem_and_matrix_elements_sqr_fbq(Ec,El,EDelta,phi_ext,r, N = 200, eigvals = 0):\n",
    "    # Obtain the eigenvalues, eigenkets and the |<1|O|0>|^2 of the n operator, phi operator and dH/dphi_ext operator.\n",
    "    phi_ZPF = (2.0 * Ec / El) ** 0.25\n",
    "    div_factor = 1 / (float(phi_ZPF) * 2)\n",
    "    mul_factor = float(phi_ZPF)\n",
    "    \n",
    "    N_op = Qobj(1j * (destroy(N).dag() - destroy(N)).data.toarray() * div_factor)  # Multiplicar directamente por div_factor\n",
    "    phi_op = Qobj((destroy(N).dag() + destroy(N)).data.toarray() * mul_factor)\n",
    "\n",
    "    phi_op_cupy = cp.array(phi_op.data.toarray())\n",
    "    r_cupy = cp.array(r)\n",
    "\n",
    "    delta = phi_op-phi_ext\n",
    "    ReZ = cp.cos(phi_op_cupy / 2) * cp.cos(r_cupy * phi_op_cupy / 2) + r_cupy * cp.sin(phi_op_cupy / 2) * cp.sin(r_cupy * phi_op_cupy / 2)  # Re(Z) of the Hamiltonian\n",
    "    ImZ = -cp.cos(phi_op_cupy / 2) * cp.sin(r_cupy * phi_op_cupy / 2) + r_cupy * cp.sin(phi_op_cupy / 2) * cp.cos(r_cupy * phi_op_cupy / 2)  # Im(Z) of the Hamiltonian\n",
    "\n",
    "    H = 4*Ec*tensor(N_op,qeye(2))**2 + 0.5*El*tensor(delta,qeye(2))**2 + EDelta*(tensor(ReZ,sigmaz())+tensor(ImZ,sigmay())) #Hamiltonian.\n",
    "    evals,ekets=H.eigenstates(eigvals=eigvals)\n",
    "    evals = np.real(evals)\n",
    "\n",
    "    dReZdr = 1/2*(r*phi_op*(r*phi_op/2).cosm()*(phi_op/2).sinm()+(-phi_op*(phi_op/2).cosm()+2*(phi_op/2).sinm())*(r*phi_op/2).sinm())\n",
    "    dImZdr = -1/2*(r*phi_op/2).cosm()*(phi_op*(phi_op/2).cosm()-2*(phi_op/2).sinm())-1/2*r*phi_op*(phi_op/2).sinm()*(r*phi_op/2).sinm()\n",
    "    dHdr = EDelta*(tensor(dReZdr,sigmaz())+tensor(dImZdr,sigmay()))\n",
    "\n",
    "    N_op01 = tensor(N_op,qeye(2)).matrix_element(ekets[1],ekets[0]) \n",
    "    phi_op01 = tensor(phi_op,qeye(2)).matrix_element(ekets[1],ekets[0])\n",
    "    dHdr_op01 = dHdr.matrix_element(ekets[1],ekets[0])\n",
    "\n",
    "    matrix_op_sqr_list = np.array([N_op01,phi_op01,dHdr_op01])\n",
    "    return evals,ekets,matrix_op_sqr_list\n",
    "\n",
    "def eigenenergies_fbq(Ec,El,EDelta,phi_ext,r, N = 200, eigvals = 0):\n",
    "    # ONLY EIGENVALUES OF THE FERMIONIC-BOSONIC QUBIT \n",
    "\n",
    "    phi_ZPF = (2.0 * Ec / El) ** 0.25\n",
    "    div_factor = 1 / (float(phi_ZPF) * 2)\n",
    "    mul_factor = float(phi_ZPF)\n",
    "    \n",
    "    N_op = Qobj(1j * (destroy(N).dag() - destroy(N)).data.toarray() * div_factor)  # Multiplicar directamente por div_factor\n",
    "    phi_op = Qobj((destroy(N).dag() + destroy(N)).data.toarray() * mul_factor)\n",
    "\n",
    "    phi_op_cupy = cp.array(phi_op.data.toarray())\n",
    "    r_cupy = cp.array(r)\n",
    "    \n",
    "    delta = phi_op - phi_ext\n",
    "    ReZ = cp.cos(phi_op_cupy / 2) * cp.cos(r_cupy * phi_op_cupy / 2) + r_cupy * cp.sin(phi_op_cupy / 2) * cp.sin(r_cupy * phi_op_cupy / 2)  # Re(Z) of the Hamiltonian\n",
    "    ImZ = -cp.cos(phi_op_cupy / 2) * cp.sin(r_cupy * phi_op_cupy / 2) + r_cupy * cp.sin(phi_op_cupy / 2) * cp.cos(r_cupy * phi_op_cupy / 2)  # Im(Z) of the Hamiltonian\n",
    "\n",
    "    H = 4*Ec*tensor(N_op**2,qeye(2)) + 0.5*El*tensor((delta)**2,qeye(2)) + EDelta*(tensor(ReZ,sigmaz())+tensor(ImZ,sigmay())) #Hamiltonian.\n",
    "    evals=H.eigenenergies(eigvals=eigvals)\n",
    "\n",
    "    return evals"
   ]
  },
  {
   "cell_type": "code",
   "execution_count": 118,
   "metadata": {},
   "outputs": [],
   "source": [
    "Ec = 40e9\n",
    "EDelta = 20e9\n",
    "eigvals = 2\n",
    "phi_ext = cp.pi  # Usar cp.pi en lugar de np.pi\n",
    "\n",
    "El_list = cp.logspace(cp.log10(10e6), cp.log10(50e9), 30)  # Reemplazar np.logspace con cp.logspace\n",
    "r_list = cp.linspace(0.01, 0.99, 30)  # Reemplazar np.linspace con cp.linspace\n",
    "El_r_pairs = [(El, r) for El in El_list for r in r_list]"
   ]
  },
  {
   "cell_type": "code",
   "execution_count": 119,
   "metadata": {},
   "outputs": [],
   "source": [
    "# Cambiar a CuPy en lugar de NumPy para las matrices\n",
    "f01_list = cp.zeros((len(El_list), len(r_list)))\n",
    "dHdphiext_over_Delta_sqr_list = cp.zeros((len(El_list), len(r_list)))\n",
    "dHdnext_over_Delta_sqr_list = cp.zeros((len(El_list), len(r_list)))\n",
    "dHdr_over_Delta_sqr_list = cp.zeros((len(El_list), len(r_list)))\n",
    "d2E01dphi2_list = cp.zeros((len(El_list), len(r_list)))"
   ]
  },
  {
   "cell_type": "code",
   "execution_count": 120,
   "metadata": {},
   "outputs": [],
   "source": [
    "def process_r(El, r):\n",
    "    # Aquí es donde podrías encontrar problemas de compatibilidad entre CuPy y otras bibliotecas como qutip\n",
    "\n",
    "    El = cp.array(El) if cp.ndim(El) > 0 else cp.array([El])\n",
    "    Ec = cp.array([40e9] * len(El))\n",
    "    EDelta = cp.array([20e9] * len(El))\n",
    "    \n",
    "    eigvals_list, _, matrix_op_sqr_list = eigensystem_and_matrix_elements_sqr_fbq(Ec, El, EDelta, phi_ext, r, N=100, eigvals=eigvals)\n",
    "    f01 = cp.real(eigvals_list[1] - eigvals_list[0])  # Usar cp.real en lugar de np.real\n",
    "    n_matrix_element = matrix_op_sqr_list[0]\n",
    "    phi_matrix_element = matrix_op_sqr_list[1]\n",
    "    dH_dr_element = matrix_op_sqr_list[2]\n",
    "\n",
    "    phi_ext_list_lower = cp.linspace(phi_ext - 0.01, phi_ext, 5, endpoint=False)  # Reemplazar np.linspace con cp.linspace\n",
    "    phi_ext_list_upper = cp.linspace(phi_ext, phi_ext + 0.01, 6, endpoint=True)[1:]  # Reemplazar np.linspace con cp.linspace\n",
    "    eigvals_list_lower = cp.zeros(len(phi_ext_list_lower))  # Reemplazar np.zeros con cp.zeros\n",
    "    eigvals_list_upper = cp.zeros(len(phi_ext_list_upper))  # Reemplazar np.zeros con cp.zeros\n",
    "    for i, phi_ext_aux in enumerate(phi_ext_list_upper):\n",
    "            evals = eigenenergies_fbq(Ec, El, EDelta, phi_ext_aux, r, N=100, eigvals=2)\n",
    "            eigvals_list_upper[i] = cp.real(evals[1] - evals[0])  # Usar cp.real en lugar de np.real\n",
    "\n",
    "    phi_ext_list = cp.concatenate([phi_ext_list_lower, [phi_ext], phi_ext_list_upper])  # Reemplazar np.concatenate con cp.concatenate\n",
    "    eigvals_phi_ext_list = cp.concatenate([eigvals_list_lower, [f01], eigvals_list_upper])  # Reemplazar np.concatenate con cp.concatenate\n",
    "\n",
    "    # La interpolación cúbica de SciPy no funciona directamente con CuPy, así que necesitas convertir a NumPy antes de usarla\n",
    "    phi_ext_list_np = cp.asnumpy(phi_ext_list)\n",
    "    eigvals_phi_ext_list_np = cp.asnumpy(eigvals_phi_ext_list)\n",
    "    cubic_spline = CubicSpline(phi_ext_list_np, eigvals_phi_ext_list_np)\n",
    "\n",
    "    second_derivative_spline = cubic_spline.derivative(2)\n",
    "    second_derivative_x0 = second_derivative_spline(cp.asnumpy(phi_ext))  # Convertir phi_ext a NumPy antes de usarlo en el spline\n",
    "\n",
    "    return f01, phi_matrix_element, n_matrix_element, dH_dr_element, second_derivative_x0\n"
   ]
  },
  {
   "cell_type": "code",
   "execution_count": 121,
   "metadata": {},
   "outputs": [],
   "source": [
    "results_bag = db.from_sequence(El_r_pairs).map(lambda x: process_r(x[0], x[1]))"
   ]
  },
  {
   "cell_type": "code",
   "execution_count": 122,
   "metadata": {},
   "outputs": [
    {
     "ename": "TypeError",
     "evalue": "Unsupported type <class 'qutip.qobj.Qobj'>",
     "output_type": "error",
     "traceback": [
      "\u001b[1;31m---------------------------------------------------------------------------\u001b[0m",
      "\u001b[1;31mTypeError\u001b[0m                                 Traceback (most recent call last)",
      "Cell \u001b[1;32mIn[122], line 2\u001b[0m\n\u001b[0;32m      1\u001b[0m El_test, r_test \u001b[39m=\u001b[39m El_list[\u001b[39m0\u001b[39m], r_list[\u001b[39m0\u001b[39m]\n\u001b[1;32m----> 2\u001b[0m result_test \u001b[39m=\u001b[39m process_r(El_test, r_test)\n\u001b[0;32m      3\u001b[0m \u001b[39mprint\u001b[39m(result_test)\n",
      "Cell \u001b[1;32mIn[120], line 8\u001b[0m, in \u001b[0;36mprocess_r\u001b[1;34m(El, r)\u001b[0m\n\u001b[0;32m      5\u001b[0m Ec \u001b[39m=\u001b[39m cp\u001b[39m.\u001b[39marray([\u001b[39m40e9\u001b[39m] \u001b[39m*\u001b[39m \u001b[39mlen\u001b[39m(El))\n\u001b[0;32m      6\u001b[0m EDelta \u001b[39m=\u001b[39m cp\u001b[39m.\u001b[39marray([\u001b[39m20e9\u001b[39m] \u001b[39m*\u001b[39m \u001b[39mlen\u001b[39m(El))\n\u001b[1;32m----> 8\u001b[0m eigvals_list, _, matrix_op_sqr_list \u001b[39m=\u001b[39m eigensystem_and_matrix_elements_sqr_fbq(Ec, El, EDelta, phi_ext, r, N\u001b[39m=\u001b[39;49m\u001b[39m100\u001b[39;49m, eigvals\u001b[39m=\u001b[39;49meigvals)\n\u001b[0;32m      9\u001b[0m f01 \u001b[39m=\u001b[39m cp\u001b[39m.\u001b[39mreal(eigvals_list[\u001b[39m1\u001b[39m] \u001b[39m-\u001b[39m eigvals_list[\u001b[39m0\u001b[39m])  \u001b[39m# Usar cp.real en lugar de np.real\u001b[39;00m\n\u001b[0;32m     10\u001b[0m n_matrix_element \u001b[39m=\u001b[39m matrix_op_sqr_list[\u001b[39m0\u001b[39m]\n",
      "Cell \u001b[1;32mIn[117], line 17\u001b[0m, in \u001b[0;36meigensystem_and_matrix_elements_sqr_fbq\u001b[1;34m(Ec, El, EDelta, phi_ext, r, N, eigvals)\u001b[0m\n\u001b[0;32m     14\u001b[0m ReZ \u001b[39m=\u001b[39m cp\u001b[39m.\u001b[39mcos(phi_op_cupy \u001b[39m/\u001b[39m \u001b[39m2\u001b[39m) \u001b[39m*\u001b[39m cp\u001b[39m.\u001b[39mcos(r_cupy \u001b[39m*\u001b[39m phi_op_cupy \u001b[39m/\u001b[39m \u001b[39m2\u001b[39m) \u001b[39m+\u001b[39m r_cupy \u001b[39m*\u001b[39m cp\u001b[39m.\u001b[39msin(phi_op_cupy \u001b[39m/\u001b[39m \u001b[39m2\u001b[39m) \u001b[39m*\u001b[39m cp\u001b[39m.\u001b[39msin(r_cupy \u001b[39m*\u001b[39m phi_op_cupy \u001b[39m/\u001b[39m \u001b[39m2\u001b[39m)  \u001b[39m# Re(Z) of the Hamiltonian\u001b[39;00m\n\u001b[0;32m     15\u001b[0m ImZ \u001b[39m=\u001b[39m \u001b[39m-\u001b[39mcp\u001b[39m.\u001b[39mcos(phi_op_cupy \u001b[39m/\u001b[39m \u001b[39m2\u001b[39m) \u001b[39m*\u001b[39m cp\u001b[39m.\u001b[39msin(r_cupy \u001b[39m*\u001b[39m phi_op_cupy \u001b[39m/\u001b[39m \u001b[39m2\u001b[39m) \u001b[39m+\u001b[39m r_cupy \u001b[39m*\u001b[39m cp\u001b[39m.\u001b[39msin(phi_op_cupy \u001b[39m/\u001b[39m \u001b[39m2\u001b[39m) \u001b[39m*\u001b[39m cp\u001b[39m.\u001b[39mcos(r_cupy \u001b[39m*\u001b[39m phi_op_cupy \u001b[39m/\u001b[39m \u001b[39m2\u001b[39m)  \u001b[39m# Im(Z) of the Hamiltonian\u001b[39;00m\n\u001b[1;32m---> 17\u001b[0m H \u001b[39m=\u001b[39m \u001b[39m4\u001b[39;49m\u001b[39m*\u001b[39;49mEc\u001b[39m*\u001b[39;49mtensor(N_op,qeye(\u001b[39m2\u001b[39;49m))\u001b[39m*\u001b[39;49m\u001b[39m*\u001b[39;49m\u001b[39m2\u001b[39;49m \u001b[39m+\u001b[39m \u001b[39m0.5\u001b[39m\u001b[39m*\u001b[39mEl\u001b[39m*\u001b[39mtensor(delta,qeye(\u001b[39m2\u001b[39m))\u001b[39m*\u001b[39m\u001b[39m*\u001b[39m\u001b[39m2\u001b[39m \u001b[39m+\u001b[39m EDelta\u001b[39m*\u001b[39m(tensor(ReZ,sigmaz())\u001b[39m+\u001b[39mtensor(ImZ,sigmay())) \u001b[39m#Hamiltonian.\u001b[39;00m\n\u001b[0;32m     18\u001b[0m evals,ekets\u001b[39m=\u001b[39mH\u001b[39m.\u001b[39meigenstates(eigvals\u001b[39m=\u001b[39meigvals)\n\u001b[0;32m     19\u001b[0m evals \u001b[39m=\u001b[39m np\u001b[39m.\u001b[39mreal(evals)\n",
      "File \u001b[1;32mcupy/core/core.pyx:1027\u001b[0m, in \u001b[0;36mcupy.core.core.ndarray.__mul__\u001b[1;34m()\u001b[0m\n",
      "File \u001b[1;32mcupy/core/_kernel.pyx:1041\u001b[0m, in \u001b[0;36mcupy.core._kernel.ufunc.__call__\u001b[1;34m()\u001b[0m\n",
      "File \u001b[1;32mcupy/core/_kernel.pyx:104\u001b[0m, in \u001b[0;36mcupy.core._kernel._preprocess_args\u001b[1;34m()\u001b[0m\n",
      "\u001b[1;31mTypeError\u001b[0m: Unsupported type <class 'qutip.qobj.Qobj'>"
     ]
    }
   ],
   "source": [
    "El_test, r_test = El_list[0], r_list[0]\n",
    "result_test = process_r(El_test, r_test)\n",
    "print(result_test)"
   ]
  },
  {
   "cell_type": "code",
   "execution_count": null,
   "metadata": {},
   "outputs": [],
   "source": []
  },
  {
   "cell_type": "code",
   "execution_count": 17,
   "metadata": {},
   "outputs": [
    {
     "ename": "TypeError",
     "evalue": "Incompatible object for division",
     "output_type": "error",
     "traceback": [
      "\u001b[1;31m---------------------------------------------------------------------------\u001b[0m",
      "\u001b[1;31mTypeError\u001b[0m                                 Traceback (most recent call last)",
      "Cell \u001b[1;32mIn[17], line 2\u001b[0m\n\u001b[0;32m      1\u001b[0m \u001b[39m# Calcular los resultados\u001b[39;00m\n\u001b[1;32m----> 2\u001b[0m computed_results \u001b[39m=\u001b[39m dask\u001b[39m.\u001b[39;49mcompute(\u001b[39m*\u001b[39;49mresults_bag)\n",
      "File \u001b[1;32mc:\\Users\\jc269556\\Anaconda3\\envs\\gpu\\lib\\site-packages\\dask\\base.py:603\u001b[0m, in \u001b[0;36mcompute\u001b[1;34m(traverse, optimize_graph, scheduler, get, *args, **kwargs)\u001b[0m\n\u001b[0;32m    600\u001b[0m     keys\u001b[39m.\u001b[39mappend(x\u001b[39m.\u001b[39m__dask_keys__())\n\u001b[0;32m    601\u001b[0m     postcomputes\u001b[39m.\u001b[39mappend(x\u001b[39m.\u001b[39m__dask_postcompute__())\n\u001b[1;32m--> 603\u001b[0m results \u001b[39m=\u001b[39m schedule(dsk, keys, \u001b[39m*\u001b[39m\u001b[39m*\u001b[39mkwargs)\n\u001b[0;32m    604\u001b[0m \u001b[39mreturn\u001b[39;00m repack([f(r, \u001b[39m*\u001b[39ma) \u001b[39mfor\u001b[39;00m r, (f, a) \u001b[39min\u001b[39;00m \u001b[39mzip\u001b[39m(results, postcomputes)])\n",
      "File \u001b[1;32mc:\\Users\\jc269556\\Anaconda3\\envs\\gpu\\lib\\site-packages\\distributed\\client.py:3000\u001b[0m, in \u001b[0;36mClient.get\u001b[1;34m(self, dsk, keys, workers, allow_other_workers, resources, sync, asynchronous, direct, retries, priority, fifo_timeout, actors, **kwargs)\u001b[0m\n\u001b[0;32m   2998\u001b[0m         should_rejoin \u001b[39m=\u001b[39m \u001b[39mFalse\u001b[39;00m\n\u001b[0;32m   2999\u001b[0m \u001b[39mtry\u001b[39;00m:\n\u001b[1;32m-> 3000\u001b[0m     results \u001b[39m=\u001b[39m \u001b[39mself\u001b[39;49m\u001b[39m.\u001b[39;49mgather(packed, asynchronous\u001b[39m=\u001b[39;49masynchronous, direct\u001b[39m=\u001b[39;49mdirect)\n\u001b[0;32m   3001\u001b[0m \u001b[39mfinally\u001b[39;00m:\n\u001b[0;32m   3002\u001b[0m     \u001b[39mfor\u001b[39;00m f \u001b[39min\u001b[39;00m futures\u001b[39m.\u001b[39mvalues():\n",
      "File \u001b[1;32mc:\\Users\\jc269556\\Anaconda3\\envs\\gpu\\lib\\site-packages\\distributed\\client.py:2174\u001b[0m, in \u001b[0;36mClient.gather\u001b[1;34m(self, futures, errors, direct, asynchronous)\u001b[0m\n\u001b[0;32m   2172\u001b[0m \u001b[39melse\u001b[39;00m:\n\u001b[0;32m   2173\u001b[0m     local_worker \u001b[39m=\u001b[39m \u001b[39mNone\u001b[39;00m\n\u001b[1;32m-> 2174\u001b[0m \u001b[39mreturn\u001b[39;00m \u001b[39mself\u001b[39;49m\u001b[39m.\u001b[39;49msync(\n\u001b[0;32m   2175\u001b[0m     \u001b[39mself\u001b[39;49m\u001b[39m.\u001b[39;49m_gather,\n\u001b[0;32m   2176\u001b[0m     futures,\n\u001b[0;32m   2177\u001b[0m     errors\u001b[39m=\u001b[39;49merrors,\n\u001b[0;32m   2178\u001b[0m     direct\u001b[39m=\u001b[39;49mdirect,\n\u001b[0;32m   2179\u001b[0m     local_worker\u001b[39m=\u001b[39;49mlocal_worker,\n\u001b[0;32m   2180\u001b[0m     asynchronous\u001b[39m=\u001b[39;49masynchronous,\n\u001b[0;32m   2181\u001b[0m )\n",
      "File \u001b[1;32mc:\\Users\\jc269556\\Anaconda3\\envs\\gpu\\lib\\site-packages\\distributed\\utils.py:338\u001b[0m, in \u001b[0;36mSyncMethodMixin.sync\u001b[1;34m(self, func, asynchronous, callback_timeout, *args, **kwargs)\u001b[0m\n\u001b[0;32m    336\u001b[0m     \u001b[39mreturn\u001b[39;00m future\n\u001b[0;32m    337\u001b[0m \u001b[39melse\u001b[39;00m:\n\u001b[1;32m--> 338\u001b[0m     \u001b[39mreturn\u001b[39;00m sync(\n\u001b[0;32m    339\u001b[0m         \u001b[39mself\u001b[39m\u001b[39m.\u001b[39mloop, func, \u001b[39m*\u001b[39margs, callback_timeout\u001b[39m=\u001b[39mcallback_timeout, \u001b[39m*\u001b[39m\u001b[39m*\u001b[39mkwargs\n\u001b[0;32m    340\u001b[0m     )\n",
      "File \u001b[1;32mc:\\Users\\jc269556\\Anaconda3\\envs\\gpu\\lib\\site-packages\\distributed\\utils.py:405\u001b[0m, in \u001b[0;36msync\u001b[1;34m(loop, func, callback_timeout, *args, **kwargs)\u001b[0m\n\u001b[0;32m    403\u001b[0m \u001b[39mif\u001b[39;00m error:\n\u001b[0;32m    404\u001b[0m     typ, exc, tb \u001b[39m=\u001b[39m error\n\u001b[1;32m--> 405\u001b[0m     \u001b[39mraise\u001b[39;00m exc\u001b[39m.\u001b[39mwith_traceback(tb)\n\u001b[0;32m    406\u001b[0m \u001b[39melse\u001b[39;00m:\n\u001b[0;32m    407\u001b[0m     \u001b[39mreturn\u001b[39;00m result\n",
      "File \u001b[1;32mc:\\Users\\jc269556\\Anaconda3\\envs\\gpu\\lib\\site-packages\\distributed\\utils.py:378\u001b[0m, in \u001b[0;36msync.<locals>.f\u001b[1;34m()\u001b[0m\n\u001b[0;32m    376\u001b[0m         future \u001b[39m=\u001b[39m asyncio\u001b[39m.\u001b[39mwait_for(future, callback_timeout)\n\u001b[0;32m    377\u001b[0m     future \u001b[39m=\u001b[39m asyncio\u001b[39m.\u001b[39mensure_future(future)\n\u001b[1;32m--> 378\u001b[0m     result \u001b[39m=\u001b[39m \u001b[39myield\u001b[39;00m future\n\u001b[0;32m    379\u001b[0m \u001b[39mexcept\u001b[39;00m \u001b[39mException\u001b[39;00m:\n\u001b[0;32m    380\u001b[0m     error \u001b[39m=\u001b[39m sys\u001b[39m.\u001b[39mexc_info()\n",
      "File \u001b[1;32mc:\\Users\\jc269556\\Anaconda3\\envs\\gpu\\lib\\site-packages\\tornado\\gen.py:762\u001b[0m, in \u001b[0;36mRunner.run\u001b[1;34m(self)\u001b[0m\n\u001b[0;32m    759\u001b[0m exc_info \u001b[39m=\u001b[39m \u001b[39mNone\u001b[39;00m\n\u001b[0;32m    761\u001b[0m \u001b[39mtry\u001b[39;00m:\n\u001b[1;32m--> 762\u001b[0m     value \u001b[39m=\u001b[39m future\u001b[39m.\u001b[39;49mresult()\n\u001b[0;32m    763\u001b[0m \u001b[39mexcept\u001b[39;00m \u001b[39mException\u001b[39;00m:\n\u001b[0;32m    764\u001b[0m     exc_info \u001b[39m=\u001b[39m sys\u001b[39m.\u001b[39mexc_info()\n",
      "File \u001b[1;32mc:\\Users\\jc269556\\Anaconda3\\envs\\gpu\\lib\\site-packages\\distributed\\client.py:2037\u001b[0m, in \u001b[0;36mClient._gather\u001b[1;34m(self, futures, errors, direct, local_worker)\u001b[0m\n\u001b[0;32m   2035\u001b[0m         exc \u001b[39m=\u001b[39m CancelledError(key)\n\u001b[0;32m   2036\u001b[0m     \u001b[39melse\u001b[39;00m:\n\u001b[1;32m-> 2037\u001b[0m         \u001b[39mraise\u001b[39;00m exception\u001b[39m.\u001b[39mwith_traceback(traceback)\n\u001b[0;32m   2038\u001b[0m     \u001b[39mraise\u001b[39;00m exc\n\u001b[0;32m   2039\u001b[0m \u001b[39mif\u001b[39;00m errors \u001b[39m==\u001b[39m \u001b[39m\"\u001b[39m\u001b[39mskip\u001b[39m\u001b[39m\"\u001b[39m:\n",
      "Cell \u001b[1;32mIn[15], line 4\u001b[0m, in \u001b[0;36mprocess_r\u001b[1;34m()\u001b[0m\n\u001b[0;32m      1\u001b[0m \u001b[39m@delayed\u001b[39m\n\u001b[0;32m      2\u001b[0m \u001b[39mdef\u001b[39;00m \u001b[39mprocess_r\u001b[39m(El, r):\n\u001b[0;32m      3\u001b[0m     \u001b[39m# Aquí es donde podrías encontrar problemas de compatibilidad entre CuPy y otras bibliotecas como qutip\u001b[39;00m\n\u001b[1;32m----> 4\u001b[0m     eigvals_list, _, matrix_op_sqr_list \u001b[39m=\u001b[39m eigensystem_and_matrix_elements_sqr_fbq(Ec, El, EDelta, phi_ext, r, N\u001b[39m=\u001b[39m\u001b[39m100\u001b[39m, eigvals\u001b[39m=\u001b[39meigvals)\n\u001b[0;32m      5\u001b[0m     f01 \u001b[39m=\u001b[39m cp\u001b[39m.\u001b[39mreal(eigvals_list[\u001b[39m1\u001b[39m] \u001b[39m-\u001b[39m eigvals_list[\u001b[39m0\u001b[39m])  \u001b[39m# Usar cp.real en lugar de np.real\u001b[39;00m\n\u001b[0;32m      6\u001b[0m     n_matrix_element \u001b[39m=\u001b[39m matrix_op_sqr_list[\u001b[39m0\u001b[39m]\n",
      "File \u001b[1;32mc:\\Users\\jc269556\\Documents\\Fermionic-bosonic-qubit\\functions_fbq.py:100\u001b[0m, in \u001b[0;36meigensystem_and_matrix_elements_sqr_fbq\u001b[1;34m()\u001b[0m\n\u001b[0;32m     96\u001b[0m \u001b[39mdef\u001b[39;00m \u001b[39meigensystem_and_matrix_elements_sqr_fbq\u001b[39m(Ec,El,EDelta,phi_ext,r, N \u001b[39m=\u001b[39m \u001b[39m200\u001b[39m, eigvals \u001b[39m=\u001b[39m \u001b[39m0\u001b[39m):\n\u001b[0;32m     97\u001b[0m     \u001b[39m# Obtain the eigenvalues, eigenkets and the |<1|O|0>|^2 of the n operator, phi operator and dH/dphi_ext operator.\u001b[39;00m\n\u001b[0;32m     99\u001b[0m     phi_ZPF\u001b[39m=\u001b[39m(\u001b[39m2.0\u001b[39m \u001b[39m*\u001b[39m Ec \u001b[39m/\u001b[39m El) \u001b[39m*\u001b[39m\u001b[39m*\u001b[39m \u001b[39m0.25\u001b[39m\n\u001b[1;32m--> 100\u001b[0m     N_op  \u001b[39m=\u001b[39m \u001b[39m1\u001b[39mj \u001b[39m*\u001b[39m (destroy(N)\u001b[39m.\u001b[39mdag() \u001b[39m-\u001b[39m destroy(N)) \u001b[39m/\u001b[39m phi_ZPF \u001b[39m/\u001b[39m\u001b[39m2\u001b[39m\n\u001b[0;32m    101\u001b[0m     phi_op\u001b[39m=\u001b[39m (destroy(N)\u001b[39m.\u001b[39mdag() \u001b[39m+\u001b[39m destroy(N)) \u001b[39m*\u001b[39m phi_ZPF\n\u001b[0;32m    103\u001b[0m     delta \u001b[39m=\u001b[39m phi_op\u001b[39m-\u001b[39mphi_ext\n",
      "File \u001b[1;32mc:\\Users\\jc269556\\Anaconda3\\envs\\gpu\\lib\\site-packages\\qutip\\qobj.py:632\u001b[0m, in \u001b[0;36m__truediv__\u001b[1;34m()\u001b[0m\n\u001b[0;32m    631\u001b[0m \u001b[39mdef\u001b[39;00m \u001b[39m__truediv__\u001b[39m(\u001b[39mself\u001b[39m, other):\n\u001b[1;32m--> 632\u001b[0m     \u001b[39mreturn\u001b[39;00m \u001b[39mself\u001b[39m\u001b[39m.\u001b[39m__div__(other)\n",
      "File \u001b[1;32mc:\\Users\\jc269556\\Anaconda3\\envs\\gpu\\lib\\site-packages\\qutip\\qobj.py:659\u001b[0m, in \u001b[0;36m__div__\u001b[1;34m()\u001b[0m\n\u001b[0;32m    656\u001b[0m     \u001b[39mreturn\u001b[39;00m out\n\u001b[0;32m    658\u001b[0m \u001b[39melse\u001b[39;00m:\n\u001b[1;32m--> 659\u001b[0m     \u001b[39mraise\u001b[39;00m \u001b[39mTypeError\u001b[39;00m(\u001b[39m\"\u001b[39m\u001b[39mIncompatible object for division\u001b[39m\u001b[39m\"\u001b[39m)\n",
      "\u001b[1;31mTypeError\u001b[0m: Incompatible object for division"
     ]
    }
   ],
   "source": [
    "# Calcular los resultados\n",
    "computed_results = dask.compute(*results_bag)"
   ]
  },
  {
   "cell_type": "code",
   "execution_count": null,
   "metadata": {},
   "outputs": [],
   "source": []
  }
 ],
 "metadata": {
  "kernelspec": {
   "display_name": "gpu",
   "language": "python",
   "name": "python3"
  },
  "language_info": {
   "codemirror_mode": {
    "name": "ipython",
    "version": 3
   },
   "file_extension": ".py",
   "mimetype": "text/x-python",
   "name": "python",
   "nbconvert_exporter": "python",
   "pygments_lexer": "ipython3",
   "version": "3.9.16"
  },
  "orig_nbformat": 4
 },
 "nbformat": 4,
 "nbformat_minor": 2
}
