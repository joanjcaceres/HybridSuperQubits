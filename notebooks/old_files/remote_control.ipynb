{
 "cells": [
  {
   "cell_type": "code",
   "execution_count": 1,
   "metadata": {},
   "outputs": [],
   "source": [
    "import numpy as np\n",
    "from qutip import *\n",
    "import dask\n",
    "from dask import delayed\n",
    "import dask.bag as db\n",
    "from dask.distributed import Client, LocalCluster,progress\n",
    "from tqdm import tqdm\n",
    "import importlib\n",
    "import functions_fbq\n",
    "importlib.reload(functions_fbq)\n",
    "from functions_fbq import *\n",
    "import matplotlib.pyplot as plt\n",
    "import matplotlib.colors as colors\n",
    "from figurestyle import *\n",
    "figure_features()"
   ]
  },
  {
   "cell_type": "code",
   "execution_count": 8,
   "metadata": {},
   "outputs": [
    {
     "data": {
      "text/plain": [
       "{'tcp://132.166.20.131:64085': {'status': 'OK'}}"
      ]
     },
     "execution_count": 8,
     "metadata": {},
     "output_type": "execute_result"
    }
   ],
   "source": [
    "from dask.distributed import Client\n",
    "\n",
    "cliente = Client('tcp://132.166.20.131:8786')\n",
    "cliente.upload_file(\"functions_fbq.py\")"
   ]
  },
  {
   "cell_type": "code",
   "execution_count": 11,
   "metadata": {},
   "outputs": [],
   "source": [
    "Ec = 40e9\n",
    "EDelta = 20e9\n",
    "eigvals = 2\n",
    "phi_ext = np.pi\n",
    "\n",
    "El_list = 5 * 1e9 * np.logspace(-2, 1, 20)\n",
    "r_list = np.linspace(0.05, 0.95, 20)\n",
    "El_r_pairs = [(El, r) for El in El_list for r in r_list]\n",
    "\n",
    "phi_matrix_elements_list = np.zeros((len(El_list), len(r_list)))\n",
    "n_matrix_elements_list = np.zeros((len(El_list), len(r_list)))\n",
    "dHdr_matrix_elements_list = np.zeros((len(El_list), len(r_list)))\n",
    "d2E01dphi2_list = np.zeros((len(El_list), len(r_list)))"
   ]
  },
  {
   "cell_type": "code",
   "execution_count": 12,
   "metadata": {},
   "outputs": [],
   "source": [
    "@delayed\n",
    "def process_r(El, r):\n",
    "    eigvals_list, _, matrix_op_sqr_list = eigensystem_and_matrix_elements_Josephson(Ec, El, EDelta, phi_ext, r,100, eigvals)\n",
    "    phi_matrix_element = matrix_op_sqr_list[0]\n",
    "    n_matrix_element = matrix_op_sqr_list[1]\n",
    "    dH_dr_element = matrix_op_sqr_list[2]\n",
    "\n",
    "    phi_ext_list = np.linspace(phi_ext, phi_ext +0.1, 10)\n",
    "    eigvals_list = np.array([np.real(eigensystem_and_matrix_elements_Josephson(Ec, El, EDelta, phi_ext_aux, r, N = 100, eigvals = 2)[0][1] - eigensystem_and_matrix_elements_sqr_fbq(Ec, El, EDelta, 0, r, N = 50, eigvals = 2)[0][0]) for phi_ext_aux in phi_ext_list])\n",
    "\n",
    "    phi_ext_list = np.concatenate([-phi_ext_list[::-1][0:-1], phi_ext_list])\n",
    "    eigvals_list = np.concatenate([eigvals_list[::-1][0:-1], eigvals_list])\n",
    "\n",
    "    dE01_dphi = np.gradient(eigvals_list, phi_ext_list, edge_order=1)\n",
    "    d2E01_dphi2 = np.gradient(dE01_dphi, phi_ext_list, edge_order=1)\n",
    "    d2E01dphi2 = d2E01_dphi2[len(phi_ext_list) // 2]\n",
    "\n",
    "    return phi_matrix_element, n_matrix_element, dH_dr_element, d2E01dphi2"
   ]
  },
  {
   "cell_type": "code",
   "execution_count": 13,
   "metadata": {},
   "outputs": [],
   "source": [
    "# Crear un dask bag a partir de la lista de tuplas y mapear la función process_r\n",
    "results_bag = db.from_sequence(El_r_pairs).map(lambda x: process_r(x[0], x[1]))\n",
    "\n",
    "# Calcular los resultados\n",
    "computed_results = dask.compute(*results_bag)\n",
    "\n",
    "# Asignar los resultados a las matrices correspondientes\n",
    "k = 0\n",
    "for i, El in enumerate(El_list):\n",
    "    for j, r in enumerate(r_list):\n",
    "        phi_matrix_element, n_matrix_element, dH_dr_element, d2E01dphi2 = computed_results[k]\n",
    "        phi_matrix_elements_list[i, j] = El * np.abs(phi_matrix_element)\n",
    "        n_matrix_elements_list[i, j] = 8 * Ec * np.abs(n_matrix_element)\n",
    "        dHdr_matrix_elements_list[i, j] = np.abs(dH_dr_element)\n",
    "        d2E01dphi2_list[i, j] = np.abs(d2E01dphi2)\n",
    "        k += 1"
   ]
  },
  {
   "cell_type": "code",
   "execution_count": 14,
   "metadata": {},
   "outputs": [],
   "source": [
    "cliente.close()"
   ]
  },
  {
   "cell_type": "code",
   "execution_count": null,
   "metadata": {},
   "outputs": [],
   "source": []
  }
 ],
 "metadata": {
  "kernelspec": {
   "display_name": "parallel",
   "language": "python",
   "name": "python3"
  },
  "language_info": {
   "codemirror_mode": {
    "name": "ipython",
    "version": 3
   },
   "file_extension": ".py",
   "mimetype": "text/x-python",
   "name": "python",
   "nbconvert_exporter": "python",
   "pygments_lexer": "ipython3",
   "version": "3.10.9"
  },
  "orig_nbformat": 4
 },
 "nbformat": 4,
 "nbformat_minor": 2
}
