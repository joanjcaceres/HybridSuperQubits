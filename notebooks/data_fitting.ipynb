{
 "cells": [
  {
   "cell_type": "markdown",
   "metadata": {},
   "source": [
    "# Importing package"
   ]
  },
  {
   "cell_type": "code",
   "execution_count": 165,
   "metadata": {},
   "outputs": [
    {
     "name": "stdout",
     "output_type": "stream",
     "text": [
      "The autoreload extension is already loaded. To reload it, use:\n",
      "  %reload_ext autoreload\n"
     ]
    }
   ],
   "source": [
    "%load_ext autoreload\n",
    "%autoreload 2\n",
    "import sys\n",
    "import pandas as pd\n",
    "sys.path.append('..')\n",
    "filedirectory = \"//Users//joancaceres//Documents//FERBO//FB_W10_S4//run2//\"\n",
    "import scqubits as sq\n",
    "from scipy.optimize import differential_evolution\n",
    "from src.utilities import *\n",
    "from tqdm.notebook import tqdm\n",
    "from IPython.utils import io\n",
    "%matplotlib qt"
   ]
  },
  {
   "cell_type": "markdown",
   "metadata": {},
   "source": [
    "# Loading data"
   ]
  },
  {
   "cell_type": "code",
   "execution_count": 61,
   "metadata": {},
   "outputs": [],
   "source": [
    "voltage_period = 3.033\n",
    "zero_flux = 1.3668"
   ]
  },
  {
   "cell_type": "code",
   "execution_count": 62,
   "metadata": {},
   "outputs": [],
   "source": [
    "datasets = {}"
   ]
  },
  {
   "cell_type": "code",
   "execution_count": 252,
   "metadata": {},
   "outputs": [],
   "source": [
    "datanumbers = [\n",
    "    424403,\n",
    "    422958,# Large upper scan around phase = 0\n",
    "    422231, # Close look at phae = pi\n",
    "    424530, # Large bottom  scan around phase = pi\n",
    "]"
   ]
  },
  {
   "cell_type": "code",
   "execution_count": 303,
   "metadata": {},
   "outputs": [
    {
     "name": "stdout",
     "output_type": "stream",
     "text": [
      "['flux']\n",
      "['flux']\n",
      "['flux']\n",
      "['flux']\n"
     ]
    }
   ],
   "source": [
    "for number in datanumbers:\n",
    "    datasets[number] = load_data(filedirectory + \"FBW10S4_\" +str(number))\n",
    "    datasets[number]['freq'] = datasets[number]['freq']*1e-9\n",
    "    datasets[number]['phi'] = (datasets[number]['flux']-zero_flux)/voltage_period"
   ]
  },
  {
   "cell_type": "code",
   "execution_count": 304,
   "metadata": {},
   "outputs": [],
   "source": [
    "fig1, ax1 = plot3Ds(\n",
    "    data_dicts=datasets,\n",
    "    x_key='phi',\n",
    "    y_key='freq',\n",
    "    z_key='phase',\n",
    "    flatten_horizontal=1,\n",
    "    flatten_vertical=1,\n",
    "    vmin=-25,\n",
    "    vmax=50,\n",
    "    cmap='gray'\n",
    ")"
   ]
  },
  {
   "cell_type": "markdown",
   "metadata": {},
   "source": [
    "# Fluxonium visualization"
   ]
  },
  {
   "cell_type": "code",
   "execution_count": 229,
   "metadata": {},
   "outputs": [],
   "source": [
    "fluxonium_params = {\n",
    "    'EJ':   10.58,\n",
    "    'EC':   1.79,\n",
    "    'EL':   0.367,\n",
    "    'flux': 0\n",
    "}\n",
    "fluxonium = sq.Fluxonium(**fluxonium_params,cutoff=40)"
   ]
  },
  {
   "cell_type": "code",
   "execution_count": 232,
   "metadata": {},
   "outputs": [
    {
     "data": {
      "application/vnd.jupyter.widget-view+json": {
       "model_id": "d07237d0468a40018984e9e65617e435",
       "version_major": 2,
       "version_minor": 0
      },
      "text/plain": [
       "Spectral data:   0%|          | 0/101 [00:00<?, ?it/s]"
      ]
     },
     "metadata": {},
     "output_type": "display_data"
    }
   ],
   "source": [
    "flux_array = np.linspace(-0.5,0.5,101)\n",
    "fluxspec = fluxonium.get_spectrum_vs_paramvals(\n",
    "    param_name='flux',\n",
    "    param_vals=flux_array,\n",
    "    evals_count=6,\n",
    "    subtract_ground=False\n",
    ")"
   ]
  },
  {
   "cell_type": "code",
   "execution_count": 233,
   "metadata": {},
   "outputs": [],
   "source": [
    "evals_matrix = fluxspec.energy_table\n",
    "transitions0 = evals_matrix - evals_matrix[:,0].reshape(-1,1)\n",
    "transitions1 = evals_matrix - evals_matrix[:,1].reshape(-1,1)\n",
    "transitions2 = evals_matrix - evals_matrix[:,2].reshape(-1,1)\n",
    "\n",
    "transitions0 = np.delete(transitions0,0,axis=1)\n",
    "transitions1 = np.delete(transitions1,[0,1],axis=1)\n",
    "transitions2 = np.delete(transitions2,[0,1,2],axis=1)"
   ]
  },
  {
   "cell_type": "code",
   "execution_count": 234,
   "metadata": {},
   "outputs": [],
   "source": [
    "fig2,ax2 = plt.subplots(1,1)\n",
    "ax2.plot(flux_array,transitions0, linestyle='--', color='C0', alpha=0.8)\n",
    "ax2.plot(flux_array,transitions1, linestyle='--', color='C1', alpha=0.8)\n",
    "plt.show()"
   ]
  },
  {
   "cell_type": "markdown",
   "metadata": {},
   "source": [
    "# Fluxonium fitting"
   ]
  },
  {
   "cell_type": "code",
   "execution_count": 292,
   "metadata": {},
   "outputs": [],
   "source": [
    "datafit_dir = \"../data/data_fitting/\"\n",
    "transition01 = pd.read_csv(datafit_dir + 'E01.csv', delimiter=';', decimal=',',header=None, names=['phi','e01'])\n",
    "transition02 = pd.read_csv(datafit_dir + 'E02.csv', delimiter=';', decimal=',',header=None, names=['phi','e02'])\n",
    "# t02_2 = pd.read_csv(datafit_dir + 'E02_2.csv', delimiter=';', decimal=',',header=None, names=['phi','e02'])\n",
    "# transition02 = pd.concat([t02, t02_2], ignore_index=True)\n",
    "transition03 = pd.read_csv(datafit_dir + 'E03_1.csv', delimiter=';', decimal=',',header=None, names=['phi','e03'])"
   ]
  },
  {
   "cell_type": "code",
   "execution_count": 296,
   "metadata": {},
   "outputs": [],
   "source": [
    "def minimizer(params):\n",
    "    EJ,EC,EL = params\n",
    "    EJ,EC,EL = EJ*10,EC,EL/10\n",
    "    fluxonium = sq.Fluxonium(EJ=EJ,EC=EC,EL=EL,flux=0,cutoff=40)\n",
    "    \n",
    "    flux_array1 = transition01['phi'].values\n",
    "    with io.capture_output() as captured:\n",
    "        val = fluxonium.get_spectrum_vs_paramvals(param_name='flux', param_vals=flux_array1, evals_count=2, subtract_ground=True)\n",
    "    e01 = val.energy_table[:,1]\n",
    "    e01_exp = transition01['e01'].values\n",
    "    \n",
    "    flux_array2 = transition02['phi'].values\n",
    "    with io.capture_output() as captured:\n",
    "        val = fluxonium.get_spectrum_vs_paramvals(param_name='flux', param_vals=flux_array2, evals_count=3, subtract_ground=True)\n",
    "    e02 = val.energy_table[:,2]\n",
    "    e02_exp = transition02['e02'].values\n",
    "    \n",
    "    cost_function = np.sqrt(np.sum((e01-e01_exp)**2) + np.sum((e02-e02_exp)**2))/(len(flux_array1) + len(flux_array2))\n",
    "    \n",
    "    return cost_function   "
   ]
  },
  {
   "cell_type": "code",
   "execution_count": 297,
   "metadata": {},
   "outputs": [
    {
     "data": {
      "application/vnd.jupyter.widget-view+json": {
       "model_id": "8c05d9fe59134029983eb468cf9fc17c",
       "version_major": 2,
       "version_minor": 0
      },
      "text/plain": [
       "Progreso del ajuste:   0%|          | 0/100 [00:00<?, ?it/s]"
      ]
     },
     "metadata": {},
     "output_type": "display_data"
    }
   ],
   "source": [
    "bounds_list = [\n",
    "    (0.8,1.5),\n",
    "    (1.2,2),\n",
    "    (2,5)\n",
    "]\n",
    "\n",
    "progress = []\n",
    "\n",
    "# Crear la barra de progreso\n",
    "progress_bar = tqdm(total=100, desc=\"Progress\")\n",
    "\n",
    "# Definir la función de callback\n",
    "def callback(params, convergence):\n",
    "    # Registrar el estado actual del ajuste\n",
    "    progress.append(params)\n",
    "    # Actualizar la barra de progreso\n",
    "    progress_bar.update(1)\n",
    "    if len(progress) >= 100:\n",
    "        progress_bar.close()\n",
    "\n",
    "\n",
    "result = differential_evolution(func=minimizer,bounds=bounds_list,callback=callback, disp=False, maxiter=100)"
   ]
  },
  {
   "cell_type": "code",
   "execution_count": 298,
   "metadata": {},
   "outputs": [
    {
     "data": {
      "text/plain": [
       " message: Optimization terminated successfully.\n",
       " success: True\n",
       "     fun: 4.6825108246867605e-05\n",
       "       x: [ 1.103e+00  1.859e+00  3.663e+00]\n",
       "     nit: 44\n",
       "    nfev: 2045\n",
       "     jac: [-3.990e-07  8.743e-06  2.326e-07]"
      ]
     },
     "execution_count": 298,
     "metadata": {},
     "output_type": "execute_result"
    }
   ],
   "source": [
    "result"
   ]
  },
  {
   "cell_type": "code",
   "execution_count": 305,
   "metadata": {},
   "outputs": [
    {
     "data": {
      "application/vnd.jupyter.widget-view+json": {
       "model_id": "a0a1061aaa4a41d79fdb0375372ce420",
       "version_major": 2,
       "version_minor": 0
      },
      "text/plain": [
       "Spectral data:   0%|          | 0/4001 [00:00<?, ?it/s]"
      ]
     },
     "metadata": {},
     "output_type": "display_data"
    }
   ],
   "source": [
    "EJ = result.x[0]*10\n",
    "EC = result.x[1]\n",
    "EL = result.x[2]/10\n",
    "\n",
    "fluxonium_fit = sq.Fluxonium(EJ,EC,EL,flux=0,cutoff=40)\n",
    "flux_array = np.linspace(-0.7,0.1,4001)\n",
    "fluxspec = fluxonium_fit.get_spectrum_vs_paramvals(\n",
    "    param_name='flux',\n",
    "    param_vals=flux_array,\n",
    "    evals_count=6,\n",
    "    subtract_ground=False\n",
    ")\n",
    "evals_matrix = fluxspec.energy_table\n",
    "transitions0 = evals_matrix - evals_matrix[:,0].reshape(-1,1)\n",
    "transitions1 = evals_matrix - evals_matrix[:,1].reshape(-1,1)\n",
    "transitions2 = evals_matrix - evals_matrix[:,2].reshape(-1,1)\n",
    "\n",
    "transitions0 = np.delete(transitions0,0,axis=1)\n",
    "transitions1 = np.delete(transitions1,[0,1],axis=1)\n",
    "transitions2 = np.delete(transitions2,[0,1,2],axis=1)"
   ]
  },
  {
   "cell_type": "code",
   "execution_count": 306,
   "metadata": {},
   "outputs": [],
   "source": [
    "fig1.suptitle(f'EJ = {np.round(EJ,2)}, EC = {np.round(EC,2)}, EL = {np.round(EL,3)}')\n",
    "alpha = 0.5\n",
    "plot_tran0 = ax1.plot(flux_array,transitions0, linestyle='--', linewidth=0.8, color='C0', alpha=alpha)\n",
    "plot_tran1 = ax1.plot(flux_array,transitions1, linestyle='--', linewidth=0.8, color='C1', alpha=alpha)\n",
    "fig1.tight_layout()\n",
    "plt.show()"
   ]
  },
  {
   "cell_type": "code",
   "execution_count": 300,
   "metadata": {},
   "outputs": [],
   "source": [
    "for line in plot_tran0:\n",
    "    line.remove()\n",
    "for line in plot_tran1:\n",
    "    line.remove()"
   ]
  },
  {
   "cell_type": "code",
   "execution_count": null,
   "metadata": {},
   "outputs": [],
   "source": []
  }
 ],
 "metadata": {
  "kernelspec": {
   "display_name": "ferbo",
   "language": "python",
   "name": "python3"
  },
  "language_info": {
   "codemirror_mode": {
    "name": "ipython",
    "version": 3
   },
   "file_extension": ".py",
   "mimetype": "text/x-python",
   "name": "python",
   "nbconvert_exporter": "python",
   "pygments_lexer": "ipython3",
   "version": "3.11.7"
  }
 },
 "nbformat": 4,
 "nbformat_minor": 2
}
