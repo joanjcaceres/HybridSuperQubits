{
 "cells": [
  {
   "cell_type": "markdown",
   "metadata": {},
   "source": [
    "# Importing package"
   ]
  },
  {
   "cell_type": "code",
   "execution_count": 2,
   "metadata": {},
   "outputs": [],
   "source": [
    "%load_ext autoreload\n",
    "%autoreload 2\n",
    "import sys\n",
    "sys.path.append('..')\n",
    "filedirectory = \"//Users//joancaceres//Documents//FERBO//FB_W10_S4//run2//\"\n",
    "import scqubits as sq\n",
    "from src.utilities import *\n",
    "from src.fitting import fit_fluxonium, get_transitions_from_levels, plot_transitions"
   ]
  },
  {
   "cell_type": "markdown",
   "metadata": {},
   "source": [
    "# Loading data"
   ]
  },
  {
   "cell_type": "code",
   "execution_count": 2,
   "metadata": {},
   "outputs": [],
   "source": [
    "voltage_period = 3.033\n",
    "zero_flux = 1.3668"
   ]
  },
  {
   "cell_type": "code",
   "execution_count": 10,
   "metadata": {},
   "outputs": [],
   "source": [
    "datasets = {}"
   ]
  },
  {
   "cell_type": "code",
   "execution_count": 11,
   "metadata": {},
   "outputs": [],
   "source": [
    "datanumbers = [\n",
    "    424403,\n",
    "    422958,# Large upper scan around phase = 0\n",
    "    422231, # Close look at phae = pi\n",
    "    424530, # Large bottom  scan around phase = pi\n",
    "]"
   ]
  },
  {
   "cell_type": "code",
   "execution_count": 12,
   "metadata": {},
   "outputs": [],
   "source": [
    "for number in datanumbers:\n",
    "    datasets[number] = load_data(filedirectory + \"FBW10S4_\" +str(number))\n",
    "    datasets[number]['freq'] = datasets[number]['freq']*1e-9\n",
    "    datasets[number]['phi'] = (datasets[number]['flux']-zero_flux)/voltage_period"
   ]
  },
  {
   "cell_type": "code",
   "execution_count": 14,
   "metadata": {},
   "outputs": [],
   "source": [
    "fig1, ax1 = plot3Ds(\n",
    "    data_dicts=datasets,\n",
    "    x_key='phi',\n",
    "    y_key='freq',\n",
    "    z_key='phase',\n",
    "    flatten_horizontal=0,\n",
    "    flatten_vertical=1,\n",
    "    vmin=-25,\n",
    "    vmax=50,\n",
    "    cmap='gray'\n",
    ")"
   ]
  },
  {
   "cell_type": "markdown",
   "metadata": {},
   "source": [
    "# Fluxonium visualization"
   ]
  },
  {
   "cell_type": "code",
   "execution_count": 229,
   "metadata": {},
   "outputs": [],
   "source": [
    "fluxonium_params = {\n",
    "    'EJ':   10.58,\n",
    "    'EC':   1.79,\n",
    "    'EL':   0.367,\n",
    "    'flux': 0\n",
    "}\n",
    "fluxonium = sq.Fluxonium(**fluxonium_params,cutoff=40)"
   ]
  },
  {
   "cell_type": "code",
   "execution_count": 232,
   "metadata": {},
   "outputs": [
    {
     "data": {
      "application/vnd.jupyter.widget-view+json": {
       "model_id": "d07237d0468a40018984e9e65617e435",
       "version_major": 2,
       "version_minor": 0
      },
      "text/plain": [
       "Spectral data:   0%|          | 0/101 [00:00<?, ?it/s]"
      ]
     },
     "metadata": {},
     "output_type": "display_data"
    }
   ],
   "source": [
    "flux_array = np.linspace(-0.5,0.5,101)\n",
    "fluxspec = fluxonium.get_spectrum_vs_paramvals(\n",
    "    param_name='flux',\n",
    "    param_vals=flux_array,\n",
    "    evals_count=6,\n",
    "    subtract_ground=False\n",
    ")"
   ]
  },
  {
   "cell_type": "code",
   "execution_count": 233,
   "metadata": {},
   "outputs": [],
   "source": [
    "evals_matrix = fluxspec.energy_table\n",
    "transitions0 = evals_matrix - evals_matrix[:,0].reshape(-1,1)\n",
    "transitions1 = evals_matrix - evals_matrix[:,1].reshape(-1,1)\n",
    "transitions2 = evals_matrix - evals_matrix[:,2].reshape(-1,1)\n",
    "\n",
    "transitions0 = np.delete(transitions0,0,axis=1)\n",
    "transitions1 = np.delete(transitions1,[0,1],axis=1)\n",
    "transitions2 = np.delete(transitions2,[0,1,2],axis=1)"
   ]
  },
  {
   "cell_type": "code",
   "execution_count": 234,
   "metadata": {},
   "outputs": [],
   "source": [
    "fig2,ax2 = plt.subplots(1,1)\n",
    "ax2.plot(flux_array,transitions0, linestyle='--', color='C0', alpha=0.8)\n",
    "ax2.plot(flux_array,transitions1, linestyle='--', color='C1', alpha=0.8)\n",
    "plt.show()"
   ]
  },
  {
   "cell_type": "markdown",
   "metadata": {},
   "source": [
    "# Fluxonium fitting"
   ]
  },
  {
   "cell_type": "code",
   "execution_count": 5,
   "metadata": {},
   "outputs": [
    {
     "data": {
      "application/vnd.jupyter.widget-view+json": {
       "model_id": "18ed71795af24cd9b94d0be4c7dbc8c2",
       "version_major": 2,
       "version_minor": 0
      },
      "text/plain": [
       "Iterations:   0%|          | 0/100 [00:00<?, ?it/s]"
      ]
     },
     "metadata": {},
     "output_type": "display_data"
    },
    {
     "name": "stdout",
     "output_type": "stream",
     "text": [
      "Fitted Parameters - EJ: 10.013326564128294 EC: 1.5882612500939715 EL: 0.36785158164777937\n"
     ]
    }
   ],
   "source": [
    "transition_files = [\n",
    "        ('../data/data_fitting/E01.csv', 0, 1),  # transition from 0 to 1\n",
    "        ('../data/data_fitting/E02.csv', 0, 2)   # transition from 0 to 2\n",
    "    ]\n",
    "\n",
    "bounds = {\n",
    "        'EJ': (10, 12),  \n",
    "        'EC': (1.5, 2),   \n",
    "        'EL': (0.3, 0.4)      \n",
    "    }\n",
    "\n",
    "fluxonium_fit, result = fit_fluxonium(transition_files, bounds)\n",
    "print(\"Fitted Parameters - EJ:\", fluxonium_fit.EJ, \"EC:\", fluxonium_fit.EC, \"EL:\", fluxonium_fit.EL)"
   ]
  },
  {
   "cell_type": "code",
   "execution_count": 6,
   "metadata": {},
   "outputs": [
    {
     "data": {
      "text/plain": [
       "Fluxonium(**{'EJ': 10.013326564128294, 'EC': 1.5882612500939715, 'EL': 0.36785158164777937, 'flux': 0, 'cutoff': 40, 'truncated_dim': 6, 'id_str': 'Fluxonium_3045', 'evals_method': None, 'evals_method_options': None, 'esys_method': None, 'esys_method_options': None})"
      ]
     },
     "execution_count": 6,
     "metadata": {},
     "output_type": "execute_result"
    }
   ],
   "source": [
    "fluxonium_fit"
   ]
  },
  {
   "cell_type": "code",
   "execution_count": 353,
   "metadata": {},
   "outputs": [
    {
     "data": {
      "application/vnd.jupyter.widget-view+json": {
       "model_id": "eeb60e49bdaa47f5934e450b9039f45b",
       "version_major": 2,
       "version_minor": 0
      },
      "text/plain": [
       "Spectral data:   0%|          | 0/3001 [00:00<?, ?it/s]"
      ]
     },
     "metadata": {},
     "output_type": "display_data"
    },
    {
     "name": "stderr",
     "output_type": "stream",
     "text": [
      "UserWarning: Creating legend with loc=\"best\" can be slow with large amounts of data.\n",
      " /Users/joancaceres/Documents/Fermionic-bosonic-qubit/notebooks/../src/fitting.py: 189"
     ]
    }
   ],
   "source": [
    "fluxonium_test = sq.Fluxonium(EJ=11,EC=fluxonium_fit.EC, EL=fluxonium_fit.EL, flux=0, cutoff=40)\n",
    "flux_array = np.linspace(-0.7,0.1,3001)\n",
    "flux_array_test, transition_dict_test = get_transitions_from_levels(fluxonium_test, flux_array, base_levels=[0,1])\n",
    "plot_transitions(flux_array, transition_dict_test, fig1, ax1, fluxonium_test)"
   ]
  },
  {
   "cell_type": "code",
   "execution_count": 347,
   "metadata": {},
   "outputs": [
    {
     "data": {
      "application/vnd.jupyter.widget-view+json": {
       "model_id": "e3c5807721f9412585606d1f63394acd",
       "version_major": 2,
       "version_minor": 0
      },
      "text/plain": [
       "Spectral data:   0%|          | 0/1001 [00:00<?, ?it/s]"
      ]
     },
     "metadata": {},
     "output_type": "display_data"
    }
   ],
   "source": [
    "base_levels = [0, 1]  # Specify the base levels from which to calculate transitions\n",
    "flux_array = np.linspace(-0.7,0.1,1001)\n",
    "flux_array, transition_dict = get_transitions_from_levels(fluxonium_fit, flux_array, base_levels=base_levels)\n"
   ]
  },
  {
   "cell_type": "code",
   "execution_count": 348,
   "metadata": {},
   "outputs": [
    {
     "name": "stderr",
     "output_type": "stream",
     "text": [
      "UserWarning: Creating legend with loc=\"best\" can be slow with large amounts of data.\n",
      " /Users/joancaceres/Documents/Fermionic-bosonic-qubit/notebooks/../src/fitting.py: 189"
     ]
    }
   ],
   "source": [
    "plot_transitions(flux_array, transition_dict, fig1, ax1, fluxonium_fit)"
   ]
  },
  {
   "cell_type": "code",
   "execution_count": 305,
   "metadata": {},
   "outputs": [
    {
     "data": {
      "application/vnd.jupyter.widget-view+json": {
       "model_id": "a0a1061aaa4a41d79fdb0375372ce420",
       "version_major": 2,
       "version_minor": 0
      },
      "text/plain": [
       "Spectral data:   0%|          | 0/4001 [00:00<?, ?it/s]"
      ]
     },
     "metadata": {},
     "output_type": "display_data"
    }
   ],
   "source": [
    "flux_array = np.linspace(-0.7,0.1,4001)\n",
    "fluxspec = fluxonium_fit.get_spectrum_vs_paramvals(\n",
    "    param_name='flux',\n",
    "    param_vals=flux_array,\n",
    "    evals_count=6,\n",
    "    subtract_ground=False\n",
    ")\n",
    "evals_matrix = fluxspec.energy_table\n",
    "transitions0 = evals_matrix - evals_matrix[:,0].reshape(-1,1)\n",
    "transitions1 = evals_matrix - evals_matrix[:,1].reshape(-1,1)\n",
    "transitions2 = evals_matrix - evals_matrix[:,2].reshape(-1,1)\n",
    "\n",
    "transitions0 = np.delete(transitions0,0,axis=1)\n",
    "transitions1 = np.delete(transitions1,[0,1],axis=1)\n",
    "transitions2 = np.delete(transitions2,[0,1,2],axis=1)"
   ]
  },
  {
   "cell_type": "code",
   "execution_count": 306,
   "metadata": {},
   "outputs": [],
   "source": [
    "fig1.suptitle(f'EJ = {np.round(fluxonium_fit.EJ,2)}, EC = {np.round(fluxonium_fit.EC,2)}, EL = {np.round(fluxonium_fit.EL,3)}')\n",
    "alpha = 0.5\n",
    "plot_tran0 = ax1.plot(flux_array,transitions0, linestyle='--', linewidth=0.8, color='C0', alpha=alpha)\n",
    "plot_tran1 = ax1.plot(flux_array,transitions1, linestyle='--', linewidth=0.8, color='C1', alpha=alpha)\n",
    "fig1.tight_layout()\n",
    "plt.show()"
   ]
  },
  {
   "cell_type": "code",
   "execution_count": 300,
   "metadata": {},
   "outputs": [],
   "source": [
    "for line in plot_tran0:\n",
    "    line.remove()\n",
    "for line in plot_tran1:\n",
    "    line.remove()"
   ]
  },
  {
   "cell_type": "code",
   "execution_count": 359,
   "metadata": {},
   "outputs": [],
   "source": [
    "from ipywidgets import interact, FloatSlider, fixed\n",
    "from IPython.display import display\n",
    "\n",
    "def update_plot(EJ, EC, EL, flux_points, base_levels, evals_count, fig1, ax1, **kwargs):\n",
    "    \"\"\"\n",
    "    Updates the plot with new parameters for the Fluxonium object.\n",
    "\n",
    "    Parameters:\n",
    "    -----------\n",
    "    EJ : float\n",
    "        Josephson energy.\n",
    "    EC : float\n",
    "        Charging energy.\n",
    "    EL : float\n",
    "        Inductive energy.\n",
    "    flux_points : numpy.ndarray\n",
    "        Array of flux values.\n",
    "    base_levels : list of int\n",
    "        List of base levels from which to calculate transitions.\n",
    "    evals_count : int\n",
    "        Number of eigenvalues to calculate.\n",
    "    fig1 : matplotlib.figure.Figure\n",
    "        Existing figure to plot on.\n",
    "    ax1 : matplotlib.axes._subplots.AxesSubplot\n",
    "        Existing axis to plot on.\n",
    "    **kwargs : dict\n",
    "        Additional keyword arguments for plotting (e.g., alpha, linestyle, linewidth).\n",
    "    \"\"\"\n",
    "    # Clear the axis to avoid overplotting\n",
    "    ax1.clear()\n",
    "\n",
    "    # Create a new Fluxonium instance with the updated parameters\n",
    "    fluxonium = sq.Fluxonium(EJ=EJ, EC=EC, EL=EL, flux=0, cutoff=40)\n",
    "    \n",
    "    # Get the transitions from the specified base levels\n",
    "    flux_array, transition_dict = get_transitions_from_levels(fluxonium, flux_points, evals_count, base_levels)\n",
    "    \n",
    "    # Plot the specific transitions with custom plotting parameters\n",
    "    plot_transitions(flux_array, transition_dict, fig1, ax1, fluxonium, **kwargs)\n",
    "\n",
    "### Create Interactive Widgets\n",
    "def create_interactive_plot(flux_points, base_levels, fig1, ax1, linewidth, evals_count=6):\n",
    "    \"\"\"\n",
    "    Creates an interactive plot for adjusting Fluxonium parameters.\n",
    "\n",
    "    Parameters:\n",
    "    -----------\n",
    "    flux_points : numpy.ndarray\n",
    "        Array of flux values.\n",
    "    base_levels : list of int\n",
    "        List of base levels from which to calculate transitions.\n",
    "    fig1 : matplotlib.figure.Figure\n",
    "        Existing figure to plot on.\n",
    "    ax1 : matplotlib.axes._subplots.AxesSubplot\n",
    "        Existing axis to plot on.\n",
    "    evals_count : int, optional\n",
    "        Number of eigenvalues to calculate (default is 6).\n",
    "    \"\"\"\n",
    "    interact(\n",
    "        update_plot,\n",
    "        EJ=FloatSlider(value=11.0, min=9, max=13.0, step=0.1, description='EJ'),\n",
    "        EC=FloatSlider(value=1.8, min=1, max=2.0, step=0.1, description='EC'),\n",
    "        EL=FloatSlider(value=0.36, min=0.3, max=0.4, step=0.01, description='EL'),\n",
    "        flux_points=fixed(flux_points),\n",
    "        base_levels=fixed(base_levels),\n",
    "        evals_count=fixed(evals_count),\n",
    "        fig1=fixed(fig1),\n",
    "        ax1=fixed(ax1),\n",
    "        alpha=FloatSlider(value=0.5, min=0.1, max=1.0, step=0.1, description='Alpha'),\n",
    "        linestyle=fixed('--'),\n",
    "        linewidth=fixed(linewidth)\n",
    "        )"
   ]
  },
  {
   "cell_type": "code",
   "execution_count": 361,
   "metadata": {},
   "outputs": [
    {
     "data": {
      "application/vnd.jupyter.widget-view+json": {
       "model_id": "de71bf9af7314364a80eee7b025a7b2c",
       "version_major": 2,
       "version_minor": 0
      },
      "text/plain": [
       "interactive(children=(FloatSlider(value=11.0, description='EJ', max=13.0, min=9.0), FloatSlider(value=1.8, des…"
      ]
     },
     "metadata": {},
     "output_type": "display_data"
    }
   ],
   "source": [
    "# Specify the array of flux values\n",
    "flux_points = np.linspace(-0.7, 0.1, 1001)\n",
    "# Specify the base levels from which to calculate transitions\n",
    "base_levels = [0, 1]\n",
    "\n",
    "\n",
    "# Create the interactive plot\n",
    "create_interactive_plot(flux_points, base_levels, fig1, ax1, linewidth=0.8)"
   ]
  },
  {
   "cell_type": "code",
   "execution_count": 4,
   "metadata": {},
   "outputs": [
    {
     "data": {
      "text/plain": [
       "(1.1392634012181573e-06, 6.034339353476363e-15)"
      ]
     },
     "execution_count": 4,
     "metadata": {},
     "output_type": "execute_result"
    }
   ],
   "source": [
    "# EJ = 5.0315 GHz\n",
    "# EC = 3.1220 GHz :\n",
    "\n",
    "# EL = 0.14348 GHz\n",
    "\n",
    "El_to_L(0.14348e9), Ec_to_C(3.1220e9)"
   ]
  },
  {
   "cell_type": "code",
   "execution_count": null,
   "metadata": {},
   "outputs": [],
   "source": []
  }
 ],
 "metadata": {
  "kernelspec": {
   "display_name": "ferbo",
   "language": "python",
   "name": "python3"
  },
  "language_info": {
   "codemirror_mode": {
    "name": "ipython",
    "version": 3
   },
   "file_extension": ".py",
   "mimetype": "text/x-python",
   "name": "python",
   "nbconvert_exporter": "python",
   "pygments_lexer": "ipython3",
   "version": "3.11.7"
  }
 },
 "nbformat": 4,
 "nbformat_minor": 2
}
