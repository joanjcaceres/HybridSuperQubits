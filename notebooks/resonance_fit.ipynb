{
 "cells": [
  {
   "cell_type": "code",
   "execution_count": 4,
   "metadata": {},
   "outputs": [
    {
     "name": "stdout",
     "output_type": "stream",
     "text": [
      "The autoreload extension is already loaded. To reload it, use:\n",
      "  %reload_ext autoreload\n"
     ]
    }
   ],
   "source": [
    "%load_ext autoreload\n",
    "%autoreload 2\n",
    "import sys\n",
    "sys.path.append(\"..\")\n",
    "import numpy as np\n",
    "import pandas as pd\n",
    "import matplotlib.pyplot as plt\n",
    "from scipy.optimize import differential_evolution\n",
    "from src.jja import frequency_array"
   ]
  },
  {
   "cell_type": "code",
   "execution_count": 21,
   "metadata": {},
   "outputs": [],
   "source": [
    "experimental_resonances = [6.2175,\n",
    "                           8.94,\n",
    "                            12.043,\n",
    "                            13.337,\n",
    "                            13.735]"
   ]
  },
  {
   "cell_type": "code",
   "execution_count": 22,
   "metadata": {},
   "outputs": [
    {
     "name": "stderr",
     "output_type": "stream",
     "text": [
      "/Users/joancaceres/Documents/Fermionic-bosonic-qubit/notebooks/../src/jja.py:51: RuntimeWarning: invalid value encountered in sqrt\n",
      "  return np.sqrt(eigvals)/2/np.pi\n"
     ]
    },
    {
     "data": {
      "text/plain": [
       "array([4.27332425e+09, 9.35675229e+09, 1.16062119e+10, 1.25934511e+10,\n",
       "       1.30822121e+10])"
      ]
     },
     "execution_count": 22,
     "metadata": {},
     "output_type": "execute_result"
    }
   ],
   "source": [
    "model_vals = frequency_array([50,50,40])[1:len(experimental_resonances)+1]\n",
    "model_vals"
   ]
  },
  {
   "cell_type": "code",
   "execution_count": 23,
   "metadata": {},
   "outputs": [],
   "source": [
    "def objective_function(params):\n",
    "    model_vals = frequency_array(params)[1:len(experimental_resonances)+1]*1e-9\n",
    "    return np.sum(np.sqrt((model_vals - experimental_resonances)**2)/len(experimental_resonances)*1e-9)\n",
    "\n",
    "# Order: Cjj (fF), Cg (aF), Cin (fF)\n",
    "param_ranges = [\n",
    "    (1e-3, 5e1), # Rango para Cjj\n",
    "    (1e-1, 1e2), # Rango para Cg\n",
    "    (1e-2, 1e2), # Rango para Cin\n",
    "                ] \n",
    "\n",
    "result = differential_evolution(objective_function, param_ranges)"
   ]
  },
  {
   "cell_type": "code",
   "execution_count": 19,
   "metadata": {},
   "outputs": [
    {
     "data": {
      "text/plain": [
       " message: Optimization terminated successfully.\n",
       " success: True\n",
       "     fun: 2.7688053649255326e-10\n",
       "       x: [ 4.000e+01  6.383e+01  7.256e-01]\n",
       "     nit: 74\n",
       "    nfev: 3379"
      ]
     },
     "execution_count": 19,
     "metadata": {},
     "output_type": "execute_result"
    }
   ],
   "source": [
    "result"
   ]
  },
  {
   "cell_type": "code",
   "execution_count": null,
   "metadata": {},
   "outputs": [],
   "source": [
    "fig,ax = plt.subplots(1,1)\n",
    "ax.plot()"
   ]
  }
 ],
 "metadata": {
  "kernelspec": {
   "display_name": "ferbo",
   "language": "python",
   "name": "python3"
  },
  "language_info": {
   "codemirror_mode": {
    "name": "ipython",
    "version": 3
   },
   "file_extension": ".py",
   "mimetype": "text/x-python",
   "name": "python",
   "nbconvert_exporter": "python",
   "pygments_lexer": "ipython3",
   "version": "3.11.7"
  }
 },
 "nbformat": 4,
 "nbformat_minor": 2
}
