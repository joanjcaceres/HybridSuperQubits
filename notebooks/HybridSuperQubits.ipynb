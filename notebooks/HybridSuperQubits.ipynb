{
 "cells": [
  {
   "cell_type": "code",
   "execution_count": 29,
   "metadata": {},
   "outputs": [
    {
     "name": "stdout",
     "output_type": "stream",
     "text": [
      "The autoreload extension is already loaded. To reload it, use:\n",
      "  %reload_ext autoreload\n"
     ]
    }
   ],
   "source": [
    "%load_ext autoreload\n",
    "%autoreload 2\n",
    "import sys\n",
    "sys.path.append('..')\n",
    "import numpy as np\n",
    "# import scqubits as sq\n",
    "import scipy.constants as const\n",
    "from src.utilities import *\n",
    "# from src.files_to_organize.utilities import load_data\n",
    "from HybridSuperQubits import *\n",
    "\n",
    "# filedirectory = \"//Users//joancaceres//Documents//FERBO//FB_W10_S4//run2//\""
   ]
  },
  {
   "cell_type": "code",
   "execution_count": 30,
   "metadata": {},
   "outputs": [],
   "source": [
    "ferbo_qubit = Ferbo(\n",
    "    Ec=1.2,          # Charging energy [GHz]\n",
    "    El=0.8,          # Inductive energy [GHz]\n",
    "    Gamma=5.0,       # Coupling strength [GHz]\n",
    "    delta_Gamma=0.1, # Asymmetric coupling [GHz]\n",
    "    er=0.05,         # Fermi detuning [GHz]\n",
    "    phase=0.3,       # External phase (2 pi Φ/Φ₀)\n",
    "    dimension=10    # Hilbert space dimension\n",
    ")"
   ]
  },
  {
   "cell_type": "code",
   "execution_count": 31,
   "metadata": {},
   "outputs": [
    {
     "data": {
      "text/plain": [
       "<matplotlib.image.AxesImage at 0x1c7633a9810>"
      ]
     },
     "execution_count": 31,
     "metadata": {},
     "output_type": "execute_result"
    },
    {
     "data": {
      "image/png": "[encoded data removed]",
      "text/plain": [
       "<Figure size 640x480 with 1 Axes>"
      ]
     },
     "metadata": {},
     "output_type": "display_data"
    }
   ],
   "source": [
    "a = ferbo_qubit.n_operator()\n",
    "plt.imshow(np.abs(a))"
   ]
  }
 ],
 "metadata": {
  "kernelspec": {
   "display_name": "hsq",
   "language": "python",
   "name": "python3"
  },
  "language_info": {
   "codemirror_mode": {
    "name": "ipython",
    "version": 3
   },
   "file_extension": ".py",
   "mimetype": "text/x-python",
   "name": "python",
   "nbconvert_exporter": "python",
   "pygments_lexer": "ipython3",
   "version": "3.13.2"
  }
 },
 "nbformat": 4,
 "nbformat_minor": 2
}
