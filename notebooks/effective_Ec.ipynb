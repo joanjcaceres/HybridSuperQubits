{
 "cells": [
  {
   "cell_type": "code",
   "execution_count": 55,
   "metadata": {},
   "outputs": [],
   "source": [
    "import numpy as np\n",
    "import matplotlib.pyplot as plt"
   ]
  },
  {
   "cell_type": "code",
   "execution_count": 1,
   "metadata": {},
   "outputs": [],
   "source": [
    "Ec_area = 0.49\n",
    "Ej_over_area = 48.5\n",
    "El_per_junction = 35.4"
   ]
  },
  {
   "cell_type": "code",
   "execution_count": 120,
   "metadata": {},
   "outputs": [],
   "source": [
    "def create_matrix_R(N):\n",
    "    # Create an NxN identity matrix\n",
    "    R = np.eye(N+1)\n",
    "\n",
    "    # Subtract 1 from the diagonal just above the main diagonal\n",
    "    for i in range(N):\n",
    "        R[i, i+1] = -1\n",
    "\n",
    "    # Replace the last row with ones\n",
    "    R[-1, :] = 1\n",
    "\n",
    "    return R\n",
    "\n",
    "def generate_matriz_Cphi(N, CJ, C0, CJb):\n",
    "    matriz = np.zeros((N+1, N+1))\n",
    "\n",
    "    # Filling diagonal matrix\n",
    "    for i in range(N+1):\n",
    "        matriz[i, i] = 2*CJ + C0 \n",
    "        if i == 0 or i == N:\n",
    "            matriz[i, i] = CJb + CJ + C0\n",
    "\n",
    "    # Filling the positions (i,i+1) y (i+1,i) with -CJ/2\n",
    "    for i in range(N):\n",
    "        matriz[i, i + 1] = -CJ\n",
    "        matriz[i + 1, i] = -CJ\n",
    "\n",
    "    # Filling the terms C0N and CN0 with -CJb/2\n",
    "    matriz[0, N ] = -CJb\n",
    "    matriz[N , 0] = -CJb\n",
    "\n",
    "    return matriz\n",
    "\n",
    "def generate_matriz_Ctheta(N, CJ, C0, CJb):\n",
    "    R_matrix = create_matrix_R(N)\n",
    "    R_matrix_inv = np.linalg.inv(R_matrix)\n",
    "    R_matrix_inv_T = R_matrix_inv.T\n",
    "    Cphi = generate_matriz_Cphi(N, CJ, C0, CJb)\n",
    "    return R_matrix_inv_T @ Cphi @ R_matrix_inv\n",
    "\n",
    "def calculate_a_coeff(N, CJ, C0, CJb):\n",
    "    Ctheta = generate_matriz_Ctheta(N, CJ, C0, CJb)\n",
    "    return np.sum(Ctheta[1:N,1:N],axis=0)/np.sum(Ctheta[:N, :N]) - 1\n",
    "\n",
    "def generate_R_1(N, CJ, C0, CJb):\n",
    "    a_coeff = calculate_a_coeff(N, CJ, C0, CJb)\n",
    "    R_1_matrix = np.eye(N+1)\n",
    "    R_1_matrix[1:-1,0] = -1\n",
    "    R_1_matrix[0,0] = 1 - np.sum(a_coeff)\n",
    "    R_1_matrix[0,1:-1] = 1+a_coeff \n",
    "    \n",
    "    return R_1_matrix\n",
    "    \n",
    "def generate_C_x_1(N, CJ, C0, CJb):\n",
    "    R_1_matrix = generate_R_1(N, CJ, C0, CJb)\n",
    "    R_1_matrix_inv = np.linalg.inv(R_1_matrix)\n",
    "    R_1_matrix_inv_T = R_1_matrix_inv.T\n",
    "    \n",
    "    C_X_0_matrix = generate_matriz_Ctheta(N, CJ, C0, CJb)\n",
    "    \n",
    "    return R_1_matrix_inv_T @ C_X_0_matrix @ R_1_matrix_inv\n",
    "    "
   ]
  },
  {
   "cell_type": "code",
   "execution_count": 115,
   "metadata": {},
   "outputs": [
    {
     "data": {
      "text/plain": [
       "array([[ 1., -1.,  0.,  0.,  0.,  0.],\n",
       "       [-1.,  2., -1.,  0.,  0.,  0.],\n",
       "       [ 0., -1.,  2., -1.,  0.,  0.],\n",
       "       [ 0.,  0., -1.,  2., -1.,  0.],\n",
       "       [ 0.,  0.,  0., -1.,  2., -1.],\n",
       "       [ 0.,  0.,  0.,  0., -1.,  1.]])"
      ]
     },
     "execution_count": 115,
     "metadata": {},
     "output_type": "execute_result"
    }
   ],
   "source": [
    "N = 5\n",
    "CJ= 1\n",
    "C0=0\n",
    "CJb = 0\n",
    "generate_matriz_Cphi(N, CJ, C0, CJb)"
   ]
  },
  {
   "cell_type": "code",
   "execution_count": 128,
   "metadata": {},
   "outputs": [],
   "source": [
    "# Example usage with N=5\n",
    "N = 150\n",
    "CJb = 10\n",
    "CJ = 50\n",
    "C0_array = np.linspace(CJ*0.0001,CJ*0.002,100)\n",
    "C_effective_array = np.zeros_like(C0_array)\n",
    "for i,C0 in enumerate(C0_array):\n",
    "    Cphi_matrix = generate_C_x_1(N, CJ, C0, CJb)\n",
    "    C_effective_array[i]=Cphi_matrix[0,0]"
   ]
  },
  {
   "cell_type": "code",
   "execution_count": 139,
   "metadata": {},
   "outputs": [
    {
     "data": {
      "image/png": "[encoded data removed]",
      "text/plain": [
       "<Figure size 640x480 with 1 Axes>"
      ]
     },
     "metadata": {},
     "output_type": "display_data"
    }
   ],
   "source": [
    "fig,ax = plt.subplots(1,1)\n",
    "ax.plot(C0_array,C_effective_array)\n",
    "ax.plot(C0_array,0.33 + CJb  + C0_array/12*N)\n",
    "# ax.plot(CJ_array,CJb + CJ_array*0.001/12)\n",
    "# ax.set_yscale('log')\n",
    "# ax.set_xscale('log')\n",
    "plt.show()"
   ]
  },
  {
   "cell_type": "code",
   "execution_count": 149,
   "metadata": {},
   "outputs": [
    {
     "data": {
      "text/plain": [
       "array([[0., 1., 0., 0., 0., 0.],\n",
       "       [0., 0., 1., 0., 0., 0.],\n",
       "       [0., 0., 0., 1., 0., 0.],\n",
       "       [0., 0., 0., 0., 1., 0.],\n",
       "       [0., 0., 0., 0., 0., 1.],\n",
       "       [0., 0., 0., 0., 0., 0.]])"
      ]
     },
     "execution_count": 149,
     "metadata": {},
     "output_type": "execute_result"
    }
   ],
   "source": [
    "np.diag(np.ones(5),1)"
   ]
  },
  {
   "cell_type": "code",
   "execution_count": null,
   "metadata": {},
   "outputs": [
    {
     "name": "stdout",
     "output_type": "stream",
     "text": [
      "(5, 6)\n"
     ]
    },
    {
     "data": {
      "text/plain": [
       "array([-0.69526179, -0.90640049, -0.91181083, -0.8427542 , -0.6437727 ,\n",
       "       -1.0412988 ])"
      ]
     },
     "metadata": {},
     "output_type": "display_data"
    }
   ],
   "source": [
    "# Example usage with N=5\n",
    "N = 5\n",
    "CJ=1\n",
    "C0 = 2\n",
    "CJb = 3\n",
    "Cphi_matrix = calculate_a_coeff(N, CJ, C0, CJb)\n",
    "Cphi_matrix"
   ]
  },
  {
   "cell_type": "code",
   "execution_count": 14,
   "metadata": {},
   "outputs": [
    {
     "data": {
      "text/plain": [
       "array([[ 0.62114078, -0.00932131,  0.0665543 ,  0.28814685,  0.76662148,\n",
       "        -0.02020279],\n",
       "       [ 0.20922348,  0.23456355, -0.14094562, -0.01347607,  0.20366862,\n",
       "        -0.01070981],\n",
       "       [ 0.02557715,  0.10912005,  0.2060173 , -0.1581793 , -0.05281383,\n",
       "        -0.03944761],\n",
       "       [ 0.03492909,  0.03170386,  0.14231978,  0.26019149, -0.07449841,\n",
       "        -0.09034303],\n",
       "       [ 0.87169109,  0.17529982,  0.23612759,  0.53280393,  1.21738914,\n",
       "        -0.07816301],\n",
       "       [ 0.70057473,  0.42953185,  0.41865589,  0.53902393,  0.95782333,\n",
       "         0.2239048 ]])"
      ]
     },
     "execution_count": 14,
     "metadata": {},
     "output_type": "execute_result"
    }
   ],
   "source": [
    "generate_matriz_Ctheta(N, CJ, C0, CJb)"
   ]
  },
  {
   "cell_type": "code",
   "execution_count": null,
   "metadata": {},
   "outputs": [
    {
     "data": {
      "text/plain": [
       "array([[ 1., -1.,  0.,  0.,  0.],\n",
       "       [ 0.,  1., -1.,  0.,  0.],\n",
       "       [ 0.,  0.,  1., -1.,  0.],\n",
       "       [ 0.,  0.,  0.,  1., -1.],\n",
       "       [ 1.,  1.,  1.,  1.,  1.]])"
      ]
     },
     "metadata": {},
     "output_type": "display_data"
    }
   ],
   "source": [
    "# Example usage with N=5\n",
    "N = 5\n",
    "R_matrix = create_matrix_R(N)\n",
    "R_matrix"
   ]
  },
  {
   "cell_type": "code",
   "execution_count": 5,
   "metadata": {},
   "outputs": [
    {
     "name": "stdout",
     "output_type": "stream",
     "text": [
      "0\n",
      "1\n",
      "2\n",
      "3\n",
      "4\n"
     ]
    }
   ],
   "source": [
    "for i in range (5):\n",
    "    print(i)"
   ]
  },
  {
   "cell_type": "code",
   "execution_count": null,
   "metadata": {},
   "outputs": [],
   "source": []
  }
 ],
 "metadata": {
  "kernelspec": {
   "display_name": "ferbo",
   "language": "python",
   "name": "python3"
  },
  "language_info": {
   "codemirror_mode": {
    "name": "ipython",
    "version": 3
   },
   "file_extension": ".py",
   "mimetype": "text/x-python",
   "name": "python",
   "nbconvert_exporter": "python",
   "pygments_lexer": "ipython3",
   "version": "3.11.7"
  }
 },
 "nbformat": 4,
 "nbformat_minor": 2
}
