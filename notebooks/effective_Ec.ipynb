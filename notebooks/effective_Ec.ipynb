{
 "cells": [
  {
   "cell_type": "code",
   "execution_count": 2,
   "metadata": {},
   "outputs": [],
   "source": [
    "import numpy as np"
   ]
  },
  {
   "cell_type": "code",
   "execution_count": 1,
   "metadata": {},
   "outputs": [],
   "source": [
    "Ec_area = 0.49\n",
    "Ej_over_area = 48.5\n",
    "El_per_junction = 35.4"
   ]
  },
  {
   "cell_type": "code",
   "execution_count": 3,
   "metadata": {},
   "outputs": [],
   "source": [
    "def create_matrix_R(N):\n",
    "    # Create an NxN identity matrix\n",
    "    R = np.eye(N)\n",
    "\n",
    "    # Subtract 1 from the diagonal just above the main diagonal\n",
    "    for i in range(N-1):\n",
    "        R[i, i+1] = -1\n",
    "\n",
    "    # Replace the last row with ones\n",
    "    R[-1, :] = 1\n",
    "\n",
    "    return R"
   ]
  },
  {
   "cell_type": "code",
   "execution_count": 4,
   "metadata": {},
   "outputs": [
    {
     "data": {
      "text/plain": [
       "array([[ 1., -1.,  0.,  0.,  0.],\n",
       "       [ 0.,  1., -1.,  0.,  0.],\n",
       "       [ 0.,  0.,  1., -1.,  0.],\n",
       "       [ 0.,  0.,  0.,  1., -1.],\n",
       "       [ 1.,  1.,  1.,  1.,  1.]])"
      ]
     },
     "execution_count": 4,
     "metadata": {},
     "output_type": "execute_result"
    }
   ],
   "source": [
    "# Example usage with N=5\n",
    "N = 5\n",
    "R_matrix = create_matrix_R(N)\n",
    "R_matrix"
   ]
  },
  {
   "cell_type": "code",
   "execution_count": null,
   "metadata": {},
   "outputs": [],
   "source": []
  }
 ],
 "metadata": {
  "kernelspec": {
   "display_name": "ferbo",
   "language": "python",
   "name": "python3"
  },
  "language_info": {
   "codemirror_mode": {
    "name": "ipython",
    "version": 3
   },
   "file_extension": ".py",
   "mimetype": "text/x-python",
   "name": "python",
   "nbconvert_exporter": "python",
   "pygments_lexer": "ipython3",
   "version": "3.11.7"
  }
 },
 "nbformat": 4,
 "nbformat_minor": 2
}
