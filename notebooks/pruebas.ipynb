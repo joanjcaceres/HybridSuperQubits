{
 "cells": [
  {
   "cell_type": "code",
   "execution_count": 47,
   "metadata": {},
   "outputs": [],
   "source": [
    "from ruamel.yaml import YAML\n",
    "\n",
    "# Lee el archivo YAML\n",
    "yaml = YAML()\n",
    "with open('archivo.yaml', 'r') as file:\n",
    "    data = yaml.load(file)\n",
    "\n",
    "# Cambia el valor del anchor\n",
    "data['global']['chale'] = 12\n",
    "\n",
    "# Guarda el archivo modificado\n",
    "with open('archivo.yaml', 'w') as file:\n",
    "    yaml.dump(data, file)"
   ]
  },
  {
   "cell_type": "code",
   "execution_count": 48,
   "metadata": {},
   "outputs": [
    {
     "name": "stdout",
     "output_type": "stream",
     "text": [
      "{'global': {'chale': 12}, 'Pepito': 'hola', 'Loro': {'pp': 'ojio', 'chale': 12}, 'Cara': {'chale': 12}, 'pp': {'kk': 13}}\n"
     ]
    }
   ],
   "source": [
    "with open('archivo.yaml', 'r') as file:\n",
    "    data = yaml.load(file)\n",
    "\n",
    "# Imprime el diccionario\n",
    "print(data)"
   ]
  },
  {
   "cell_type": "code",
   "execution_count": 35,
   "metadata": {},
   "outputs": [
    {
     "name": "stdout",
     "output_type": "stream",
     "text": [
      "global: &resonancia\n",
      "  chale: 12\n",
      "\n",
      "Pepito: hola\n",
      "Loro: *resonancia\n",
      "Cara: *resonancia\n"
     ]
    }
   ],
   "source": [
    "yaml.dump(data, sys.stdout)"
   ]
  }
 ],
 "metadata": {
  "kernelspec": {
   "display_name": "ferbo",
   "language": "python",
   "name": "python3"
  },
  "language_info": {
   "codemirror_mode": {
    "name": "ipython",
    "version": 3
   },
   "file_extension": ".py",
   "mimetype": "text/x-python",
   "name": "python",
   "nbconvert_exporter": "python",
   "pygments_lexer": "ipython3",
   "version": "3.11.7"
  }
 },
 "nbformat": 4,
 "nbformat_minor": 2
}
