{
 "cells": [
  {
   "cell_type": "code",
   "execution_count": 13,
   "metadata": {},
   "outputs": [],
   "source": [
    "from qutip import *\n",
    "import numpy as np\n",
    "import importlib\n",
    "import functions_fbq\n",
    "import figurestyle\n",
    "from functions_fbq import *\n",
    "from figurestyle import *\n",
    "importlib.reload(functions_fbq)\n",
    "importlib.reload(figurestyle)\n",
    "import matplotlib.pyplot as plt\n",
    "from tqdm import tqdm\n",
    "from mpl_toolkits import mplot3d\n",
    "from scipy.interpolate import interp1d"
   ]
  },
  {
   "attachments": {},
   "cell_type": "markdown",
   "metadata": {},
   "source": [
    "elemento de matriz vs. r\n",
    "derivada de f_01 vs. r\n",
    "frecuencia vs. r\n",
    "\n",
    "* Hacerlo para el hamiltoniano de Zazunov así como para el de una juntura Josephson.\n",
    "* Luego debo estudiar más el blochnium y encontrar los parámetros óptimos con el que se maximiza la coherencia.\n",
    "* Posteriormente puedo estudiar la forma de realizar operaciones con el blochnium que maximice el ratio: tiempo de coherencia / tiempo de manipulación.\n"
   ]
  },
  {
   "cell_type": "code",
   "execution_count": 18,
   "metadata": {},
   "outputs": [],
   "source": [
    "# Simulation parameters\n",
    "N = 100\n",
    "eigvals = 6\n",
    "# System parameters\n",
    "Ec = 40e9\n",
    "El = 0.05e9\n",
    "EDelta = 20e9"
   ]
  },
  {
   "cell_type": "code",
   "execution_count": 19,
   "metadata": {},
   "outputs": [
    {
     "name": "stderr",
     "output_type": "stream",
     "text": [
      "100%|██████████| 100/100 [00:40<00:00,  2.49it/s]\n"
     ]
    }
   ],
   "source": [
    "r_list = np.linspace(0.05, 1, 100)\n",
    "eigvals_list_phi_0 = np.zeros((len(r_list), eigvals))\n",
    "eigvals_list_phi_pi = np.zeros((len(r_list), eigvals))\n",
    "phi_matrix_elements_list = np.zeros((2,len(r_list))) # 0: phi_ext = 0, 1: phi_ext = pi\n",
    "n_matrix_elements_list = np.zeros((2,len(r_list))) # 0: phi_ext = 0, 1: phi_ext = pi\n",
    "\n",
    "for i,r in enumerate(tqdm(r_list)):\n",
    "    phi_ext = 0\n",
    "    eigvals_list_phi_0[i,:], _, matrix_op_sqr_list = eigensystem_and_matrix_elements_sqr_fbq(Ec,El,EDelta,phi_ext,r, N = 100, eigvals = eigvals)\n",
    "    phi_matrix_elements_list[0,i] = np.abs(matrix_op_sqr_list[0])**2\n",
    "    n_matrix_elements_list[0,i] = np.abs(matrix_op_sqr_list[1])**2\n",
    "\n",
    "    phi_ext = np.pi\n",
    "    eigvals_list_phi_pi[i,:], _, matrix_op_sqr_list = eigensystem_and_matrix_elements_sqr_fbq(Ec,El,EDelta,phi_ext,r, N = 100, eigvals = eigvals)\n",
    "    phi_matrix_elements_list[1,i] = np.abs(matrix_op_sqr_list[0])**2\n",
    "    n_matrix_elements_list[1,i] = np.abs(matrix_op_sqr_list[1])**2"
   ]
  },
  {
   "cell_type": "code",
   "execution_count": 20,
   "metadata": {},
   "outputs": [
    {
     "name": "stderr",
     "output_type": "stream",
     "text": [
      "100%|██████████| 100/100 [00:51<00:00,  1.94it/s]\n"
     ]
    }
   ],
   "source": [
    "phi_list = np.linspace(0, 2*np.pi, 100)\n",
    "eigvals_list_r_10 = np.zeros((len(phi_list), eigvals))\n",
    "eigvals_list_r_05 = np.zeros((len(phi_list), eigvals))\n",
    "eigvals_list_r_005 = np.zeros((len(phi_list), eigvals))\n",
    "phi_matrix_elements_vs_phi_list = np.zeros((3,len(phi_list))) # 0: r = 0.9, 1: r = 0.5, 2: r = 0.05\n",
    "n_matrix_elements_vs_phi_list = np.zeros((3,len(phi_list))) # 0: r = 0.9, 1: r = 0.5, 2: r = 0.05\n",
    "\n",
    "for i,phi_ext in enumerate(tqdm(phi_list)):\n",
    "    r = 0.9\n",
    "    eigvals_list_r_10[i,:], _, matrix_op_sqr_list = eigensystem_and_matrix_elements_sqr_fbq(Ec,El,EDelta,phi_ext,r, N = 100, eigvals = eigvals)\n",
    "    phi_matrix_elements_vs_phi_list[0,i] = np.abs(matrix_op_sqr_list[0])**2\n",
    "    n_matrix_elements_vs_phi_list[0,i] = np.abs(matrix_op_sqr_list[1])**2\n",
    "\n",
    "    r = 0.5\n",
    "    eigvals_list_r_05[i,:], _, matrix_op_sqr_list = eigensystem_and_matrix_elements_sqr_fbq(Ec,El,EDelta,phi_ext,r, N = 100, eigvals = eigvals)\n",
    "    phi_matrix_elements_vs_phi_list[1,i] = np.abs(matrix_op_sqr_list[0])**2\n",
    "    n_matrix_elements_vs_phi_list[1,i] = np.abs(matrix_op_sqr_list[1])**2\n",
    "\n",
    "    r = 0.05\n",
    "    eigvals_list_r_005[i,:], _, matrix_op_sqr_list = eigensystem_and_matrix_elements_sqr_fbq(Ec,El,EDelta,phi_ext,r, N = 100, eigvals = eigvals)\n",
    "    phi_matrix_elements_vs_phi_list[2,i] = np.abs(matrix_op_sqr_list[0])**2\n",
    "    n_matrix_elements_vs_phi_list[2,i] = np.abs(matrix_op_sqr_list[1])**2"
   ]
  },
  {
   "cell_type": "code",
   "execution_count": 21,
   "metadata": {},
   "outputs": [],
   "source": [
    "figure_features()\n",
    "fig, axs = plt.subplots(4, 2, figsize=(12, 10), sharex = True, sharey = False)\n",
    "\n",
    "plt.suptitle(r'$E_{C} = %.2f $ GHz $\\quad E_{L} = %.3f$ GHz $\\quad \\Delta = %.0f$ GHz' %(Ec*1e-9, El*1e-9, EDelta*1e-9))\n",
    "axs[0,0].plot(r_list, eigvals_list_phi_0[:,:]*1e-9)\n",
    "axs[0,0].set_ylabel(r'Eigennergies (GHz)')\n",
    "axs[0,0].set_title(r'$\\phi_{ext} = 0$')\n",
    "\n",
    "axs[1,0].plot(r_list, (eigvals_list_phi_0[:,1]-eigvals_list_phi_0[:,0])*1e-9)\n",
    "axs[1,0].set_ylabel(r'$f_{01}$ (GHz)')\n",
    "\n",
    "axs[2,0].plot(r_list, phi_matrix_elements_list[0,:])\n",
    "axs[3,0].plot(r_list, n_matrix_elements_list[0,:])\n",
    "axs[2,0].set_ylabel(r'$|\\langle 1 | \\hat{\\phi} | 0 \\rangle|^2$')\n",
    "axs[3,0].set_ylabel(r'$|\\langle 1 | \\hat{n} | 0 \\rangle|^2$')\n",
    "\n",
    "axs[0,1].plot(r_list, eigvals_list_phi_pi[:,:]*1e-9)\n",
    "axs[0,1].set_title(r'$\\phi_{ext} = \\pi$')\n",
    "\n",
    "axs[1,1].plot(r_list, (eigvals_list_phi_pi[:,1]-eigvals_list_phi_pi[:,0])*1e-9)\n",
    "\n",
    "axs[2,1].plot(r_list, phi_matrix_elements_list[1,:], label = r'$|\\langle \\phi | \\hat{\\phi} \\rangle|^2$')\n",
    "axs[3,1].plot(r_list, n_matrix_elements_list[1,:], label = r'$|\\langle \\phi | \\hat{n} \\rangle|^2$')\n",
    "\n",
    "axs[3,0].set_xlabel(r'$r$')\n",
    "axs[3,1].set_xlabel(r'$r$')\n",
    "\n",
    "axs[2,0].set_yscale('log')\n",
    "axs[2,0].set_xscale('log')\n",
    "axs[2,1].set_yscale('log')\n",
    "axs[2,1].set_xscale('log')\n",
    "\n",
    "fig.savefig('r_sweep_Ec%.2f_El%.3f_EDelta%.0f.pdf' %(Ec*1e-9, El*1e-9, EDelta*1e-9), bbox_inches='tight')\n",
    "plt.tight_layout()\n",
    "# plt.show()"
   ]
  },
  {
   "cell_type": "code",
   "execution_count": null,
   "metadata": {},
   "outputs": [],
   "source": [
    "figure_features()\n",
    "fig, axs = plt.subplots(4, 3, figsize=(18, 10), sharex = True, sharey = False)\n",
    "\n",
    "plt.suptitle(r'$E_{C} = %.2f $ GHz $\\quad E_{L} = %.3f$ GHz $\\quad \\Delta = %.0f$ GHz' %(Ec*1e-9, El*1e-9, EDelta*1e-9))\n",
    "axs[0,0].plot(phi_list/2/np.pi, eigvals_list_r_10[:,:]*1e-9)\n",
    "axs[0,0].set_ylabel(r'Eigennergies (GHz)')\n",
    "axs[0,0].set_title(r'$r = 0.9$')\n",
    "\n",
    "axs[1,0].plot(phi_list/2/np.pi, (eigvals_list_r_10[:,1]-eigvals_list_r_10[:,0])*1e-9)\n",
    "axs[1,0].set_ylabel(r'$f_{01}$ (GHz)')\n",
    "\n",
    "axs[2,0].plot(phi_list/2/np.pi, phi_matrix_elements_vs_phi_list[0,:])\n",
    "axs[3,0].plot(phi_list/2/np.pi, n_matrix_elements_vs_phi_list[0,:])\n",
    "axs[2,0].set_ylabel(r'$|\\langle 1 | \\hat{\\phi} | 0 \\rangle|^2$')\n",
    "axs[3,0].set_ylabel(r'$|\\langle 1 | \\hat{n} | 0 \\rangle|^2$')\n",
    "\n",
    "axs[0,1].plot(phi_list/2/np.pi, eigvals_list_r_05[:,:]*1e-9)\n",
    "axs[0,1].set_title(r'$r = 0.5$')\n",
    "\n",
    "axs[1,1].plot(phi_list/2/np.pi, (eigvals_list_r_05[:,1]-eigvals_list_r_05[:,0])*1e-9)\n",
    "\n",
    "axs[2,1].plot(phi_list/2/np.pi, phi_matrix_elements_vs_phi_list[1,:], label = r'$|\\langle \\phi | \\hat{\\phi} \\rangle|^2$')\n",
    "axs[3,1].plot(phi_list/2/np.pi, n_matrix_elements_vs_phi_list[1,:], label = r'$|\\langle \\phi | \\hat{n} \\rangle|^2$')\n",
    "\n",
    "axs[0,2].plot(phi_list/2/np.pi, eigvals_list_r_005[:,:]*1e-9)\n",
    "axs[0,2].set_title(r'$r = 0.05$')\n",
    "\n",
    "axs[1,2].plot(phi_list/2/np.pi, (eigvals_list_r_005[:,1]-eigvals_list_r_005[:,0])*1e-9)\n",
    "\n",
    "axs[2,2].plot(phi_list/2/np.pi, phi_matrix_elements_vs_phi_list[2,:], label = r'$|\\langle \\phi | \\hat{\\phi} \\rangle|^2$')\n",
    "axs[3,2].plot(phi_list/2/np.pi, n_matrix_elements_vs_phi_list[2,:], label = r'$|\\langle \\phi | \\hat{n} \\rangle|^2$')\n",
    "\n",
    "axs[3,0].set_xlabel(r'$\\phi_{ext}/2\\pi$')\n",
    "axs[3,1].set_xlabel(r'$\\phi_{ext}/2\\pi$')\n",
    "axs[3,2].set_xlabel(r'$\\phi_{ext}/2\\pi$')\n",
    "\n",
    "# axs[2,0].set_yscale('log')\n",
    "# axs[2,1].set_yscale('log')\n",
    "# axs[2,2].set_yscale('log')\n",
    "\n",
    "fig.savefig('phi_sweep_Ec%.2f_El%.3f_EDelta%.0f.pdf' %(Ec*1e-9, El*1e-9, EDelta*1e-9), bbox_inches='tight')\n",
    "plt.tight_layout()\n",
    "# plt.show()"
   ]
  },
  {
   "cell_type": "code",
   "execution_count": null,
   "metadata": {},
   "outputs": [],
   "source": [
    "# eigenenergies, matrix_element, d2E_01/dphi2,"
   ]
  },
  {
   "cell_type": "code",
   "execution_count": null,
   "metadata": {},
   "outputs": [
    {
     "name": "stderr",
     "output_type": "stream",
     "text": [
      "100%|██████████| 100/100 [00:39<00:00,  2.55it/s]\n"
     ]
    }
   ],
   "source": [
    "r_list = np.linspace(0.05, 1, 100)\n",
    "eigvals_list_phi_0 = np.zeros((len(r_list), eigvals))\n",
    "eigvals_list_phi_pi = np.zeros((len(r_list), eigvals))\n",
    "phi_matrix_elements_list = np.zeros((2,len(r_list))) # 0: phi_ext = 0, 1: phi_ext = pi\n",
    "n_matrix_elements_list = np.zeros((2,len(r_list))) # 0: phi_ext = 0, 1: phi_ext = pi\n",
    "# dHdr_matrix_elements_list = np.zeros((2,len(r_list))) # 0: phi_ext = 0, 1: phi_ext = pi\n",
    "\n",
    "for i,r in enumerate(tqdm(r_list)):\n",
    "    phi_ext = 0\n",
    "    eigvals_list_phi_0[i,:], _, matrix_op_sqr_list = eigensystem_and_matrix_elements_sqr_fbq(Ec,El,EDelta,phi_ext,r, N = 100, eigvals = eigvals)\n",
    "    phi_matrix_elements_list[0,i] = np.abs(matrix_op_sqr_list[0])**2\n",
    "    n_matrix_elements_list[0,i] = np.abs(matrix_op_sqr_list[1])**2\n",
    "    # dHdr_matrix_elements_list[0,i] = np.abs(matrix_op_sqr_list[2])**2\n",
    "\n",
    "    eigvals_list = np.zeros((10,2))\n",
    "\n",
    "    for j, phi_ext_aux in enumerate(np.linspace(phi_ext, phi_ext + 0.1,10)):\n",
    "        eigvals_list[j,:] = eigenenergies_fbq(Ec, El, EDelta, phi_ext_aux,r,N,eigvals = 2)\n",
    "\n",
    "    phi_ext = np.pi\n",
    "    eigvals_list_phi_pi[i,:], _, matrix_op_sqr_list = eigensystem_and_matrix_elements_sqr_fbq(Ec,El,EDelta,phi_ext,r, N = 100, eigvals = eigvals)\n",
    "    phi_matrix_elements_list[1,i] = np.abs(matrix_op_sqr_list[0])**2\n",
    "    n_matrix_elements_list[1,i] = np.abs(matrix_op_sqr_list[1])**2\n",
    "    # dHdr_matrix_elements_list[1,i] = np.abs(matrix_op_sqr_list[2])**2"
   ]
  }
 ],
 "metadata": {
  "kernelspec": {
   "display_name": "qutip",
   "language": "python",
   "name": "python3"
  },
  "language_info": {
   "codemirror_mode": {
    "name": "ipython",
    "version": 3
   },
   "file_extension": ".py",
   "mimetype": "text/x-python",
   "name": "python",
   "nbconvert_exporter": "python",
   "pygments_lexer": "ipython3",
   "version": "3.10.9"
  },
  "orig_nbformat": 4
 },
 "nbformat": 4,
 "nbformat_minor": 2
}
