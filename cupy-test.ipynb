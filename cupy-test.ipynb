{
 "cells": [
  {
   "cell_type": "code",
   "execution_count": null,
   "metadata": {},
   "outputs": [],
   "source": [
    "\n"
   ]
  },
  {
   "cell_type": "code",
   "execution_count": 14,
   "metadata": {},
   "outputs": [],
   "source": [
    "import cupy as cp\n",
    "import matplotlib.pyplot as plt\n",
    "\n",
    "# Parámetros\n",
    "N = 10\n",
    "Ec = 1.0\n",
    "El = cp.linspace(0.1, 10, 300)\n",
    "EDelta = 1.0\n",
    "phi_ext = 0.0\n",
    "r_values = cp.linspace(0.1, 10, 300)\n",
    "\n",
    "phi_ZPF = (2.0 * Ec / El) ** 0.25\n",
    "\n",
    "def destroy(N):\n",
    "    return cp.diag(cp.sqrt(cp.arange(1, N)), k=1)\n",
    "\n",
    "N_op = 1j * (destroy(N).T - destroy(N)) / phi_ZPF[:, cp.newaxis, cp.newaxis] / 2\n",
    "phi_op = (destroy(N).T + destroy(N)) * phi_ZPF[:, cp.newaxis, cp.newaxis]\n",
    "\n",
    "delta = phi_op - phi_ext\n",
    "\n"
   ]
  },
  {
   "cell_type": "code",
   "execution_count": 15,
   "metadata": {},
   "outputs": [],
   "source": [
    "ReZ = cp.cos(phi_op / 2) * cp.cos((r_values[:, cp.newaxis, cp.newaxis] * phi_op / 2)) + r_values[:, cp.newaxis, cp.newaxis] * cp.sin(phi_op / 2) * cp.sin((r_values[:, cp.newaxis, cp.newaxis] * phi_op / 2))\n",
    "ImZ = -cp.cos(phi_op / 2) * cp.sin((r_values[:, cp.newaxis, cp.newaxis] * phi_op / 2)) + r_values[:, cp.newaxis, cp.newaxis] * cp.sin(phi_op / 2) * cp.cos((r_values[:, cp.newaxis, cp.newaxis] * phi_op / 2))\n",
    "\n",
    "sigmaz = cp.array([[1, 0], [0, -1]])\n",
    "sigmay = cp.array([[0, -1j], [1j, 0]])"
   ]
  },
  {
   "cell_type": "code",
   "execution_count": 16,
   "metadata": {},
   "outputs": [
    {
     "ename": "ValueError",
     "evalue": "cannot reshape array of size 120000 into shape 18000000",
     "output_type": "error",
     "traceback": [
      "\u001b[1;31m---------------------------------------------------------------------------\u001b[0m",
      "\u001b[1;31mValueError\u001b[0m                                Traceback (most recent call last)",
      "Cell \u001b[1;32mIn[16], line 3\u001b[0m\n\u001b[0;32m      1\u001b[0m N_op_expanded \u001b[39m=\u001b[39m cp\u001b[39m.\u001b[39mkron(N_op, cp\u001b[39m.\u001b[39meye(\u001b[39m2\u001b[39m))\n\u001b[0;32m      2\u001b[0m delta_expanded \u001b[39m=\u001b[39m cp\u001b[39m.\u001b[39mkron(delta, cp\u001b[39m.\u001b[39meye(\u001b[39m2\u001b[39m))\n\u001b[1;32m----> 3\u001b[0m ReZ_expanded \u001b[39m=\u001b[39m cp\u001b[39m.\u001b[39;49mkron(ReZ, cp\u001b[39m.\u001b[39;49meye(\u001b[39m2\u001b[39;49m))\u001b[39m.\u001b[39;49mreshape(El\u001b[39m.\u001b[39;49msize, r_values\u001b[39m.\u001b[39;49msize, N, \u001b[39m2\u001b[39;49m \u001b[39m*\u001b[39;49m N)\n\u001b[0;32m      4\u001b[0m ImZ_expanded \u001b[39m=\u001b[39m cp\u001b[39m.\u001b[39mkron(ImZ, cp\u001b[39m.\u001b[39meye(\u001b[39m2\u001b[39m))\u001b[39m.\u001b[39mreshape(El\u001b[39m.\u001b[39msize, r_values\u001b[39m.\u001b[39msize, N, \u001b[39m2\u001b[39m \u001b[39m*\u001b[39m N)\n\u001b[0;32m      5\u001b[0m H \u001b[39m=\u001b[39m \u001b[39m4\u001b[39m \u001b[39m*\u001b[39m Ec \u001b[39m*\u001b[39m N_op_expanded \u001b[39m*\u001b[39m\u001b[39m*\u001b[39m \u001b[39m2\u001b[39m \u001b[39m+\u001b[39m \u001b[39m0.5\u001b[39m \u001b[39m*\u001b[39m El[:, cp\u001b[39m.\u001b[39mnewaxis, cp\u001b[39m.\u001b[39mnewaxis] \u001b[39m*\u001b[39m delta_expanded \u001b[39m*\u001b[39m\u001b[39m*\u001b[39m \u001b[39m2\u001b[39m \u001b[39m+\u001b[39m EDelta \u001b[39m*\u001b[39m (ReZ_expanded \u001b[39m@\u001b[39m sigmaz \u001b[39m+\u001b[39m ImZ_expanded \u001b[39m@\u001b[39m sigmay)\n",
      "File \u001b[1;32mcupy/core/core.pyx:562\u001b[0m, in \u001b[0;36mcupy.core.core.ndarray.reshape\u001b[1;34m()\u001b[0m\n",
      "File \u001b[1;32mcupy/core/_routines_manipulation.pyx:79\u001b[0m, in \u001b[0;36mcupy.core._routines_manipulation._ndarray_reshape\u001b[1;34m()\u001b[0m\n",
      "File \u001b[1;32mcupy/core/_routines_manipulation.pyx:297\u001b[0m, in \u001b[0;36mcupy.core._routines_manipulation._reshape\u001b[1;34m()\u001b[0m\n",
      "\u001b[1;31mValueError\u001b[0m: cannot reshape array of size 120000 into shape 18000000"
     ]
    }
   ],
   "source": [
    "N_op_expanded = cp.kron(N_op, cp.eye(2))\n",
    "delta_expanded = cp.kron(delta, cp.eye(2))\n",
    "ReZ_expanded = cp.kron(ReZ, cp.eye(2)).reshape(El.size, r_values.size, N, 2 * N)\n",
    "ImZ_expanded = cp.kron(ImZ, cp.eye(2)).reshape(El.size, r_values.size, N, 2 * N)\n",
    "H = 4 * Ec * N_op_expanded ** 2 + 0.5 * El[:, cp.newaxis, cp.newaxis] * delta_expanded ** 2 + EDelta * (ReZ_expanded @ sigmaz + ImZ_expanded @ sigmay)\n",
    "# Calcula el elemento de matriz <0|n|1>\n",
    "matrix_element = cp.abs(H[:, 0, N, 1]).reshape(El.size, r_values.size)\n",
    "# Crear gráfica\n",
    "El_grid, r_grid = cp.meshgrid(El, r_values, indexing='ij')\n",
    "plt.contourf(cp.asnumpy(El_grid), cp.asnumpy(r_grid), cp.asnumpy(matrix_element), cmap='viridis')\n",
    "plt.xlabel('El')\n",
    "plt.ylabel('r')\n",
    "plt.colorbar(label='Matrix element')\n",
    "plt.show()"
   ]
  }
 ],
 "metadata": {
  "kernelspec": {
   "display_name": "gpu",
   "language": "python",
   "name": "python3"
  },
  "language_info": {
   "codemirror_mode": {
    "name": "ipython",
    "version": 3
   },
   "file_extension": ".py",
   "mimetype": "text/x-python",
   "name": "python",
   "nbconvert_exporter": "python",
   "pygments_lexer": "ipython3",
   "version": "3.9.16"
  },
  "orig_nbformat": 4
 },
 "nbformat": 4,
 "nbformat_minor": 2
}
