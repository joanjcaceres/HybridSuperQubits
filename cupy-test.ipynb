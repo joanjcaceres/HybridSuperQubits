{
 "cells": [
  {
   "cell_type": "code",
   "execution_count": null,
   "metadata": {},
   "outputs": [],
   "source": [
    "import cupy as cp\n",
    "import matplotlib.pyplot as plt\n",
    "\n",
    "# Parámetros\n",
    "N = 10\n",
    "Ec = 1.0\n",
    "El = cp.linspace(0.1, 10, 300)\n",
    "EDelta = 1.0\n",
    "phi_ext = 0.0\n",
    "r_values = cp.linspace(0.1, 10, 300)\n",
    "\n",
    "phi_ZPF = (2.0 * Ec / El) ** 0.25\n",
    "\n",
    "def destroy(N):\n",
    "    return cp.sqrt(cp.arange(1, N))[:, cp.newaxis] * cp.eye(N, k=1)\n",
    "\n",
    "N_op = 1j * (destroy(N).T - destroy(N)) / phi_ZPF[:, cp.newaxis, cp.newaxis] / 2\n",
    "phi_op = (destroy(N).T + destroy(N)) * phi_ZPF[:, cp.newaxis, cp.newaxis]\n",
    "\n",
    "delta = phi_op - phi_ext\n",
    "\n",
    "ReZ = (phi_op / 2).cos() * (r_values * phi_op / 2).cos()[:, cp.newaxis, cp.newaxis] + r_values[:, cp.newaxis, cp.newaxis] * (phi_op / 2).sin() * (r_values * phi_op / 2).sin()[:, cp.newaxis, cp.newaxis]\n",
    "ImZ = -(phi_op / 2).cos() * (r_values * phi_op / 2).sin()[:, cp.newaxis, cp.newaxis] + r_values[:, cp.newaxis, cp.newaxis] * (phi_op / 2).sin() * (r_values * phi_op / 2).cos()[:, cp.newaxis, cp.newaxis]\n",
    "\n",
    "sigmaz = cp.array([[1, 0], [0, -1]])\n",
    "sigmay = cp.array([[0, -1j], [1j, 0]])\n",
    "\n",
    "H = 4 * Ec * cp.tensordot(N_op, cp.eye(2), axes=0) ** 2 + 0.5 * El[:, cp.newaxis, cp.newaxis] * cp.tensordot(delta, cp.eye(2), axes=0) ** 2 + EDelta * (cp.tensordot(ReZ, sigmaz, axes=([2, 3], [0, 1])) + cp.tensordot(ImZ, sigmay, axes=([2, 3], [0, 1])))\n",
    "\n",
    "# Calcula el elemento de matriz <0|n|1>\n",
    "matrix_element = cp.abs(H[:, 0, N, 1]).reshape(El.size, r_values.size)\n",
    "\n",
    "# Crear gráfica\n",
    "El_grid, r_grid = cp.meshgrid(El, r_values, indexing='ij')\n",
    "plt.contourf(cp.asnumpy(El_grid), cp.asnumpy(r_grid), cp.asnumpy(matrix_element), cmap='viridis')\n",
    "plt.xlabel('El')\n",
    "plt.ylabel('r')\n",
    "plt.colorbar(label='Matrix element')\n",
    "plt.show()\n"
   ]
  }
 ],
 "metadata": {
  "language_info": {
   "name": "python"
  },
  "orig_nbformat": 4
 },
 "nbformat": 4,
 "nbformat_minor": 2
}
