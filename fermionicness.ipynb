{
 "cells": [
  {
   "cell_type": "code",
   "execution_count": 1,
   "metadata": {},
   "outputs": [],
   "source": [
    "import numpy as np\n",
    "from qutip import *\n",
    "import dask\n",
    "import pandas as pd\n",
    "from dask import delayed\n",
    "import dask.bag as db\n",
    "import dask.array as da\n",
    "from dask.distributed import Client, LocalCluster,progress\n",
    "# from tqdm import tqdm\n",
    "import importlib\n",
    "import functions_fbq\n",
    "importlib.reload(functions_fbq)\n",
    "from functions_fbq import *\n",
    "from scipy.interpolate import CubicSpline\n",
    "import matplotlib.pyplot as plt\n",
    "import matplotlib.colors as colors\n",
    "from figurestyle import *\n",
    "figure_features()"
   ]
  },
  {
   "cell_type": "code",
   "execution_count": 2,
   "metadata": {},
   "outputs": [
    {
     "name": "stderr",
     "output_type": "stream",
     "text": [
      "INFO:distributed.http.proxy:To route to workers diagnostics web server please install jupyter-server-proxy: python -m pip install jupyter-server-proxy\n",
      "INFO:distributed.scheduler:State start\n",
      "INFO:distributed.scheduler:  Scheduler at:     tcp://127.0.0.1:52363\n",
      "INFO:distributed.scheduler:  dashboard at:            127.0.0.1:8787\n",
      "INFO:distributed.nanny:        Start Nanny at: 'tcp://127.0.0.1:52381'\n",
      "INFO:distributed.nanny:        Start Nanny at: 'tcp://127.0.0.1:52382'\n",
      "INFO:distributed.nanny:        Start Nanny at: 'tcp://127.0.0.1:52366'\n",
      "INFO:distributed.nanny:        Start Nanny at: 'tcp://127.0.0.1:52383'\n",
      "INFO:distributed.nanny:        Start Nanny at: 'tcp://127.0.0.1:52367'\n",
      "INFO:distributed.nanny:        Start Nanny at: 'tcp://127.0.0.1:52384'\n",
      "INFO:distributed.nanny:        Start Nanny at: 'tcp://127.0.0.1:52368'\n",
      "INFO:distributed.nanny:        Start Nanny at: 'tcp://127.0.0.1:52385'\n",
      "INFO:distributed.nanny:        Start Nanny at: 'tcp://127.0.0.1:52369'\n",
      "INFO:distributed.nanny:        Start Nanny at: 'tcp://127.0.0.1:52370'\n",
      "INFO:distributed.nanny:        Start Nanny at: 'tcp://127.0.0.1:52371'\n",
      "INFO:distributed.nanny:        Start Nanny at: 'tcp://127.0.0.1:52372'\n",
      "INFO:distributed.nanny:        Start Nanny at: 'tcp://127.0.0.1:52373'\n",
      "INFO:distributed.nanny:        Start Nanny at: 'tcp://127.0.0.1:52374'\n",
      "INFO:distributed.nanny:        Start Nanny at: 'tcp://127.0.0.1:52375'\n",
      "INFO:distributed.nanny:        Start Nanny at: 'tcp://127.0.0.1:52376'\n",
      "INFO:distributed.nanny:        Start Nanny at: 'tcp://127.0.0.1:52377'\n",
      "INFO:distributed.nanny:        Start Nanny at: 'tcp://127.0.0.1:52378'\n",
      "INFO:distributed.nanny:        Start Nanny at: 'tcp://127.0.0.1:52379'\n",
      "INFO:distributed.nanny:        Start Nanny at: 'tcp://127.0.0.1:52380'\n",
      "INFO:distributed.scheduler:Register worker <WorkerState 'tcp://127.0.0.1:52417', name: 1, status: init, memory: 0, processing: 0>\n",
      "INFO:distributed.scheduler:Starting worker compute stream, tcp://127.0.0.1:52417\n",
      "INFO:distributed.core:Starting established connection to tcp://127.0.0.1:52421\n",
      "INFO:distributed.scheduler:Register worker <WorkerState 'tcp://127.0.0.1:52419', name: 18, status: init, memory: 0, processing: 0>\n",
      "INFO:distributed.scheduler:Starting worker compute stream, tcp://127.0.0.1:52419\n",
      "INFO:distributed.core:Starting established connection to tcp://127.0.0.1:52423\n",
      "INFO:distributed.scheduler:Register worker <WorkerState 'tcp://127.0.0.1:52429', name: 19, status: init, memory: 0, processing: 0>\n",
      "INFO:distributed.scheduler:Starting worker compute stream, tcp://127.0.0.1:52429\n",
      "INFO:distributed.core:Starting established connection to tcp://127.0.0.1:52431\n",
      "INFO:distributed.scheduler:Register worker <WorkerState 'tcp://127.0.0.1:52426', name: 16, status: init, memory: 0, processing: 0>\n",
      "INFO:distributed.scheduler:Starting worker compute stream, tcp://127.0.0.1:52426\n",
      "INFO:distributed.core:Starting established connection to tcp://127.0.0.1:52428\n",
      "INFO:distributed.scheduler:Register worker <WorkerState 'tcp://127.0.0.1:52432', name: 0, status: init, memory: 0, processing: 0>\n",
      "INFO:distributed.scheduler:Starting worker compute stream, tcp://127.0.0.1:52432\n",
      "INFO:distributed.core:Starting established connection to tcp://127.0.0.1:52436\n",
      "INFO:distributed.scheduler:Register worker <WorkerState 'tcp://127.0.0.1:52437', name: 4, status: init, memory: 0, processing: 0>\n",
      "INFO:distributed.scheduler:Starting worker compute stream, tcp://127.0.0.1:52437\n",
      "INFO:distributed.core:Starting established connection to tcp://127.0.0.1:52439\n",
      "INFO:distributed.scheduler:Register worker <WorkerState 'tcp://127.0.0.1:52444', name: 7, status: init, memory: 0, processing: 0>\n",
      "INFO:distributed.scheduler:Starting worker compute stream, tcp://127.0.0.1:52444\n",
      "INFO:distributed.core:Starting established connection to tcp://127.0.0.1:52446\n",
      "INFO:distributed.scheduler:Register worker <WorkerState 'tcp://127.0.0.1:52449', name: 17, status: init, memory: 0, processing: 0>\n",
      "INFO:distributed.scheduler:Starting worker compute stream, tcp://127.0.0.1:52449\n",
      "INFO:distributed.core:Starting established connection to tcp://127.0.0.1:52451\n",
      "INFO:distributed.scheduler:Register worker <WorkerState 'tcp://127.0.0.1:52452', name: 6, status: init, memory: 0, processing: 0>\n",
      "INFO:distributed.scheduler:Starting worker compute stream, tcp://127.0.0.1:52452\n",
      "INFO:distributed.core:Starting established connection to tcp://127.0.0.1:52454\n",
      "INFO:distributed.scheduler:Register worker <WorkerState 'tcp://127.0.0.1:52457', name: 5, status: init, memory: 0, processing: 0>\n",
      "INFO:distributed.scheduler:Starting worker compute stream, tcp://127.0.0.1:52457\n",
      "INFO:distributed.core:Starting established connection to tcp://127.0.0.1:52459\n",
      "INFO:distributed.scheduler:Register worker <WorkerState 'tcp://127.0.0.1:52462', name: 2, status: init, memory: 0, processing: 0>\n",
      "INFO:distributed.scheduler:Starting worker compute stream, tcp://127.0.0.1:52462\n",
      "INFO:distributed.core:Starting established connection to tcp://127.0.0.1:52464\n",
      "INFO:distributed.scheduler:Register worker <WorkerState 'tcp://127.0.0.1:52467', name: 14, status: init, memory: 0, processing: 0>\n",
      "INFO:distributed.scheduler:Starting worker compute stream, tcp://127.0.0.1:52467\n",
      "INFO:distributed.core:Starting established connection to tcp://127.0.0.1:52469\n",
      "INFO:distributed.scheduler:Register worker <WorkerState 'tcp://127.0.0.1:52474', name: 3, status: init, memory: 0, processing: 0>\n",
      "INFO:distributed.scheduler:Starting worker compute stream, tcp://127.0.0.1:52474\n",
      "INFO:distributed.core:Starting established connection to tcp://127.0.0.1:52476\n",
      "INFO:distributed.scheduler:Register worker <WorkerState 'tcp://127.0.0.1:52479', name: 11, status: init, memory: 0, processing: 0>\n",
      "INFO:distributed.scheduler:Starting worker compute stream, tcp://127.0.0.1:52479\n",
      "INFO:distributed.core:Starting established connection to tcp://127.0.0.1:52481\n",
      "INFO:distributed.scheduler:Register worker <WorkerState 'tcp://127.0.0.1:52482', name: 13, status: init, memory: 0, processing: 0>\n",
      "INFO:distributed.scheduler:Starting worker compute stream, tcp://127.0.0.1:52482\n",
      "INFO:distributed.core:Starting established connection to tcp://127.0.0.1:52484\n",
      "INFO:distributed.scheduler:Register worker <WorkerState 'tcp://127.0.0.1:52487', name: 10, status: init, memory: 0, processing: 0>\n",
      "INFO:distributed.scheduler:Starting worker compute stream, tcp://127.0.0.1:52487\n",
      "INFO:distributed.core:Starting established connection to tcp://127.0.0.1:52491\n",
      "INFO:distributed.scheduler:Register worker <WorkerState 'tcp://127.0.0.1:52494', name: 9, status: init, memory: 0, processing: 0>\n",
      "INFO:distributed.scheduler:Starting worker compute stream, tcp://127.0.0.1:52494\n",
      "INFO:distributed.core:Starting established connection to tcp://127.0.0.1:52496\n",
      "INFO:distributed.scheduler:Register worker <WorkerState 'tcp://127.0.0.1:52498', name: 8, status: init, memory: 0, processing: 0>\n",
      "INFO:distributed.scheduler:Starting worker compute stream, tcp://127.0.0.1:52498\n",
      "INFO:distributed.core:Starting established connection to tcp://127.0.0.1:52502\n",
      "INFO:distributed.scheduler:Register worker <WorkerState 'tcp://127.0.0.1:52503', name: 15, status: init, memory: 0, processing: 0>\n",
      "INFO:distributed.scheduler:Starting worker compute stream, tcp://127.0.0.1:52503\n",
      "INFO:distributed.core:Starting established connection to tcp://127.0.0.1:52505\n",
      "INFO:distributed.scheduler:Register worker <WorkerState 'tcp://127.0.0.1:52497', name: 12, status: init, memory: 0, processing: 0>\n",
      "INFO:distributed.scheduler:Starting worker compute stream, tcp://127.0.0.1:52497\n",
      "INFO:distributed.core:Starting established connection to tcp://127.0.0.1:52500\n",
      "INFO:distributed.scheduler:Receive client connection: Client-a262fdee-c74d-11ed-8760-d89ef3363bb2\n",
      "INFO:distributed.core:Starting established connection to tcp://127.0.0.1:52514\n"
     ]
    }
   ],
   "source": [
    "cluster = LocalCluster(n_workers=20, threads_per_worker=1)\n",
    "client = Client(cluster)"
   ]
  },
  {
   "cell_type": "code",
   "execution_count": 3,
   "metadata": {},
   "outputs": [],
   "source": [
    "Ec = 40e9\n",
    "EDelta = 20e9\n",
    "eigvals = 2\n",
    "phi_ext = np.pi\n",
    "\n",
    "El_list = np.logspace(np.log10(10e6), np.log10(50e9), 50)\n",
    "r_list = np.linspace(0.01, 0.99, 50)\n",
    "El_r_pairs = [(El,r) for El in El_list for r in r_list]\n",
    "fermionic_fidelity_matrix = np.zeros((len(El_list), len(r_list)))\n",
    "disjointness_matrix = np.zeros((len(El_list), len(r_list)))"
   ]
  },
  {
   "cell_type": "code",
   "execution_count": 50,
   "metadata": {},
   "outputs": [],
   "source": [
    "@delayed\n",
    "def fermionic_fidelity_function(El,r):\n",
    "    _,ekets = eigensystem_fbq(Ec, El, EDelta, phi_ext, r, N = 100, eigvals = 2)\n",
    "    rho_0 = (ekets[0]*ekets[0].dag()).ptrace(1)\n",
    "    rho_1 = (ekets[1]*ekets[1].dag()).ptrace(1)\n",
    "    return np.abs(((rho_0.sqrtm()*rho_1*rho_0.sqrtm()).sqrtm()).tr())**2\n"
   ]
  },
  {
   "cell_type": "code",
   "execution_count": 51,
   "metadata": {},
   "outputs": [],
   "source": [
    "# Crear un dask bag a partir de la lista de tuplas y mapear la función process_r\n",
    "results_bag = db.from_sequence(El_r_pairs).map(lambda x: fermionic_fidelity_function(x[0], x[1]))\n",
    "\n",
    "# Calcular los resultados\n",
    "computed_results = dask.compute(*results_bag)\n",
    "\n",
    "# Asignar los resultados a las matrices correspondientes\n",
    "k = 0\n",
    "for i, El in enumerate(El_list):\n",
    "    for j, r in enumerate(r_list):\n",
    "        fermionic_fidelity_matrix[i,j] = computed_results[k]\n",
    "        k += 1"
   ]
  },
  {
   "cell_type": "code",
   "execution_count": 52,
   "metadata": {},
   "outputs": [],
   "source": [
    "El_mesh, r_mesh = np.meshgrid(El_list, r_list, indexing=\"ij\")\n",
    "\n",
    "El_flat = El_mesh.flatten()\n",
    "r_flat = r_mesh.flatten()\n",
    "fidelity_flat = fermionic_fidelity_matrix.flatten()\n",
    "\n",
    "data = {'El': El_flat, 'r': r_flat, 'Fidelidad': fidelity_flat}\n",
    "df = pd.DataFrame(data)\n",
    "\n",
    "filename = f'fermionic_fidelity_Ec_{Ec*1e-9:.0f}_Delta_{EDelta*1e-9:.0f}_phi_ext_{phi_ext:.2f}.csv'\n",
    "df.to_csv(filename, index=False)"
   ]
  },
  {
   "cell_type": "code",
   "execution_count": 53,
   "metadata": {},
   "outputs": [
    {
     "data": {
      "image/png": "[encoded data removed]",
      "text/plain": [
       "<Figure size 800x600 with 2 Axes>"
      ]
     },
     "metadata": {},
     "output_type": "display_data"
    }
   ],
   "source": [
    "fig, ax = plt.subplots(figsize=(8, 6))\n",
    "fid = ax.pcolormesh(El_mesh*1e-9, r_mesh, fermionic_fidelity_matrix, cmap='seismic', vmax = 1, vmin = 0)\n",
    "ax.set_xscale('log')\n",
    "ax.set_xlabel(r'$E_L$ (GHz)')\n",
    "ax.set_ylabel(r'$r$')\n",
    "ax.set_title(r'$\\left(tr \\sqrt{ \\sqrt{\\rho_0} \\rho_1 \\sqrt{\\rho_0}}\\right)^2 \\quad E_C = $' + f'{Ec*1e-9:.0f} GHz, ' + r'$\\Delta = $' + f'{EDelta*1e-9:.0f} GHz, ' + r'$\\phi_{ext} = $' + f'{phi_ext:.2f}', fontsize = 14)\n",
    "fig.colorbar(fid, ax=ax)\n",
    "fig.tight_layout()\n",
    "fig.savefig(f'figures/fermionic_fidelity_Ec_{Ec*1e-9:.0f}_Delta_{EDelta*1e-9:.0f}_phi_ext_{phi_ext:.2f}.pdf')\n",
    "plt.show()"
   ]
  },
  {
   "attachments": {},
   "cell_type": "markdown",
   "metadata": {},
   "source": [
    "## Disjointness"
   ]
  },
  {
   "cell_type": "code",
   "execution_count": 4,
   "metadata": {},
   "outputs": [],
   "source": [
    "def value_to_integrate(psi_0,psi_1,phi_ket_list,theta,phi,i):\n",
    "    return (np.abs((psi_0.dag()*(np.cos(theta/2)*tensor(phi_ket_list[i],basis(2,0)) + np.sin(theta/2)*np.exp(1j*phi)*tensor(phi_ket_list[i],basis(2,1))))[0,0])**2 , np.abs((psi_1.dag()*(np.cos(theta/2)*tensor(phi_ket_list[i],basis(2,0)) + np.sin(theta/2)*np.exp(1j*phi)*tensor(phi_ket_list[i],basis(2,1))))[0,0])**2)"
   ]
  },
  {
   "cell_type": "code",
   "execution_count": 5,
   "metadata": {},
   "outputs": [],
   "source": [
    "@delayed\n",
    "def disjointness_function(El,r):\n",
    "    _,ekets = eigensystem_fbq(Ec,El,EDelta,phi_ext,r, N = 100, eigvals = 2)\n",
    "    psi_0 = ekets[0]\n",
    "    psi_1 = ekets[1]\n",
    "    phi_ZPF=(2.0 * Ec / El) ** 0.25\n",
    "    phi_op= (destroy(100).dag() + destroy(100)) * phi_ZPF\n",
    "    phi_ket_list = phi_op.eigenstates()[1]\n",
    "\n",
    "    theta_discretization = 5\n",
    "    phi_discretization = 5\n",
    "\n",
    "    A = np.zeros((100,theta_discretization,phi_discretization))\n",
    "    B = np.zeros((100,theta_discretization,phi_discretization))\n",
    "\n",
    "    for i in range(100):\n",
    "        for j,theta in enumerate(np.linspace(0,np.pi,theta_discretization)):\n",
    "            for k,phi in enumerate(np.linspace(0,2*np.pi,phi_discretization + 1)[:-1]):\n",
    "                A[i,j,k],B[i,j,k] = value_to_integrate(psi_0,psi_1,phi_ket_list,theta,phi, i)\n",
    "    return (A*B).sum()/A.sum()/B.sum()"
   ]
  },
  {
   "cell_type": "code",
   "execution_count": 6,
   "metadata": {},
   "outputs": [],
   "source": [
    "# Crear un dask bag a partir de la lista de tuplas y mapear la función process_r\n",
    "results_bag = db.from_sequence(El_r_pairs).map(lambda x: disjointness_function(x[0], x[1]))\n",
    "\n",
    "# Calcular los resultados\n",
    "computed_results = dask.compute(*results_bag)\n",
    "\n",
    "# Asignar los resultados a las matrices correspondientes\n",
    "k = 0\n",
    "for i, El in enumerate(El_list):\n",
    "    for j, r in enumerate(r_list):\n",
    "        disjointness_matrix[i,j] = computed_results[k]\n",
    "        k += 1"
   ]
  },
  {
   "cell_type": "code",
   "execution_count": null,
   "metadata": {},
   "outputs": [],
   "source": []
  }
 ],
 "metadata": {
  "kernelspec": {
   "display_name": "parallel",
   "language": "python",
   "name": "python3"
  },
  "language_info": {
   "codemirror_mode": {
    "name": "ipython",
    "version": 3
   },
   "file_extension": ".py",
   "mimetype": "text/x-python",
   "name": "python",
   "nbconvert_exporter": "python",
   "pygments_lexer": "ipython3",
   "version": "3.10.9"
  },
  "orig_nbformat": 4
 },
 "nbformat": 4,
 "nbformat_minor": 2
}
