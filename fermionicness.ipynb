{
 "cells": [
  {
   "cell_type": "code",
   "execution_count": 1,
   "metadata": {},
   "outputs": [],
   "source": [
    "import numpy as np\n",
    "from qutip import *\n",
    "import dask\n",
    "import pandas as pd\n",
    "from dask import delayed\n",
    "import dask.bag as db\n",
    "import dask.array as da\n",
    "from dask.distributed import Client, LocalCluster,progress\n",
    "# from tqdm import tqdm\n",
    "import importlib\n",
    "import functions_fbq\n",
    "importlib.reload(functions_fbq)\n",
    "from functions_fbq import *\n",
    "from scipy.interpolate import CubicSpline\n",
    "import matplotlib.pyplot as plt\n",
    "import matplotlib.colors as colors\n",
    "from figurestyle import *\n",
    "figure_features()"
   ]
  },
  {
   "cell_type": "code",
   "execution_count": 2,
   "metadata": {},
   "outputs": [
    {
     "name": "stderr",
     "output_type": "stream",
     "text": [
      "INFO:distributed.http.proxy:To route to workers diagnostics web server please install jupyter-server-proxy: python -m pip install jupyter-server-proxy\n",
      "INFO:distributed.scheduler:State start\n",
      "INFO:distributed.scheduler:  Scheduler at:     tcp://127.0.0.1:51331\n",
      "INFO:distributed.scheduler:  dashboard at:            127.0.0.1:8787\n",
      "INFO:distributed.nanny:        Start Nanny at: 'tcp://127.0.0.1:51343'\n",
      "INFO:distributed.nanny:        Start Nanny at: 'tcp://127.0.0.1:51344'\n",
      "INFO:distributed.nanny:        Start Nanny at: 'tcp://127.0.0.1:51345'\n",
      "INFO:distributed.nanny:        Start Nanny at: 'tcp://127.0.0.1:51346'\n",
      "INFO:distributed.nanny:        Start Nanny at: 'tcp://127.0.0.1:51347'\n",
      "INFO:distributed.nanny:        Start Nanny at: 'tcp://127.0.0.1:51348'\n",
      "INFO:distributed.nanny:        Start Nanny at: 'tcp://127.0.0.1:51349'\n",
      "INFO:distributed.nanny:        Start Nanny at: 'tcp://127.0.0.1:51350'\n",
      "INFO:distributed.nanny:        Start Nanny at: 'tcp://127.0.0.1:51334'\n",
      "INFO:distributed.nanny:        Start Nanny at: 'tcp://127.0.0.1:51351'\n",
      "INFO:distributed.nanny:        Start Nanny at: 'tcp://127.0.0.1:51335'\n",
      "INFO:distributed.nanny:        Start Nanny at: 'tcp://127.0.0.1:51352'\n",
      "INFO:distributed.nanny:        Start Nanny at: 'tcp://127.0.0.1:51336'\n",
      "INFO:distributed.nanny:        Start Nanny at: 'tcp://127.0.0.1:51353'\n",
      "INFO:distributed.nanny:        Start Nanny at: 'tcp://127.0.0.1:51337'\n",
      "INFO:distributed.nanny:        Start Nanny at: 'tcp://127.0.0.1:51338'\n",
      "INFO:distributed.nanny:        Start Nanny at: 'tcp://127.0.0.1:51339'\n",
      "INFO:distributed.nanny:        Start Nanny at: 'tcp://127.0.0.1:51340'\n",
      "INFO:distributed.nanny:        Start Nanny at: 'tcp://127.0.0.1:51341'\n",
      "INFO:distributed.nanny:        Start Nanny at: 'tcp://127.0.0.1:51342'\n",
      "INFO:distributed.scheduler:Register worker <WorkerState 'tcp://127.0.0.1:51382', name: 19, status: init, memory: 0, processing: 0>\n",
      "INFO:distributed.scheduler:Starting worker compute stream, tcp://127.0.0.1:51382\n",
      "INFO:distributed.core:Starting established connection to tcp://127.0.0.1:51384\n",
      "INFO:distributed.scheduler:Register worker <WorkerState 'tcp://127.0.0.1:51389', name: 11, status: init, memory: 0, processing: 0>\n",
      "INFO:distributed.scheduler:Starting worker compute stream, tcp://127.0.0.1:51389\n",
      "INFO:distributed.core:Starting established connection to tcp://127.0.0.1:51394\n",
      "INFO:distributed.scheduler:Register worker <WorkerState 'tcp://127.0.0.1:51390', name: 10, status: init, memory: 0, processing: 0>\n",
      "INFO:distributed.scheduler:Starting worker compute stream, tcp://127.0.0.1:51390\n",
      "INFO:distributed.core:Starting established connection to tcp://127.0.0.1:51393\n",
      "INFO:distributed.scheduler:Register worker <WorkerState 'tcp://127.0.0.1:51397', name: 9, status: init, memory: 0, processing: 0>\n",
      "INFO:distributed.scheduler:Starting worker compute stream, tcp://127.0.0.1:51397\n",
      "INFO:distributed.core:Starting established connection to tcp://127.0.0.1:51399\n",
      "INFO:distributed.scheduler:Register worker <WorkerState 'tcp://127.0.0.1:51400', name: 0, status: init, memory: 0, processing: 0>\n",
      "INFO:distributed.scheduler:Starting worker compute stream, tcp://127.0.0.1:51400\n",
      "INFO:distributed.core:Starting established connection to tcp://127.0.0.1:51402\n",
      "INFO:distributed.scheduler:Register worker <WorkerState 'tcp://127.0.0.1:51407', name: 16, status: init, memory: 0, processing: 0>\n",
      "INFO:distributed.scheduler:Starting worker compute stream, tcp://127.0.0.1:51407\n",
      "INFO:distributed.core:Starting established connection to tcp://127.0.0.1:51409\n",
      "INFO:distributed.scheduler:Register worker <WorkerState 'tcp://127.0.0.1:51412', name: 14, status: init, memory: 0, processing: 0>\n",
      "INFO:distributed.scheduler:Starting worker compute stream, tcp://127.0.0.1:51412\n",
      "INFO:distributed.core:Starting established connection to tcp://127.0.0.1:51414\n",
      "INFO:distributed.scheduler:Register worker <WorkerState 'tcp://127.0.0.1:51417', name: 13, status: init, memory: 0, processing: 0>\n",
      "INFO:distributed.scheduler:Starting worker compute stream, tcp://127.0.0.1:51417\n",
      "INFO:distributed.core:Starting established connection to tcp://127.0.0.1:51419\n",
      "INFO:distributed.scheduler:Register worker <WorkerState 'tcp://127.0.0.1:51422', name: 15, status: init, memory: 0, processing: 0>\n",
      "INFO:distributed.scheduler:Starting worker compute stream, tcp://127.0.0.1:51422\n",
      "INFO:distributed.core:Starting established connection to tcp://127.0.0.1:51424\n",
      "INFO:distributed.scheduler:Register worker <WorkerState 'tcp://127.0.0.1:51427', name: 2, status: init, memory: 0, processing: 0>\n",
      "INFO:distributed.scheduler:Starting worker compute stream, tcp://127.0.0.1:51427\n",
      "INFO:distributed.core:Starting established connection to tcp://127.0.0.1:51429\n",
      "INFO:distributed.scheduler:Register worker <WorkerState 'tcp://127.0.0.1:51432', name: 12, status: init, memory: 0, processing: 0>\n",
      "INFO:distributed.scheduler:Starting worker compute stream, tcp://127.0.0.1:51432\n",
      "INFO:distributed.core:Starting established connection to tcp://127.0.0.1:51434\n",
      "INFO:distributed.scheduler:Register worker <WorkerState 'tcp://127.0.0.1:51437', name: 8, status: init, memory: 0, processing: 0>\n",
      "INFO:distributed.scheduler:Starting worker compute stream, tcp://127.0.0.1:51437\n",
      "INFO:distributed.core:Starting established connection to tcp://127.0.0.1:51439\n",
      "INFO:distributed.scheduler:Register worker <WorkerState 'tcp://127.0.0.1:51444', name: 3, status: init, memory: 0, processing: 0>\n",
      "INFO:distributed.scheduler:Starting worker compute stream, tcp://127.0.0.1:51444\n",
      "INFO:distributed.core:Starting established connection to tcp://127.0.0.1:51448\n",
      "INFO:distributed.scheduler:Register worker <WorkerState 'tcp://127.0.0.1:51445', name: 4, status: init, memory: 0, processing: 0>\n",
      "INFO:distributed.scheduler:Starting worker compute stream, tcp://127.0.0.1:51445\n",
      "INFO:distributed.core:Starting established connection to tcp://127.0.0.1:51449\n",
      "INFO:distributed.scheduler:Register worker <WorkerState 'tcp://127.0.0.1:51452', name: 5, status: init, memory: 0, processing: 0>\n",
      "INFO:distributed.scheduler:Starting worker compute stream, tcp://127.0.0.1:51452\n",
      "INFO:distributed.core:Starting established connection to tcp://127.0.0.1:51456\n",
      "INFO:distributed.scheduler:Register worker <WorkerState 'tcp://127.0.0.1:51457', name: 18, status: init, memory: 0, processing: 0>\n",
      "INFO:distributed.scheduler:Starting worker compute stream, tcp://127.0.0.1:51457\n",
      "INFO:distributed.core:Starting established connection to tcp://127.0.0.1:51459\n",
      "INFO:distributed.scheduler:Register worker <WorkerState 'tcp://127.0.0.1:51464', name: 17, status: init, memory: 0, processing: 0>\n",
      "INFO:distributed.scheduler:Starting worker compute stream, tcp://127.0.0.1:51464\n",
      "INFO:distributed.core:Starting established connection to tcp://127.0.0.1:51466\n",
      "INFO:distributed.scheduler:Register worker <WorkerState 'tcp://127.0.0.1:51467', name: 6, status: init, memory: 0, processing: 0>\n",
      "INFO:distributed.scheduler:Starting worker compute stream, tcp://127.0.0.1:51467\n",
      "INFO:distributed.core:Starting established connection to tcp://127.0.0.1:51469\n",
      "INFO:distributed.scheduler:Register worker <WorkerState 'tcp://127.0.0.1:51470', name: 1, status: init, memory: 0, processing: 0>\n",
      "INFO:distributed.scheduler:Starting worker compute stream, tcp://127.0.0.1:51470\n",
      "INFO:distributed.core:Starting established connection to tcp://127.0.0.1:51472\n",
      "INFO:distributed.scheduler:Register worker <WorkerState 'tcp://127.0.0.1:51473', name: 7, status: init, memory: 0, processing: 0>\n",
      "INFO:distributed.scheduler:Starting worker compute stream, tcp://127.0.0.1:51473\n",
      "INFO:distributed.core:Starting established connection to tcp://127.0.0.1:51475\n",
      "INFO:distributed.scheduler:Receive client connection: Client-e3795432-c8c7-11ed-875c-d89ef3363bb2\n",
      "INFO:distributed.core:Starting established connection to tcp://127.0.0.1:51480\n"
     ]
    }
   ],
   "source": [
    "cluster = LocalCluster(n_workers=20, threads_per_worker=1)\n",
    "client = Client(cluster)"
   ]
  },
  {
   "cell_type": "code",
   "execution_count": 74,
   "metadata": {},
   "outputs": [],
   "source": [
    "Ec = 40e9\n",
    "El = 0.05e9\n",
    "# EDelta = 20e9\n",
    "eigvals = 2\n",
    "phi_ext = 0\n",
    "\n",
    "# El_list = np.logspace(np.log10(10e6), np.log10(50e9), 20)\n",
    "EDelta_list = np.linspace(10e9, 40e9, 30)\n",
    "r_list = np.linspace(0.01, 0.99, 20)\n",
    "EDelta_r_pairs = [(EDelta,r) for EDelta in EDelta_list for r in r_list]\n",
    "statistical_fidelity_matrix = np.zeros((2,len(EDelta_list), len(r_list)))\n",
    "# bosonic_fidelity_matrix = np.zeros((len(EDelta_list), len(r_list)))\n",
    "# disjointness_matrix = np.zeros((len(EDelta_list), len(r_list)))"
   ]
  },
  {
   "cell_type": "code",
   "execution_count": 75,
   "metadata": {},
   "outputs": [],
   "source": [
    "@delayed\n",
    "def statistical_fidelity_function(EDelta,r):\n",
    "    _,ekets = eigensystem_fbq(Ec, El, EDelta, phi_ext, r, N = 100, eigvals = 2)\n",
    "    rho_0_f = (ekets[0]*ekets[0].dag()).ptrace(0)\n",
    "    rho_1_f = (ekets[1]*ekets[1].dag()).ptrace(0)\n",
    "\n",
    "    rho_0_b = (ekets[0]*ekets[0].dag()).ptrace(1)\n",
    "    rho_1_b = (ekets[1]*ekets[1].dag()).ptrace(1)\n",
    "    return [1-np.abs(((rho_0_f.sqrtm()*rho_1_f*rho_0_f.sqrtm()).sqrtm()).tr())**4, 1-np.abs(((rho_0_b.sqrtm()*rho_1_b*rho_0_b.sqrtm()).sqrtm()).tr())**4]\n"
   ]
  },
  {
   "cell_type": "code",
   "execution_count": 76,
   "metadata": {},
   "outputs": [],
   "source": [
    "# Crear un dask bag a partir de la lista de tuplas y mapear la función process_r\n",
    "results_bag = db.from_sequence(EDelta_r_pairs).map(lambda x: statistical_fidelity_function(x[0], x[1]))\n",
    "\n",
    "# Calcular los resultados\n",
    "computed_results = dask.compute(*results_bag)\n",
    "\n",
    "# Asignar los resultados a las matrices correspondientes\n",
    "k = 0\n",
    "for i, EDelta in enumerate(EDelta_list):\n",
    "    for j, r in enumerate(r_list):\n",
    "        statistical_fidelity_matrix[:,i,j] = computed_results[k]\n",
    "        # fermionic_fidelity_matrix[i,j] = computed_results[1][k]\n",
    "        k += 1"
   ]
  },
  {
   "cell_type": "code",
   "execution_count": 78,
   "metadata": {},
   "outputs": [],
   "source": [
    "EDelta_mesh, r_mesh = np.meshgrid(EDelta_list, r_list, indexing=\"ij\")\n",
    "\n",
    "EDelta_flat = EDelta_mesh.flatten()\n",
    "r_flat = r_mesh.flatten()\n",
    "fidelity_flat = statistical_fidelity_matrix.flatten()\n",
    "\n",
    "# data = {'El': El_flat, 'r': r_flat, 'Fidelidad': fidelity_flat}\n",
    "# df = pd.DataFrame(data)\n",
    "\n",
    "# # filename = f'fermionic_fidelity_Ec_{Ec*1e-9:.0f}_Delta_{EDelta*1e-9:.0f}_phi_ext_{phi_ext:.2f}.csv'\n",
    "# df.to_csv(filename, index=False)"
   ]
  },
  {
   "cell_type": "code",
   "execution_count": 79,
   "metadata": {},
   "outputs": [
    {
     "data": {
      "image/png": "[encoded data removed]",
      "text/plain": [
       "<Figure size 800x1200 with 6 Axes>"
      ]
     },
     "metadata": {},
     "output_type": "display_data"
    }
   ],
   "source": [
    "fig, ax = plt.subplots(3,1,figsize=(8, 12))\n",
    "# plt.rcParams.update(plt.rcParamsDefault)\n",
    "# plt.rcParams.update(d)\n",
    "fid = ax[0].pcolormesh(EDelta_mesh*1e-9, r_mesh, statistical_fidelity_matrix[0,:,:], cmap='seismic', vmax = 1, vmin = 0)\n",
    "fid = ax[1].pcolormesh(EDelta_mesh*1e-9, r_mesh, statistical_fidelity_matrix[1,:,:], cmap='seismic', vmax = 1, vmin = 0)\n",
    "fid = ax[2].pcolormesh(EDelta_mesh*1e-9, r_mesh, statistical_fidelity_matrix[0,:,:]*statistical_fidelity_matrix[1,:,:], cmap='seismic', vmax = 1, vmin = 0)\n",
    "# fid = ax[2].pcolormesh(EDelta_mesh*1e-9, r_mesh, bosonic_fidelity_matrix, cmap='seismic', vmax = 1, vmin = 0)\n",
    "# ax[0].set_xscale('log')\n",
    "# ax[1].set_xscale('log')\n",
    "# ax[2].set_xscale('log')\n",
    "# ax.set_xlabel(r'$E_L$ (GHz)')\n",
    "# ax.set_ylabel(r'$r$')\n",
    "# ax.set_title(r'Fermionic $\\quad 1-\\left(tr \\sqrt{ \\sqrt{\\rho_0} \\rho_1 \\sqrt{\\rho_0}}\\right)^4 \\quad E_C = $' + f'{Ec*1e-9:.0f} GHz, ' + r'$\\Delta = $' + f'{EDelta*1e-9:.0f} GHz, ' + r'$\\phi_{ext} = $' + f'{phi_ext:.2f}', fontsize = 14)\n",
    "fig.colorbar(fid, ax=ax[1])\n",
    "fig.colorbar(fid, ax=ax[0])\n",
    "fig.colorbar(fid, ax=ax[2])\n",
    "\n",
    "fig.tight_layout()\n",
    "# fig.savefig(f'figures/fermionic_fidelity_Ec_{Ec*1e-9:.0f}_Delta_{EDelta*1e-9:.0f}_phi_ext_{phi_ext:.2f}.pdf')\n",
    "plt.show()"
   ]
  },
  {
   "attachments": {},
   "cell_type": "markdown",
   "metadata": {},
   "source": [
    "## Disjointness"
   ]
  },
  {
   "cell_type": "code",
   "execution_count": 4,
   "metadata": {},
   "outputs": [],
   "source": [
    "def value_to_integrate(psi_0,psi_1,phi_ket_list,theta,phi,i):\n",
    "    return (np.abs((psi_0.dag()*(np.cos(theta/2)*tensor(phi_ket_list[i],basis(2,0)) + np.sin(theta/2)*np.exp(1j*phi)*tensor(phi_ket_list[i],basis(2,1))))[0,0])**2 , np.abs((psi_1.dag()*(np.cos(theta/2)*tensor(phi_ket_list[i],basis(2,0)) + np.sin(theta/2)*np.exp(1j*phi)*tensor(phi_ket_list[i],basis(2,1))))[0,0])**2)"
   ]
  },
  {
   "cell_type": "code",
   "execution_count": 5,
   "metadata": {},
   "outputs": [],
   "source": [
    "@delayed\n",
    "def disjointness_function(El,r):\n",
    "    _,ekets = eigensystem_fbq(Ec,El,EDelta,phi_ext,r, N = 100, eigvals = 2)\n",
    "    psi_0 = ekets[0]\n",
    "    psi_1 = ekets[1]\n",
    "    phi_ZPF=(2.0 * Ec / El) ** 0.25\n",
    "    phi_op= (destroy(100).dag() + destroy(100)) * phi_ZPF\n",
    "    phi_ket_list = phi_op.eigenstates()[1]\n",
    "\n",
    "    theta_discretization = 5\n",
    "    phi_discretization = 5\n",
    "\n",
    "    A = np.zeros((100,theta_discretization,phi_discretization))\n",
    "    B = np.zeros((100,theta_discretization,phi_discretization))\n",
    "\n",
    "    for i in range(100):\n",
    "        for j,theta in enumerate(np.linspace(0,np.pi,theta_discretization)):\n",
    "            for k,phi in enumerate(np.linspace(0,2*np.pi,phi_discretization + 1)[:-1]):\n",
    "                A[i,j,k],B[i,j,k] = value_to_integrate(psi_0,psi_1,phi_ket_list,theta,phi, i)\n",
    "    return (A*B).sum()/A.sum()/B.sum()"
   ]
  },
  {
   "cell_type": "code",
   "execution_count": 6,
   "metadata": {},
   "outputs": [],
   "source": [
    "# Crear un dask bag a partir de la lista de tuplas y mapear la función process_r\n",
    "results_bag = db.from_sequence(El_r_pairs).map(lambda x: disjointness_function(x[0], x[1]))\n",
    "\n",
    "# Calcular los resultados\n",
    "computed_results = dask.compute(*results_bag)\n",
    "\n",
    "# Asignar los resultados a las matrices correspondientes\n",
    "k = 0\n",
    "for i, El in enumerate(El_list):\n",
    "    for j, r in enumerate(r_list):\n",
    "        disjointness_matrix[i,j] = computed_results[k]\n",
    "        k += 1"
   ]
  },
  {
   "cell_type": "code",
   "execution_count": null,
   "metadata": {},
   "outputs": [],
   "source": []
  }
 ],
 "metadata": {
  "kernelspec": {
   "display_name": "parallel",
   "language": "python",
   "name": "python3"
  },
  "language_info": {
   "codemirror_mode": {
    "name": "ipython",
    "version": 3
   },
   "file_extension": ".py",
   "mimetype": "text/x-python",
   "name": "python",
   "nbconvert_exporter": "python",
   "pygments_lexer": "ipython3",
   "version": "3.10.9"
  },
  "orig_nbformat": 4
 },
 "nbformat": 4,
 "nbformat_minor": 2
}
