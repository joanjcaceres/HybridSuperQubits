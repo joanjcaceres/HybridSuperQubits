{
 "cells": [
  {
   "cell_type": "code",
   "execution_count": 2,
   "metadata": {},
   "outputs": [],
   "source": [
    "import numpy as np\n",
    "from qutip import *\n",
    "import dask\n",
    "import pandas as pd\n",
    "from dask import delayed\n",
    "import dask.bag as db\n",
    "import dask.array as da\n",
    "from dask.distributed import Client, LocalCluster,progress\n",
    "# from tqdm import tqdm\n",
    "import importlib\n",
    "import functions_fbq\n",
    "importlib.reload(functions_fbq)\n",
    "from functions_fbq import *\n",
    "from scipy.interpolate import CubicSpline\n",
    "import matplotlib.pyplot as plt\n",
    "import matplotlib.colors as colors\n",
    "from figurestyle import *\n",
    "figure_features()"
   ]
  },
  {
   "cell_type": "code",
   "execution_count": 3,
   "metadata": {},
   "outputs": [
    {
     "name": "stderr",
     "output_type": "stream",
     "text": [
      "INFO:distributed.http.proxy:To route to workers diagnostics web server please install jupyter-server-proxy: python -m pip install jupyter-server-proxy\n",
      "INFO:distributed.scheduler:State start\n",
      "INFO:distributed.scheduler:  Scheduler at:     tcp://127.0.0.1:49516\n",
      "INFO:distributed.scheduler:  dashboard at:            127.0.0.1:8787\n",
      "INFO:distributed.nanny:        Start Nanny at: 'tcp://127.0.0.1:49524'\n",
      "INFO:distributed.nanny:        Start Nanny at: 'tcp://127.0.0.1:49525'\n",
      "INFO:distributed.nanny:        Start Nanny at: 'tcp://127.0.0.1:49526'\n",
      "INFO:distributed.nanny:        Start Nanny at: 'tcp://127.0.0.1:49527'\n",
      "INFO:distributed.nanny:        Start Nanny at: 'tcp://127.0.0.1:49528'\n",
      "INFO:distributed.nanny:        Start Nanny at: 'tcp://127.0.0.1:49529'\n",
      "INFO:distributed.nanny:        Start Nanny at: 'tcp://127.0.0.1:49530'\n",
      "INFO:distributed.nanny:        Start Nanny at: 'tcp://127.0.0.1:49531'\n",
      "INFO:distributed.nanny:        Start Nanny at: 'tcp://127.0.0.1:49538'\n",
      "INFO:distributed.nanny:        Start Nanny at: 'tcp://127.0.0.1:49532'\n",
      "INFO:distributed.nanny:        Start Nanny at: 'tcp://127.0.0.1:49533'\n",
      "INFO:distributed.nanny:        Start Nanny at: 'tcp://127.0.0.1:49534'\n",
      "INFO:distributed.nanny:        Start Nanny at: 'tcp://127.0.0.1:49519'\n",
      "INFO:distributed.nanny:        Start Nanny at: 'tcp://127.0.0.1:49535'\n",
      "INFO:distributed.nanny:        Start Nanny at: 'tcp://127.0.0.1:49520'\n",
      "INFO:distributed.nanny:        Start Nanny at: 'tcp://127.0.0.1:49536'\n",
      "INFO:distributed.nanny:        Start Nanny at: 'tcp://127.0.0.1:49521'\n",
      "INFO:distributed.nanny:        Start Nanny at: 'tcp://127.0.0.1:49537'\n",
      "INFO:distributed.nanny:        Start Nanny at: 'tcp://127.0.0.1:49522'\n",
      "INFO:distributed.nanny:        Start Nanny at: 'tcp://127.0.0.1:49523'\n",
      "INFO:distributed.scheduler:Register worker <WorkerState 'tcp://127.0.0.1:49565', name: 8, status: init, memory: 0, processing: 0>\n",
      "INFO:distributed.scheduler:Starting worker compute stream, tcp://127.0.0.1:49565\n",
      "INFO:distributed.core:Starting established connection to tcp://127.0.0.1:49567\n",
      "INFO:distributed.scheduler:Register worker <WorkerState 'tcp://127.0.0.1:49570', name: 9, status: init, memory: 0, processing: 0>\n",
      "INFO:distributed.scheduler:Starting worker compute stream, tcp://127.0.0.1:49570\n",
      "INFO:distributed.core:Starting established connection to tcp://127.0.0.1:49572\n",
      "INFO:distributed.scheduler:Register worker <WorkerState 'tcp://127.0.0.1:49577', name: 6, status: init, memory: 0, processing: 0>\n",
      "INFO:distributed.scheduler:Starting worker compute stream, tcp://127.0.0.1:49577\n",
      "INFO:distributed.core:Starting established connection to tcp://127.0.0.1:49579\n",
      "INFO:distributed.scheduler:Register worker <WorkerState 'tcp://127.0.0.1:49582', name: 10, status: init, memory: 0, processing: 0>\n",
      "INFO:distributed.scheduler:Starting worker compute stream, tcp://127.0.0.1:49582\n",
      "INFO:distributed.core:Starting established connection to tcp://127.0.0.1:49584\n",
      "INFO:distributed.scheduler:Register worker <WorkerState 'tcp://127.0.0.1:49587', name: 14, status: init, memory: 0, processing: 0>\n",
      "INFO:distributed.scheduler:Starting worker compute stream, tcp://127.0.0.1:49587\n",
      "INFO:distributed.core:Starting established connection to tcp://127.0.0.1:49589\n",
      "INFO:distributed.scheduler:Register worker <WorkerState 'tcp://127.0.0.1:49595', name: 0, status: init, memory: 0, processing: 0>\n",
      "INFO:distributed.scheduler:Starting worker compute stream, tcp://127.0.0.1:49595\n",
      "INFO:distributed.core:Starting established connection to tcp://127.0.0.1:49597\n",
      "INFO:distributed.scheduler:Register worker <WorkerState 'tcp://127.0.0.1:49590', name: 5, status: init, memory: 0, processing: 0>\n",
      "INFO:distributed.scheduler:Starting worker compute stream, tcp://127.0.0.1:49590\n",
      "INFO:distributed.core:Starting established connection to tcp://127.0.0.1:49594\n",
      "INFO:distributed.scheduler:Register worker <WorkerState 'tcp://127.0.0.1:49607', name: 13, status: init, memory: 0, processing: 0>\n",
      "INFO:distributed.scheduler:Starting worker compute stream, tcp://127.0.0.1:49607\n",
      "INFO:distributed.core:Starting established connection to tcp://127.0.0.1:49609\n",
      "INFO:distributed.scheduler:Register worker <WorkerState 'tcp://127.0.0.1:49602', name: 12, status: init, memory: 0, processing: 0>\n",
      "INFO:distributed.scheduler:Starting worker compute stream, tcp://127.0.0.1:49602\n",
      "INFO:distributed.core:Starting established connection to tcp://127.0.0.1:49604\n",
      "INFO:distributed.scheduler:Register worker <WorkerState 'tcp://127.0.0.1:49610', name: 15, status: init, memory: 0, processing: 0>\n",
      "INFO:distributed.scheduler:Starting worker compute stream, tcp://127.0.0.1:49610\n",
      "INFO:distributed.core:Starting established connection to tcp://127.0.0.1:49614\n",
      "INFO:distributed.scheduler:Register worker <WorkerState 'tcp://127.0.0.1:49617', name: 7, status: init, memory: 0, processing: 0>\n",
      "INFO:distributed.scheduler:Starting worker compute stream, tcp://127.0.0.1:49617\n",
      "INFO:distributed.core:Starting established connection to tcp://127.0.0.1:49619\n",
      "INFO:distributed.scheduler:Register worker <WorkerState 'tcp://127.0.0.1:49624', name: 19, status: init, memory: 0, processing: 0>\n",
      "INFO:distributed.scheduler:Starting worker compute stream, tcp://127.0.0.1:49624\n",
      "INFO:distributed.core:Starting established connection to tcp://127.0.0.1:49626\n",
      "INFO:distributed.scheduler:Register worker <WorkerState 'tcp://127.0.0.1:49627', name: 4, status: init, memory: 0, processing: 0>\n",
      "INFO:distributed.scheduler:Starting worker compute stream, tcp://127.0.0.1:49627\n",
      "INFO:distributed.core:Starting established connection to tcp://127.0.0.1:49629\n",
      "INFO:distributed.scheduler:Register worker <WorkerState 'tcp://127.0.0.1:49632', name: 16, status: init, memory: 0, processing: 0>\n",
      "INFO:distributed.scheduler:Starting worker compute stream, tcp://127.0.0.1:49632\n",
      "INFO:distributed.core:Starting established connection to tcp://127.0.0.1:49634\n",
      "INFO:distributed.scheduler:Register worker <WorkerState 'tcp://127.0.0.1:49639', name: 17, status: init, memory: 0, processing: 0>\n",
      "INFO:distributed.scheduler:Starting worker compute stream, tcp://127.0.0.1:49639\n",
      "INFO:distributed.core:Starting established connection to tcp://127.0.0.1:49643\n",
      "INFO:distributed.scheduler:Register worker <WorkerState 'tcp://127.0.0.1:49644', name: 2, status: init, memory: 0, processing: 0>\n",
      "INFO:distributed.scheduler:Starting worker compute stream, tcp://127.0.0.1:49644\n",
      "INFO:distributed.core:Starting established connection to tcp://127.0.0.1:49646\n",
      "INFO:distributed.scheduler:Register worker <WorkerState 'tcp://127.0.0.1:49649', name: 18, status: init, memory: 0, processing: 0>\n",
      "INFO:distributed.scheduler:Starting worker compute stream, tcp://127.0.0.1:49649\n",
      "INFO:distributed.core:Starting established connection to tcp://127.0.0.1:49651\n",
      "INFO:distributed.scheduler:Register worker <WorkerState 'tcp://127.0.0.1:49652', name: 3, status: init, memory: 0, processing: 0>\n",
      "INFO:distributed.scheduler:Starting worker compute stream, tcp://127.0.0.1:49652\n",
      "INFO:distributed.core:Starting established connection to tcp://127.0.0.1:49654\n",
      "INFO:distributed.scheduler:Register worker <WorkerState 'tcp://127.0.0.1:49655', name: 1, status: init, memory: 0, processing: 0>\n",
      "INFO:distributed.scheduler:Starting worker compute stream, tcp://127.0.0.1:49655\n",
      "INFO:distributed.core:Starting established connection to tcp://127.0.0.1:49657\n",
      "INFO:distributed.scheduler:Register worker <WorkerState 'tcp://127.0.0.1:49658', name: 11, status: init, memory: 0, processing: 0>\n",
      "INFO:distributed.scheduler:Starting worker compute stream, tcp://127.0.0.1:49658\n",
      "INFO:distributed.core:Starting established connection to tcp://127.0.0.1:49660\n",
      "INFO:distributed.scheduler:Receive client connection: Client-9d21cfd1-c739-11ed-bd44-d89ef3363bb2\n",
      "INFO:distributed.core:Starting established connection to tcp://127.0.0.1:49669\n"
     ]
    }
   ],
   "source": [
    "cluster = LocalCluster(n_workers=20, threads_per_worker=1)\n",
    "client = Client(cluster)"
   ]
  },
  {
   "cell_type": "code",
   "execution_count": 26,
   "metadata": {},
   "outputs": [],
   "source": [
    "Ec = 40e9\n",
    "EDelta = 20e9\n",
    "eigvals = 2\n",
    "phi_ext = 0\n",
    "\n",
    "El_list = np.logspace(np.log10(10e6), np.log10(50e9), 60)\n",
    "r_list = np.linspace(0.01, 0.99, 60)\n",
    "El_r_pairs = [(El,r) for El in El_list for r in r_list]\n",
    "fermionic_fidelity_matrix = np.zeros((len(El_list), len(r_list)))"
   ]
  },
  {
   "cell_type": "code",
   "execution_count": 28,
   "metadata": {},
   "outputs": [],
   "source": [
    "@delayed\n",
    "def fermionic_fidelity_function(El,r):\n",
    "    _,ekets = eigensystem_fbq(Ec, El, EDelta, phi_ext, r, N = 100, eigvals = 2)\n",
    "    rho_0 = (ekets[0]*ekets[0].dag()).ptrace(0)\n",
    "    rho_1 = (ekets[1]*ekets[1].dag()).ptrace(0)\n",
    "    return np.abs(((rho_0.sqrtm()*rho_1*rho_0.sqrtm()).sqrtm()).tr())**2\n"
   ]
  },
  {
   "cell_type": "code",
   "execution_count": 29,
   "metadata": {},
   "outputs": [],
   "source": [
    "# Crear un dask bag a partir de la lista de tuplas y mapear la función process_r\n",
    "results_bag = db.from_sequence(El_r_pairs).map(lambda x: fermionic_fidelity_function(x[0], x[1]))\n",
    "\n",
    "# Calcular los resultados\n",
    "computed_results = dask.compute(*results_bag)\n",
    "\n",
    "# Asignar los resultados a las matrices correspondientes\n",
    "k = 0\n",
    "for i, El in enumerate(El_list):\n",
    "        for j, r in enumerate(r_list):\n",
    "                fermionic_fidelity_matrix[i,j] = computed_results[k]\n",
    "        k += 1"
   ]
  },
  {
   "cell_type": "code",
   "execution_count": 38,
   "metadata": {},
   "outputs": [],
   "source": [
    "El_mesh, r_mesh = np.meshgrid(El_list, r_list, indexing=\"ij\")\n",
    "\n",
    "El_flat = El_mesh.flatten()\n",
    "r_flat = r_mesh.flatten()\n",
    "fidelity_flat = fermionic_fidelity_matrix.flatten()\n",
    "\n",
    "data = {'El': El_flat, 'r': r_flat, 'Fidelidad': fidelity_flat}\n",
    "df = pd.DataFrame(data)\n",
    "\n",
    "filename = f'fermionic_fidelity_Ec_{Ec*1e-9:.0f}_Delta_{EDelta*1e-9:.0f}_phi_ext_{phi_ext:.2f}.csv'\n",
    "df.to_csv(filename, index=False)"
   ]
  },
  {
   "cell_type": "code",
   "execution_count": 37,
   "metadata": {},
   "outputs": [
    {
     "data": {
      "image/png": "[encoded data removed]",
      "text/plain": [
       "<Figure size 600x400 with 2 Axes>"
      ]
     },
     "metadata": {},
     "output_type": "display_data"
    }
   ],
   "source": [
    "fig, ax = plt.subplots(figsize=(6, 4))\n",
    "fid = ax.pcolormesh(El_mesh*1e-9, r_mesh, np.abs(fermionic_fidelity_matrix), cmap='viridis')\n",
    "ax.set_xscale('log')\n",
    "ax.set_xlabel(r'$E_L$ (GHz)')\n",
    "ax.set_ylabel(r'$r$')\n",
    "ax.set_title(r'$F_{\\rm ferm}$')\n",
    "fig.colorbar(fid, ax=ax)\n",
    "fig.tight_layout()\n",
    "fig.savefig(f'figures/fermionic_fidelity_Ec_{Ec*1e-9:.0f}_Delta_{EDelta*1e-9:.0f}_phi_ext_{phi_ext:.2f}.pdf')\n",
    "plt.show()"
   ]
  },
  {
   "attachments": {},
   "cell_type": "markdown",
   "metadata": {},
   "source": [
    "## Disjointness"
   ]
  },
  {
   "cell_type": "code",
   "execution_count": null,
   "metadata": {},
   "outputs": [],
   "source": [
    "disjointness_matrix = np.zeros((len(El_list), len(r_list)),dtype = complex)\n",
    "@delayed\n",
    "def disjointness_function(El,r):\n",
    "    _,ekets = eigensystem_fbq(Ec, El, EDelta, phi_ext, r, N = 100, eigvals = 2)\n",
    "    rho_0 = (ekets[0]*ekets[0].dag()).ptrace(0)\n",
    "    rho_1 = (ekets[1]*ekets[1].dag()).ptrace(0)\n",
    "    return (((rho_0.sqrtm()*rho_1*rho_0.sqrtm()).sqrtm()).tr())**2"
   ]
  },
  {
   "cell_type": "code",
   "execution_count": null,
   "metadata": {},
   "outputs": [],
   "source": [
    "evals,ekets = eigensystem_fbq(Ec,El,EDelta,phi_ext,r, N = Hilbert_dim, eigvals = 0)\n",
    "psi_0 = ekets[0]\n",
    "psi_1 = ekets[1]\n",
    "phi_ZPF=(2.0 * Ec / El) ** 0.25\n",
    "phi_op= (destroy(Hilbert_dim).dag() + destroy(Hilbert_dim)) * phi_ZPF\n",
    "phi_ket_list = phi_op.eigenstates()[1]\n",
    "\n",
    "def value_to_integrate(theta,phi,i):\n",
    "    return (np.abs((psi_0.dag()*(np.cos(theta/2)*tensor(phi_ket_list[i],basis(2,0)) + np.sin(theta/2)*np.exp(1j*phi)*tensor(phi_ket_list[i],basis(2,1))))[0,0])**2 , np.abs((psi_1.dag()*(np.cos(theta/2)*tensor(phi_ket_list[i],basis(2,0)) + np.sin(theta/2)*np.exp(1j*phi)*tensor(phi_ket_list[i],basis(2,1))))[0,0])**2)\n",
    "\n",
    "theta_discretization = 5\n",
    "phi_discretization = 12\n",
    "\n",
    "A = np.zeros((Hilbert_dim,theta_discretization,phi_discretization))\n",
    "B = np.zeros((Hilbert_dim,theta_discretization,phi_discretization))\n",
    "\n",
    "for i in tqdm(range(Hilbert_dim)):\n",
    "    for j,theta in enumerate(np.linspace(0,np.pi,theta_discretization)):\n",
    "        for k,phi in enumerate(np.linspace(0,2*np.pi,phi_discretization + 1)[:-1]):\n",
    "            A[i,j,k],B[i,j,k] = value_to_integrate(theta,phi, i)\n",
    "(A*B).sum()/A.sum()/B.sum()"
   ]
  }
 ],
 "metadata": {
  "kernelspec": {
   "display_name": "parallel",
   "language": "python",
   "name": "python3"
  },
  "language_info": {
   "codemirror_mode": {
    "name": "ipython",
    "version": 3
   },
   "file_extension": ".py",
   "mimetype": "text/x-python",
   "name": "python",
   "nbconvert_exporter": "python",
   "pygments_lexer": "ipython3",
   "version": "3.10.9"
  },
  "orig_nbformat": 4
 },
 "nbformat": 4,
 "nbformat_minor": 2
}
