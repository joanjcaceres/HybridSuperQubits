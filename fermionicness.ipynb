{
 "cells": [
  {
   "cell_type": "code",
   "execution_count": 2,
   "metadata": {},
   "outputs": [],
   "source": [
    "import numpy as np\n",
    "from qutip import *\n",
    "import dask\n",
    "import pandas as pd\n",
    "from dask import delayed\n",
    "import dask.bag as db\n",
    "from dask.distributed import Client, LocalCluster,progress\n",
    "# from tqdm import tqdm\n",
    "import importlib\n",
    "import functions_fbq\n",
    "importlib.reload(functions_fbq)\n",
    "from functions_fbq import *\n",
    "from scipy.interpolate import CubicSpline\n",
    "import matplotlib.pyplot as plt\n",
    "import matplotlib.colors as colors\n",
    "from figurestyle import *\n",
    "figure_features()"
   ]
  },
  {
   "cell_type": "code",
   "execution_count": 17,
   "metadata": {},
   "outputs": [
    {
     "name": "stderr",
     "output_type": "stream",
     "text": [
      "c:\\Users\\jc269556\\Anaconda3\\envs\\parallel\\lib\\site-packages\\distributed\\node.py:182: UserWarning: Port 8787 is already in use.\n",
      "Perhaps you already have a cluster running?\n",
      "Hosting the HTTP server on port 64261 instead\n",
      "  warnings.warn(\n",
      "INFO:distributed.scheduler:State start\n",
      "INFO:distributed.scheduler:  Scheduler at:     tcp://127.0.0.1:64262\n",
      "INFO:distributed.scheduler:  dashboard at:           127.0.0.1:64261\n",
      "INFO:distributed.nanny:        Start Nanny at: 'tcp://127.0.0.1:64272'\n",
      "INFO:distributed.nanny:        Start Nanny at: 'tcp://127.0.0.1:64284'\n",
      "INFO:distributed.nanny:        Start Nanny at: 'tcp://127.0.0.1:64275'\n",
      "INFO:distributed.nanny:        Start Nanny at: 'tcp://127.0.0.1:64270'\n",
      "INFO:distributed.nanny:        Start Nanny at: 'tcp://127.0.0.1:64265'\n",
      "INFO:distributed.nanny:        Start Nanny at: 'tcp://127.0.0.1:64281'\n",
      "INFO:distributed.nanny:        Start Nanny at: 'tcp://127.0.0.1:64282'\n",
      "INFO:distributed.nanny:        Start Nanny at: 'tcp://127.0.0.1:64271'\n",
      "INFO:distributed.nanny:        Start Nanny at: 'tcp://127.0.0.1:64278'\n",
      "INFO:distributed.nanny:        Start Nanny at: 'tcp://127.0.0.1:64268'\n",
      "INFO:distributed.nanny:        Start Nanny at: 'tcp://127.0.0.1:64276'\n",
      "INFO:distributed.nanny:        Start Nanny at: 'tcp://127.0.0.1:64267'\n",
      "INFO:distributed.nanny:        Start Nanny at: 'tcp://127.0.0.1:64269'\n",
      "INFO:distributed.nanny:        Start Nanny at: 'tcp://127.0.0.1:64280'\n",
      "INFO:distributed.nanny:        Start Nanny at: 'tcp://127.0.0.1:64279'\n",
      "INFO:distributed.nanny:        Start Nanny at: 'tcp://127.0.0.1:64273'\n",
      "INFO:distributed.nanny:        Start Nanny at: 'tcp://127.0.0.1:64266'\n",
      "INFO:distributed.nanny:        Start Nanny at: 'tcp://127.0.0.1:64274'\n",
      "INFO:distributed.nanny:        Start Nanny at: 'tcp://127.0.0.1:64277'\n",
      "INFO:distributed.nanny:        Start Nanny at: 'tcp://127.0.0.1:64283'\n",
      "INFO:distributed.scheduler:Register worker <WorkerState 'tcp://127.0.0.1:64313', name: 10, status: init, memory: 0, processing: 0>\n",
      "INFO:distributed.scheduler:Starting worker compute stream, tcp://127.0.0.1:64313\n",
      "INFO:distributed.core:Starting established connection to tcp://127.0.0.1:64315\n",
      "INFO:distributed.scheduler:Register worker <WorkerState 'tcp://127.0.0.1:64321', name: 19, status: init, memory: 0, processing: 0>\n",
      "INFO:distributed.scheduler:Starting worker compute stream, tcp://127.0.0.1:64321\n",
      "INFO:distributed.core:Starting established connection to tcp://127.0.0.1:64327\n",
      "INFO:distributed.scheduler:Register worker <WorkerState 'tcp://127.0.0.1:64328', name: 17, status: init, memory: 0, processing: 0>\n",
      "INFO:distributed.scheduler:Starting worker compute stream, tcp://127.0.0.1:64328\n",
      "INFO:distributed.core:Starting established connection to tcp://127.0.0.1:64330\n",
      "INFO:distributed.scheduler:Register worker <WorkerState 'tcp://127.0.0.1:64320', name: 5, status: init, memory: 0, processing: 0>\n",
      "INFO:distributed.scheduler:Starting worker compute stream, tcp://127.0.0.1:64320\n",
      "INFO:distributed.core:Starting established connection to tcp://127.0.0.1:64323\n",
      "INFO:distributed.scheduler:Register worker <WorkerState 'tcp://127.0.0.1:64333', name: 3, status: init, memory: 0, processing: 0>\n",
      "INFO:distributed.scheduler:Starting worker compute stream, tcp://127.0.0.1:64333\n",
      "INFO:distributed.core:Starting established connection to tcp://127.0.0.1:64335\n",
      "INFO:distributed.scheduler:Register worker <WorkerState 'tcp://127.0.0.1:64338', name: 0, status: init, memory: 0, processing: 0>\n",
      "INFO:distributed.scheduler:Starting worker compute stream, tcp://127.0.0.1:64338\n",
      "INFO:distributed.core:Starting established connection to tcp://127.0.0.1:64340\n",
      "INFO:distributed.scheduler:Register worker <WorkerState 'tcp://127.0.0.1:64343', name: 16, status: init, memory: 0, processing: 0>\n",
      "INFO:distributed.scheduler:Starting worker compute stream, tcp://127.0.0.1:64343\n",
      "INFO:distributed.core:Starting established connection to tcp://127.0.0.1:64345\n",
      "INFO:distributed.scheduler:Register worker <WorkerState 'tcp://127.0.0.1:64348', name: 2, status: init, memory: 0, processing: 0>\n",
      "INFO:distributed.scheduler:Starting worker compute stream, tcp://127.0.0.1:64348\n",
      "INFO:distributed.core:Starting established connection to tcp://127.0.0.1:64350\n",
      "INFO:distributed.scheduler:Register worker <WorkerState 'tcp://127.0.0.1:64401', name: 7, status: init, memory: 0, processing: 0>\n",
      "INFO:distributed.scheduler:Starting worker compute stream, tcp://127.0.0.1:64401\n",
      "INFO:distributed.core:Starting established connection to tcp://127.0.0.1:64403\n",
      "INFO:distributed.scheduler:Register worker <WorkerState 'tcp://127.0.0.1:64373', name: 15, status: init, memory: 0, processing: 0>\n",
      "INFO:distributed.scheduler:Starting worker compute stream, tcp://127.0.0.1:64373\n",
      "INFO:distributed.core:Starting established connection to tcp://127.0.0.1:64375\n",
      "INFO:distributed.scheduler:Register worker <WorkerState 'tcp://127.0.0.1:64388', name: 1, status: init, memory: 0, processing: 0>\n",
      "INFO:distributed.scheduler:Starting worker compute stream, tcp://127.0.0.1:64388\n",
      "INFO:distributed.core:Starting established connection to tcp://127.0.0.1:64391\n",
      "INFO:distributed.scheduler:Register worker <WorkerState 'tcp://127.0.0.1:64368', name: 11, status: init, memory: 0, processing: 0>\n",
      "INFO:distributed.scheduler:Starting worker compute stream, tcp://127.0.0.1:64368\n",
      "INFO:distributed.core:Starting established connection to tcp://127.0.0.1:64370\n",
      "INFO:distributed.scheduler:Register worker <WorkerState 'tcp://127.0.0.1:64358', name: 8, status: init, memory: 0, processing: 0>\n",
      "INFO:distributed.scheduler:Starting worker compute stream, tcp://127.0.0.1:64358\n",
      "INFO:distributed.core:Starting established connection to tcp://127.0.0.1:64362\n",
      "INFO:distributed.scheduler:Register worker <WorkerState 'tcp://127.0.0.1:64395', name: 4, status: init, memory: 0, processing: 0>\n",
      "INFO:distributed.scheduler:Starting worker compute stream, tcp://127.0.0.1:64395\n",
      "INFO:distributed.core:Starting established connection to tcp://127.0.0.1:64399\n",
      "INFO:distributed.scheduler:Register worker <WorkerState 'tcp://127.0.0.1:64380', name: 14, status: init, memory: 0, processing: 0>\n",
      "INFO:distributed.scheduler:Starting worker compute stream, tcp://127.0.0.1:64380\n",
      "INFO:distributed.core:Starting established connection to tcp://127.0.0.1:64382\n",
      "INFO:distributed.scheduler:Register worker <WorkerState 'tcp://127.0.0.1:64353', name: 6, status: init, memory: 0, processing: 0>\n",
      "INFO:distributed.scheduler:Starting worker compute stream, tcp://127.0.0.1:64353\n",
      "INFO:distributed.core:Starting established connection to tcp://127.0.0.1:64355\n",
      "INFO:distributed.scheduler:Register worker <WorkerState 'tcp://127.0.0.1:64383', name: 9, status: init, memory: 0, processing: 0>\n",
      "INFO:distributed.scheduler:Starting worker compute stream, tcp://127.0.0.1:64383\n",
      "INFO:distributed.core:Starting established connection to tcp://127.0.0.1:64387\n",
      "INFO:distributed.scheduler:Register worker <WorkerState 'tcp://127.0.0.1:64396', name: 12, status: init, memory: 0, processing: 0>\n",
      "INFO:distributed.scheduler:Starting worker compute stream, tcp://127.0.0.1:64396\n",
      "INFO:distributed.core:Starting established connection to tcp://127.0.0.1:64400\n",
      "INFO:distributed.scheduler:Register worker <WorkerState 'tcp://127.0.0.1:64363', name: 13, status: init, memory: 0, processing: 0>\n",
      "INFO:distributed.scheduler:Starting worker compute stream, tcp://127.0.0.1:64363\n",
      "INFO:distributed.core:Starting established connection to tcp://127.0.0.1:64365\n",
      "INFO:distributed.scheduler:Register worker <WorkerState 'tcp://127.0.0.1:64430', name: 18, status: init, memory: 0, processing: 0>\n",
      "INFO:distributed.scheduler:Starting worker compute stream, tcp://127.0.0.1:64430\n",
      "INFO:distributed.core:Starting established connection to tcp://127.0.0.1:64432\n",
      "INFO:distributed.scheduler:Receive client connection: Client-9f3b90c4-c733-11ed-918c-d89ef3363bb2\n",
      "INFO:distributed.core:Starting established connection to tcp://127.0.0.1:64433\n"
     ]
    }
   ],
   "source": [
    "cluster = LocalCluster(n_workers=20, threads_per_worker=1)\n",
    "client = Client(cluster)"
   ]
  },
  {
   "cell_type": "code",
   "execution_count": 25,
   "metadata": {},
   "outputs": [],
   "source": [
    "Ec = 40e9\n",
    "EDelta = 20e9\n",
    "eigvals = 2\n",
    "phi_ext = 0\n",
    "\n",
    "El_list = np.logspace(np.log10(10e6), np.log10(50e9), 50)\n",
    "r_list = np.linspace(0.01, 0.99, 50)\n",
    "El_r_pairs = [(El, r) for El in El_list for r in r_list]\n",
    "fermionic_fidelity_matrix = np.zeros((len(El_list), len(r_list)), dtype=complex)"
   ]
  },
  {
   "cell_type": "code",
   "execution_count": 26,
   "metadata": {},
   "outputs": [],
   "source": [
    "@delayed\n",
    "def fermionic_fidelity_function(El, r):\n",
    "    _,ekets = eigensystem_fbq(Ec, El, EDelta, phi_ext, r, N = 100, eigvals = 2)\n",
    "    rho_0 = (ekets[0]*ekets[0].dag()).ptrace(0)\n",
    "    rho_1 = ekets[1]*ekets[1].dag().ptrace(0)\n",
    "    return (((rho_0.sqrtm()*rho_1*rho_0.sqrtm()).sqrtm()).tr())**2\n"
   ]
  },
  {
   "cell_type": "code",
   "execution_count": 27,
   "metadata": {},
   "outputs": [],
   "source": [
    "# Crear un dask bag a partir de la lista de tuplas y mapear la función process_r\n",
    "results_bag = db.from_sequence(El_r_pairs).map(lambda x: fermionic_fidelity_function(x[0], x[1]))\n",
    "\n",
    "# Calcular los resultados\n",
    "computed_results = dask.compute(*results_bag)\n",
    "\n",
    "# Asignar los resultados a las matrices correspondientes\n",
    "k = 0\n",
    "for i, El in enumerate(El_list):\n",
    "    for j, r in enumerate(r_list):\n",
    "        fermionic_fidelity_matrix[i,j] = computed_results[k]\n",
    "        k += 1"
   ]
  },
  {
   "cell_type": "code",
   "execution_count": null,
   "metadata": {},
   "outputs": [],
   "source": [
    "El_mesh, r_mesh = np.meshgrid(El_list, r_list, indexing=\"ij\")\n",
    "\n",
    "El_flat = El_mesh.flatten()\n",
    "r_flat = r_mesh.flatten()\n",
    "fidelity_flat = fermionic_fidelity_matrix.flatten()\n",
    "\n",
    "data = {'El': El_flat, 'r': r_flat, 'Fidelidad': fidelity_flat}\n",
    "df = pd.DataFrame(data)\n",
    "\n",
    "filename = f'fermionic_fidelity_Ec_{Ec*1e-9:.0f}_Delta_{EDelta*1e-9:.0f}_phi_ext_{phi_ext:.2f}.csv'\n",
    "df.to_csv(filename, index=False)"
   ]
  },
  {
   "cell_type": "code",
   "execution_count": null,
   "metadata": {},
   "outputs": [
    {
     "data": {
      "image/png": "[encoded data removed]",
      "text/plain": [
       "<Figure size 600x400 with 2 Axes>"
      ]
     },
     "metadata": {},
     "output_type": "display_data"
    }
   ],
   "source": [
    "fig, ax = plt.subplots(figsize=(6, 4))\n",
    "fid = ax.pcolormesh(El_mesh, r_mesh, np.abs(fermionic_fidelity_matrix), cmap='seismic')\n",
    "ax.set_xscale('log')\n",
    "ax.set_xlabel(r'$E_L$')\n",
    "ax.set_ylabel(r'$r$')\n",
    "ax.set_title(r'$F_{\\rm ferm}$')\n",
    "fig.colorbar(fid, ax=ax)\n",
    "plt.show()"
   ]
  },
  {
   "cell_type": "code",
   "execution_count": null,
   "metadata": {},
   "outputs": [],
   "source": []
  }
 ],
 "metadata": {
  "kernelspec": {
   "display_name": "parallel",
   "language": "python",
   "name": "python3"
  },
  "language_info": {
   "codemirror_mode": {
    "name": "ipython",
    "version": 3
   },
   "file_extension": ".py",
   "mimetype": "text/x-python",
   "name": "python",
   "nbconvert_exporter": "python",
   "pygments_lexer": "ipython3",
   "version": "3.10.9"
  },
  "orig_nbformat": 4
 },
 "nbformat": 4,
 "nbformat_minor": 2
}
