{
 "cells": [
  {
   "cell_type": "code",
   "execution_count": 1,
   "metadata": {},
   "outputs": [],
   "source": [
    "import numpy as np\n",
    "from qutip import *\n",
    "import dask\n",
    "from dask import delayed\n",
    "import dask.bag as db\n",
    "from dask.distributed import Client, LocalCluster,progress\n",
    "from tqdm import tqdm\n",
    "import importlib\n",
    "import functions_fbq\n",
    "importlib.reload(functions_fbq)\n",
    "from functions_fbq import *\n",
    "import matplotlib.pyplot as plt\n",
    "import matplotlib.colors as colors\n",
    "from figurestyle import *\n",
    "figure_features()\n",
    "# refresh the functions_fbq.py file if it has been changed\n",
    "# %load_ext autoreload\n",
    "# %autoreload 2"
   ]
  },
  {
   "cell_type": "code",
   "execution_count": 32,
   "metadata": {},
   "outputs": [
    {
     "name": "stderr",
     "output_type": "stream",
     "text": [
      "INFO:distributed.scheduler:State start\n",
      "INFO:distributed.scheduler:  Scheduler at:     tcp://127.0.0.1:64216\n",
      "INFO:distributed.scheduler:  dashboard at:            127.0.0.1:8787\n",
      "INFO:distributed.nanny:        Start Nanny at: 'tcp://127.0.0.1:64238'\n",
      "INFO:distributed.nanny:        Start Nanny at: 'tcp://127.0.0.1:64221'\n",
      "INFO:distributed.nanny:        Start Nanny at: 'tcp://127.0.0.1:64234'\n",
      "INFO:distributed.nanny:        Start Nanny at: 'tcp://127.0.0.1:64227'\n",
      "INFO:distributed.nanny:        Start Nanny at: 'tcp://127.0.0.1:64226'\n",
      "INFO:distributed.nanny:        Start Nanny at: 'tcp://127.0.0.1:64231'\n",
      "INFO:distributed.nanny:        Start Nanny at: 'tcp://127.0.0.1:64228'\n",
      "INFO:distributed.nanny:        Start Nanny at: 'tcp://127.0.0.1:64222'\n",
      "INFO:distributed.nanny:        Start Nanny at: 'tcp://127.0.0.1:64229'\n",
      "INFO:distributed.nanny:        Start Nanny at: 'tcp://127.0.0.1:64224'\n",
      "INFO:distributed.nanny:        Start Nanny at: 'tcp://127.0.0.1:64225'\n",
      "INFO:distributed.nanny:        Start Nanny at: 'tcp://127.0.0.1:64237'\n",
      "INFO:distributed.nanny:        Start Nanny at: 'tcp://127.0.0.1:64223'\n",
      "INFO:distributed.nanny:        Start Nanny at: 'tcp://127.0.0.1:64219'\n",
      "INFO:distributed.utils_perf:full garbage collection released 10.25 MiB from 62588 reference cycles (threshold: 9.54 MiB)\n",
      "INFO:distributed.nanny:        Start Nanny at: 'tcp://127.0.0.1:64232'\n",
      "INFO:distributed.nanny:        Start Nanny at: 'tcp://127.0.0.1:64235'\n",
      "INFO:distributed.nanny:        Start Nanny at: 'tcp://127.0.0.1:64233'\n",
      "INFO:distributed.nanny:        Start Nanny at: 'tcp://127.0.0.1:64230'\n",
      "INFO:distributed.nanny:        Start Nanny at: 'tcp://127.0.0.1:64220'\n",
      "INFO:distributed.nanny:        Start Nanny at: 'tcp://127.0.0.1:64236'\n",
      "INFO:distributed.core:Event loop was unresponsive in Scheduler for 10.15s.  This is often caused by long-running GIL-holding functions or moving large chunks of data. This can cause timeouts and instability.\n",
      "INFO:distributed.scheduler:Register worker <WorkerState 'tcp://127.0.0.1:64263', name: 15, status: init, memory: 0, processing: 0>\n",
      "INFO:distributed.scheduler:Starting worker compute stream, tcp://127.0.0.1:64263\n",
      "INFO:distributed.core:Starting established connection to tcp://127.0.0.1:64265\n",
      "INFO:distributed.scheduler:Register worker <WorkerState 'tcp://127.0.0.1:64270', name: 7, status: init, memory: 0, processing: 0>\n",
      "INFO:distributed.scheduler:Starting worker compute stream, tcp://127.0.0.1:64270\n",
      "INFO:distributed.core:Starting established connection to tcp://127.0.0.1:64272\n",
      "INFO:distributed.scheduler:Register worker <WorkerState 'tcp://127.0.0.1:64297', name: 2, status: init, memory: 0, processing: 0>\n",
      "INFO:distributed.scheduler:Starting worker compute stream, tcp://127.0.0.1:64297\n",
      "INFO:distributed.core:Starting established connection to tcp://127.0.0.1:64299\n",
      "INFO:distributed.scheduler:Register worker <WorkerState 'tcp://127.0.0.1:64277', name: 8, status: init, memory: 0, processing: 0>\n",
      "INFO:distributed.scheduler:Starting worker compute stream, tcp://127.0.0.1:64277\n",
      "INFO:distributed.core:Starting established connection to tcp://127.0.0.1:64279\n",
      "INFO:distributed.scheduler:Register worker <WorkerState 'tcp://127.0.0.1:64318', name: 4, status: init, memory: 0, processing: 0>\n",
      "INFO:distributed.scheduler:Starting worker compute stream, tcp://127.0.0.1:64318\n",
      "INFO:distributed.core:Starting established connection to tcp://127.0.0.1:64321\n",
      "INFO:distributed.scheduler:Register worker <WorkerState 'tcp://127.0.0.1:64323', name: 5, status: init, memory: 0, processing: 0>\n",
      "INFO:distributed.scheduler:Starting worker compute stream, tcp://127.0.0.1:64323\n",
      "INFO:distributed.core:Starting established connection to tcp://127.0.0.1:64325\n",
      "INFO:distributed.scheduler:Register worker <WorkerState 'tcp://127.0.0.1:64317', name: 19, status: init, memory: 0, processing: 0>\n",
      "INFO:distributed.scheduler:Starting worker compute stream, tcp://127.0.0.1:64317\n",
      "INFO:distributed.core:Starting established connection to tcp://127.0.0.1:64322\n",
      "INFO:distributed.scheduler:Register worker <WorkerState 'tcp://127.0.0.1:64307', name: 10, status: init, memory: 0, processing: 0>\n",
      "INFO:distributed.scheduler:Starting worker compute stream, tcp://127.0.0.1:64307\n",
      "INFO:distributed.core:Starting established connection to tcp://127.0.0.1:64309\n",
      "INFO:distributed.scheduler:Register worker <WorkerState 'tcp://127.0.0.1:64292', name: 3, status: init, memory: 0, processing: 0>\n",
      "INFO:distributed.scheduler:Starting worker compute stream, tcp://127.0.0.1:64292\n",
      "INFO:distributed.core:Starting established connection to tcp://127.0.0.1:64296\n",
      "INFO:distributed.scheduler:Register worker <WorkerState 'tcp://127.0.0.1:64287', name: 6, status: init, memory: 0, processing: 0>\n",
      "INFO:distributed.scheduler:Starting worker compute stream, tcp://127.0.0.1:64287\n",
      "INFO:distributed.core:Starting established connection to tcp://127.0.0.1:64289\n",
      "INFO:distributed.scheduler:Register worker <WorkerState 'tcp://127.0.0.1:64312', name: 18, status: init, memory: 0, processing: 0>\n",
      "INFO:distributed.scheduler:Starting worker compute stream, tcp://127.0.0.1:64312\n",
      "INFO:distributed.core:Starting established connection to tcp://127.0.0.1:64314\n",
      "INFO:distributed.scheduler:Register worker <WorkerState 'tcp://127.0.0.1:64302', name: 9, status: init, memory: 0, processing: 0>\n",
      "INFO:distributed.scheduler:Starting worker compute stream, tcp://127.0.0.1:64302\n",
      "INFO:distributed.core:Starting established connection to tcp://127.0.0.1:64304\n",
      "INFO:distributed.scheduler:Register worker <WorkerState 'tcp://127.0.0.1:64280', name: 12, status: init, memory: 0, processing: 0>\n",
      "INFO:distributed.scheduler:Starting worker compute stream, tcp://127.0.0.1:64280\n",
      "INFO:distributed.core:Starting established connection to tcp://127.0.0.1:64284\n",
      "INFO:distributed.scheduler:Register worker <WorkerState 'tcp://127.0.0.1:64337', name: 16, status: init, memory: 0, processing: 0>\n",
      "INFO:distributed.scheduler:Starting worker compute stream, tcp://127.0.0.1:64337\n",
      "INFO:distributed.core:Starting established connection to tcp://127.0.0.1:64339\n",
      "INFO:distributed.scheduler:Register worker <WorkerState 'tcp://127.0.0.1:64342', name: 1, status: init, memory: 0, processing: 0>\n",
      "INFO:distributed.scheduler:Starting worker compute stream, tcp://127.0.0.1:64342\n",
      "INFO:distributed.core:Starting established connection to tcp://127.0.0.1:64344\n",
      "INFO:distributed.scheduler:Register worker <WorkerState 'tcp://127.0.0.1:64347', name: 17, status: init, memory: 0, processing: 0>\n",
      "INFO:distributed.scheduler:Starting worker compute stream, tcp://127.0.0.1:64347\n",
      "INFO:distributed.core:Starting established connection to tcp://127.0.0.1:64349\n",
      "INFO:distributed.scheduler:Register worker <WorkerState 'tcp://127.0.0.1:64352', name: 14, status: init, memory: 0, processing: 0>\n",
      "INFO:distributed.scheduler:Starting worker compute stream, tcp://127.0.0.1:64352\n",
      "INFO:distributed.core:Starting established connection to tcp://127.0.0.1:64354\n",
      "INFO:distributed.scheduler:Register worker <WorkerState 'tcp://127.0.0.1:64358', name: 0, status: init, memory: 0, processing: 0>\n",
      "INFO:distributed.scheduler:Starting worker compute stream, tcp://127.0.0.1:64358\n",
      "INFO:distributed.core:Starting established connection to tcp://127.0.0.1:64361\n",
      "INFO:distributed.scheduler:Register worker <WorkerState 'tcp://127.0.0.1:64370', name: 11, status: init, memory: 0, processing: 0>\n",
      "INFO:distributed.scheduler:Starting worker compute stream, tcp://127.0.0.1:64370\n",
      "INFO:distributed.core:Starting established connection to tcp://127.0.0.1:64372\n",
      "INFO:distributed.scheduler:Register worker <WorkerState 'tcp://127.0.0.1:64376', name: 13, status: init, memory: 0, processing: 0>\n",
      "INFO:distributed.scheduler:Starting worker compute stream, tcp://127.0.0.1:64376\n",
      "INFO:distributed.core:Starting established connection to tcp://127.0.0.1:64378\n",
      "INFO:distributed.scheduler:Receive client connection: Client-f8bc7d69-c41b-11ed-b974-d89ef3363bb2\n",
      "INFO:distributed.core:Starting established connection to tcp://127.0.0.1:64379\n"
     ]
    }
   ],
   "source": [
    "# Crear un clúster local de Dask y un cliente para conectarse a él\n",
    "cluster = LocalCluster(n_workers=20, threads_per_worker=1)\n",
    "client = Client(cluster)"
   ]
  },
  {
   "cell_type": "code",
   "execution_count": 33,
   "metadata": {},
   "outputs": [],
   "source": [
    "Ec = 40e9\n",
    "EDelta = 20e9\n",
    "eigvals = 2\n",
    "phi_ext = np.pi\n",
    "\n",
    "El_list = 5 * 1e9 * np.logspace(-2, 1, 60)\n",
    "r_list = np.linspace(0.05, 0.95, 60)\n",
    "El_r_pairs = [(El, r) for El in El_list for r in r_list]\n",
    "\n",
    "phi_matrix_elements_list = np.zeros((len(El_list), len(r_list)))\n",
    "n_matrix_elements_list = np.zeros((len(El_list), len(r_list)))\n",
    "dHdr_matrix_elements_list = np.zeros((len(El_list), len(r_list)))\n",
    "d2E01dphi2_list = np.zeros((len(El_list), len(r_list)))"
   ]
  },
  {
   "cell_type": "code",
   "execution_count": 34,
   "metadata": {},
   "outputs": [],
   "source": [
    "@delayed\n",
    "def process_r(El, r):\n",
    "    eigvals_list, _, matrix_op_sqr_list = eigensystem_and_matrix_elements_Josephson(Ec, El, EDelta, phi_ext, r,100, eigvals)\n",
    "    phi_matrix_element = matrix_op_sqr_list[0]\n",
    "    n_matrix_element = matrix_op_sqr_list[1]\n",
    "    dH_dr_element = matrix_op_sqr_list[2]\n",
    "\n",
    "    phi_ext_list = np.linspace(phi_ext, phi_ext +0.1, 10)\n",
    "    eigvals_list = np.array([np.real(eigensystem_and_matrix_elements_Josephson(Ec, El, EDelta, phi_ext_aux, r, N = 100, eigvals = 2)[0][1] - eigensystem_and_matrix_elements_sqr_fbq(Ec, El, EDelta, 0, r, N = 50, eigvals = 2)[0][0]) for phi_ext_aux in phi_ext_list])\n",
    "\n",
    "    phi_ext_list = np.concatenate([-phi_ext_list[::-1][0:-1], phi_ext_list])\n",
    "    eigvals_list = np.concatenate([eigvals_list[::-1][0:-1], eigvals_list])\n",
    "\n",
    "    dE01_dphi = np.gradient(eigvals_list, phi_ext_list, edge_order=1)\n",
    "    d2E01_dphi2 = np.gradient(dE01_dphi, phi_ext_list, edge_order=1)\n",
    "    d2E01dphi2 = d2E01_dphi2[len(phi_ext_list) // 2]\n",
    "\n",
    "    return phi_matrix_element, n_matrix_element, dH_dr_element, d2E01dphi2\n"
   ]
  },
  {
   "cell_type": "code",
   "execution_count": 54,
   "metadata": {},
   "outputs": [
    {
     "data": {
      "application/vnd.jupyter.widget-view+json": {
       "model_id": "73bdc0157ac14e049c4be0a64a7e18ec",
       "version_major": 2,
       "version_minor": 0
      },
      "text/plain": [
       "VBox()"
      ]
     },
     "metadata": {},
     "output_type": "display_data"
    }
   ],
   "source": [
    "futures = client.map(process_r, El_r_pairs)  # Reemplaza 'func' por tu función y 'data' por tus datos\n",
    "results = client.gather(futures)\n",
    "progress(futures)"
   ]
  },
  {
   "cell_type": "code",
   "execution_count": 35,
   "metadata": {},
   "outputs": [],
   "source": [
    "# Crear un dask bag a partir de la lista de tuplas y mapear la función process_r\n",
    "results_bag = db.from_sequence(El_r_pairs).map(lambda x: process_r(x[0], x[1]))\n",
    "\n",
    "# Calcular los resultados\n",
    "computed_results = dask.compute(*results_bag)\n",
    "\n",
    "# Asignar los resultados a las matrices correspondientes\n",
    "k = 0\n",
    "for i, El in enumerate(El_list):\n",
    "    for j, r in enumerate(r_list):\n",
    "        phi_matrix_element, n_matrix_element, dH_dr_element, d2E01dphi2 = computed_results[k]\n",
    "        phi_matrix_elements_list[i, j] = El * np.abs(phi_matrix_element)\n",
    "        n_matrix_elements_list[i, j] = 8 * Ec * np.abs(n_matrix_element)\n",
    "        dHdr_matrix_elements_list[i, j] = np.abs(dH_dr_element)\n",
    "        d2E01dphi2_list[i, j] = np.abs(d2E01dphi2)\n",
    "        k += 1\n"
   ]
  },
  {
   "cell_type": "code",
   "execution_count": 1,
   "metadata": {},
   "outputs": [
    {
     "ename": "NameError",
     "evalue": "name 'client' is not defined",
     "output_type": "error",
     "traceback": [
      "\u001b[1;31m---------------------------------------------------------------------------\u001b[0m",
      "\u001b[1;31mNameError\u001b[0m                                 Traceback (most recent call last)",
      "Cell \u001b[1;32mIn[1], line 1\u001b[0m\n\u001b[1;32m----> 1\u001b[0m client\u001b[39m.\u001b[39mclose()\n\u001b[0;32m      2\u001b[0m cluster\u001b[39m.\u001b[39mclose()\n",
      "\u001b[1;31mNameError\u001b[0m: name 'client' is not defined"
     ]
    }
   ],
   "source": [
    "client.close()\n",
    "cluster.close()"
   ]
  },
  {
   "cell_type": "code",
   "execution_count": 30,
   "metadata": {},
   "outputs": [
    {
     "data": {
      "image/png": "[encoded data removed]",
      "text/plain": [
       "<Figure size 1200x500 with 4 Axes>"
      ]
     },
     "metadata": {},
     "output_type": "display_data"
    }
   ],
   "source": [
    "# Escala logarítmica para los colores\n",
    "norm = colors.LogNorm()\n",
    "norm2 = colors.LogNorm()\n",
    "norm3 = colors.LogNorm()\n",
    "El_mesh, r_mesh = np.meshgrid(El_list, r_list, indexing=\"ij\")\n",
    "# Graficar phi_matrix_elements_list vs El y r\n",
    "fig1, ax = plt.subplots(1,2, figsize =(12,5), sharex=True)\n",
    "\n",
    "# put a title with the parameters values\n",
    "fig1.suptitle(r\"$E_c = 40$ GHz, $\\Delta = 20$ GHz, $\\phi_{ext} = 0$, Bosonic\", fontsize=14)\n",
    "contour1 = ax[0].pcolormesh(El_mesh / 1e9, r_mesh, phi_matrix_elements_list, cmap=\"plasma\", norm=norm)\n",
    "ax[0].set_xscale(\"log\")\n",
    "# ax[0].set_yscale(\"log\")\n",
    "# ax[0].set_xlabel(r\"$E_L$ (GHz)\")\n",
    "ax[0].set_ylabel(r\"$r$\")\n",
    "ax[0].set_title(r\"$E_L | \\langle 1 | \\hat{\\phi} | 0 \\rangle|$\")\n",
    "fig1.colorbar(contour1, ax=ax[0])\n",
    "\n",
    "# Graficar d2E01dphi2_list vs El y r\n",
    "contour2 = ax[1].pcolormesh(El_mesh / 1e9, r_mesh, np.abs(d2E01dphi2_list)*1e-9, cmap=\"plasma\", norm=norm2)\n",
    "ax[1].set_xscale(\"log\")\n",
    "# ax[1].set_yscale(\"log\")\n",
    "# ax[1].set_xlabel(r\"$E_L$ (GHz)\")\n",
    "ax[1].set_ylabel(r\"$r$\")\n",
    "ax[1].set_title(r\"$| \\partial^2 f_{01} /\\partial \\phi_{ext}^2|$ (GHz)\")\n",
    "fig1.colorbar(contour2, ax=ax[1])\n",
    "\n",
    "# Graficar dHdr_matrix_elements_list vs El y r\n",
    "# contour3 = ax[2].pcolormesh(El_mesh / 1e9, r_mesh, n_matrix_elements_list*1e-9, cmap=\"plasma\",norm=norm3)\n",
    "# ax[2].set_xscale(\"log\")\n",
    "# # ax[2].set_yscale(\"log\")\n",
    "# ax[2].set_xlabel(r\"$E_L$ (GHz)\")\n",
    "# ax[2].set_ylabel(r\"$r$\")\n",
    "# ax[2].set_title(r\"$8 E_C | \\langle 1 | \\hat{n} | 0 \\rangle|$ (GHz)\")\n",
    "# fig1.colorbar(contour3, ax=ax[2])\n",
    "\n",
    "plt.tight_layout()\n",
    "plt.savefig(\"r_El_sweep_Ec_40GHz_EDelta_20GHz_phi_ext_0_bosonic.pdf\")\n",
    "\n",
    "plt.show()\n",
    "\n"
   ]
  },
  {
   "cell_type": "code",
   "execution_count": 31,
   "metadata": {},
   "outputs": [],
   "source": [
    "with open(\"E_l_r_sweep_matrix_element_d2f01dphi2_phi_ext_0_bosonic.dat\", \"w\") as file:\n",
    "    file.write(\"# El\\t r\\t phi_matrix_elements_list\\t d2E01dphi2_list\\n\")\n",
    "    for i, El in enumerate(El_list):\n",
    "        for j, r in enumerate(r_list):\n",
    "            phi_matrix_element2 = phi_matrix_elements_list[i, j]\n",
    "            d2E01dphi2_1 = d2E01dphi2_list[i, j]\n",
    "            file.write(f\"{El}\\t{r}\\t{phi_matrix_element2}\\t{d2E01dphi2_1}\\n\")"
   ]
  },
  {
   "cell_type": "code",
   "execution_count": null,
   "metadata": {},
   "outputs": [],
   "source": []
  }
 ],
 "metadata": {
  "kernelspec": {
   "display_name": "parallel",
   "language": "python",
   "name": "python3"
  },
  "language_info": {
   "codemirror_mode": {
    "name": "ipython",
    "version": 3
   },
   "file_extension": ".py",
   "mimetype": "text/x-python",
   "name": "python",
   "nbconvert_exporter": "python",
   "pygments_lexer": "ipython3",
   "version": "3.10.9"
  },
  "orig_nbformat": 4
 },
 "nbformat": 4,
 "nbformat_minor": 2
}
