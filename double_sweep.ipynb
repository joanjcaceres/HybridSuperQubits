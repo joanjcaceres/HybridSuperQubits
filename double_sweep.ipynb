{
 "cells": [
  {
   "cell_type": "code",
   "execution_count": 29,
   "metadata": {},
   "outputs": [],
   "source": [
    "import numpy as np\n",
    "from qutip import *\n",
    "import dask\n",
    "from dask import delayed\n",
    "import dask.bag as db\n",
    "from dask.distributed import progress\n",
    "# from dask.diagnostics import progress\n",
    "from dask.distributed import Client, LocalCluster\n",
    "from tqdm import tqdm\n",
    "from functions_fbq import *\n",
    "import matplotlib.pyplot as plt\n",
    "import matplotlib.colors as colors\n",
    "from figurestyle import *\n",
    "figure_features()"
   ]
  },
  {
   "cell_type": "code",
   "execution_count": 21,
   "metadata": {},
   "outputs": [
    {
     "name": "stderr",
     "output_type": "stream",
     "text": [
      "INFO:distributed.scheduler:State start\n",
      "INFO:distributed.scheduler:  Scheduler at:     tcp://127.0.0.1:58038\n",
      "INFO:distributed.scheduler:  dashboard at:            127.0.0.1:8787\n",
      "INFO:distributed.nanny:        Start Nanny at: 'tcp://127.0.0.1:58057'\n",
      "INFO:distributed.nanny:        Start Nanny at: 'tcp://127.0.0.1:58058'\n",
      "INFO:distributed.nanny:        Start Nanny at: 'tcp://127.0.0.1:58041'\n",
      "INFO:distributed.nanny:        Start Nanny at: 'tcp://127.0.0.1:58054'\n",
      "INFO:distributed.nanny:        Start Nanny at: 'tcp://127.0.0.1:58052'\n",
      "INFO:distributed.nanny:        Start Nanny at: 'tcp://127.0.0.1:58051'\n",
      "INFO:distributed.nanny:        Start Nanny at: 'tcp://127.0.0.1:58049'\n",
      "INFO:distributed.nanny:        Start Nanny at: 'tcp://127.0.0.1:58048'\n",
      "INFO:distributed.nanny:        Start Nanny at: 'tcp://127.0.0.1:58047'\n",
      "INFO:distributed.nanny:        Start Nanny at: 'tcp://127.0.0.1:58044'\n",
      "INFO:distributed.nanny:        Start Nanny at: 'tcp://127.0.0.1:58046'\n",
      "INFO:distributed.nanny:        Start Nanny at: 'tcp://127.0.0.1:58053'\n",
      "INFO:distributed.nanny:        Start Nanny at: 'tcp://127.0.0.1:58060'\n",
      "INFO:distributed.nanny:        Start Nanny at: 'tcp://127.0.0.1:58055'\n",
      "INFO:distributed.nanny:        Start Nanny at: 'tcp://127.0.0.1:58059'\n",
      "INFO:distributed.nanny:        Start Nanny at: 'tcp://127.0.0.1:58045'\n",
      "INFO:distributed.nanny:        Start Nanny at: 'tcp://127.0.0.1:58056'\n",
      "INFO:distributed.nanny:        Start Nanny at: 'tcp://127.0.0.1:58050'\n",
      "INFO:distributed.nanny:        Start Nanny at: 'tcp://127.0.0.1:58043'\n",
      "INFO:distributed.nanny:        Start Nanny at: 'tcp://127.0.0.1:58042'\n",
      "INFO:distributed.scheduler:Register worker <WorkerState 'tcp://127.0.0.1:58085', name: 17, status: init, memory: 0, processing: 0>\n",
      "INFO:distributed.scheduler:Starting worker compute stream, tcp://127.0.0.1:58085\n",
      "INFO:distributed.core:Starting established connection to tcp://127.0.0.1:58089\n",
      "INFO:distributed.scheduler:Register worker <WorkerState 'tcp://127.0.0.1:58092', name: 13, status: init, memory: 0, processing: 0>\n",
      "INFO:distributed.scheduler:Starting worker compute stream, tcp://127.0.0.1:58092\n",
      "INFO:distributed.core:Starting established connection to tcp://127.0.0.1:58096\n",
      "INFO:distributed.scheduler:Register worker <WorkerState 'tcp://127.0.0.1:58097', name: 0, status: init, memory: 0, processing: 0>\n",
      "INFO:distributed.scheduler:Starting worker compute stream, tcp://127.0.0.1:58097\n",
      "INFO:distributed.core:Starting established connection to tcp://127.0.0.1:58099\n",
      "INFO:distributed.scheduler:Register worker <WorkerState 'tcp://127.0.0.1:58104', name: 6, status: init, memory: 0, processing: 0>\n",
      "INFO:distributed.scheduler:Starting worker compute stream, tcp://127.0.0.1:58104\n",
      "INFO:distributed.core:Starting established connection to tcp://127.0.0.1:58106\n",
      "INFO:distributed.scheduler:Register worker <WorkerState 'tcp://127.0.0.1:58107', name: 3, status: init, memory: 0, processing: 0>\n",
      "INFO:distributed.scheduler:Starting worker compute stream, tcp://127.0.0.1:58107\n",
      "INFO:distributed.core:Starting established connection to tcp://127.0.0.1:58109\n",
      "INFO:distributed.scheduler:Register worker <WorkerState 'tcp://127.0.0.1:58114', name: 11, status: init, memory: 0, processing: 0>\n",
      "INFO:distributed.scheduler:Starting worker compute stream, tcp://127.0.0.1:58114\n",
      "INFO:distributed.core:Starting established connection to tcp://127.0.0.1:58118\n",
      "INFO:distributed.scheduler:Register worker <WorkerState 'tcp://127.0.0.1:58119', name: 14, status: init, memory: 0, processing: 0>\n",
      "INFO:distributed.scheduler:Starting worker compute stream, tcp://127.0.0.1:58119\n",
      "INFO:distributed.core:Starting established connection to tcp://127.0.0.1:58121\n",
      "INFO:distributed.scheduler:Register worker <WorkerState 'tcp://127.0.0.1:58124', name: 9, status: init, memory: 0, processing: 0>\n",
      "INFO:distributed.scheduler:Starting worker compute stream, tcp://127.0.0.1:58124\n",
      "INFO:distributed.core:Starting established connection to tcp://127.0.0.1:58126\n",
      "INFO:distributed.scheduler:Register worker <WorkerState 'tcp://127.0.0.1:58129', name: 7, status: init, memory: 0, processing: 0>\n",
      "INFO:distributed.scheduler:Starting worker compute stream, tcp://127.0.0.1:58129\n",
      "INFO:distributed.core:Starting established connection to tcp://127.0.0.1:58131\n",
      "INFO:distributed.scheduler:Register worker <WorkerState 'tcp://127.0.0.1:58134', name: 5, status: init, memory: 0, processing: 0>\n",
      "INFO:distributed.scheduler:Starting worker compute stream, tcp://127.0.0.1:58134\n",
      "INFO:distributed.core:Starting established connection to tcp://127.0.0.1:58136\n",
      "INFO:distributed.scheduler:Register worker <WorkerState 'tcp://127.0.0.1:58142', name: 15, status: init, memory: 0, processing: 0>\n",
      "INFO:distributed.scheduler:Starting worker compute stream, tcp://127.0.0.1:58142\n",
      "INFO:distributed.core:Starting established connection to tcp://127.0.0.1:58144\n",
      "INFO:distributed.scheduler:Register worker <WorkerState 'tcp://127.0.0.1:58139', name: 18, status: init, memory: 0, processing: 0>\n",
      "INFO:distributed.scheduler:Starting worker compute stream, tcp://127.0.0.1:58139\n",
      "INFO:distributed.core:Starting established connection to tcp://127.0.0.1:58141\n",
      "INFO:distributed.scheduler:Register worker <WorkerState 'tcp://127.0.0.1:58151', name: 12, status: init, memory: 0, processing: 0>\n",
      "INFO:distributed.scheduler:Starting worker compute stream, tcp://127.0.0.1:58151\n",
      "INFO:distributed.core:Starting established connection to tcp://127.0.0.1:58153\n",
      "INFO:distributed.scheduler:Register worker <WorkerState 'tcp://127.0.0.1:58154', name: 8, status: init, memory: 0, processing: 0>\n",
      "INFO:distributed.scheduler:Starting worker compute stream, tcp://127.0.0.1:58154\n",
      "INFO:distributed.core:Starting established connection to tcp://127.0.0.1:58156\n",
      "INFO:distributed.scheduler:Register worker <WorkerState 'tcp://127.0.0.1:58159', name: 1, status: init, memory: 0, processing: 0>\n",
      "INFO:distributed.scheduler:Starting worker compute stream, tcp://127.0.0.1:58159\n",
      "INFO:distributed.core:Starting established connection to tcp://127.0.0.1:58161\n",
      "INFO:distributed.scheduler:Register worker <WorkerState 'tcp://127.0.0.1:58164', name: 10, status: init, memory: 0, processing: 0>\n",
      "INFO:distributed.scheduler:Starting worker compute stream, tcp://127.0.0.1:58164\n",
      "INFO:distributed.core:Starting established connection to tcp://127.0.0.1:58168\n",
      "INFO:distributed.scheduler:Register worker <WorkerState 'tcp://127.0.0.1:58169', name: 2, status: init, memory: 0, processing: 0>\n",
      "INFO:distributed.scheduler:Starting worker compute stream, tcp://127.0.0.1:58169\n",
      "INFO:distributed.core:Starting established connection to tcp://127.0.0.1:58171\n",
      "INFO:distributed.scheduler:Register worker <WorkerState 'tcp://127.0.0.1:58174', name: 4, status: init, memory: 0, processing: 0>\n",
      "INFO:distributed.scheduler:Starting worker compute stream, tcp://127.0.0.1:58174\n",
      "INFO:distributed.core:Starting established connection to tcp://127.0.0.1:58176\n",
      "INFO:distributed.scheduler:Register worker <WorkerState 'tcp://127.0.0.1:58177', name: 16, status: init, memory: 0, processing: 0>\n",
      "INFO:distributed.scheduler:Starting worker compute stream, tcp://127.0.0.1:58177\n",
      "INFO:distributed.core:Starting established connection to tcp://127.0.0.1:58179\n",
      "INFO:distributed.scheduler:Register worker <WorkerState 'tcp://127.0.0.1:58183', name: 19, status: init, memory: 0, processing: 0>\n",
      "INFO:distributed.scheduler:Starting worker compute stream, tcp://127.0.0.1:58183\n",
      "INFO:distributed.core:Starting established connection to tcp://127.0.0.1:58185\n",
      "INFO:distributed.scheduler:Receive client connection: Client-be01e294-c3f2-11ed-92fc-d89ef3363bb2\n",
      "INFO:distributed.core:Starting established connection to tcp://127.0.0.1:58195\n"
     ]
    }
   ],
   "source": [
    "# Crear un clúster local de Dask y un cliente para conectarse a él\n",
    "cluster = LocalCluster(n_workers=20, threads_per_worker=1)\n",
    "client = Client(cluster)"
   ]
  },
  {
   "cell_type": "code",
   "execution_count": 4,
   "metadata": {},
   "outputs": [
    {
     "name": "stdout",
     "output_type": "stream",
     "text": [
      "<Client: 'tcp://127.0.0.1:57527' processes=20 threads=20, memory=31.66 GiB>\n"
     ]
    }
   ],
   "source": [
    "print(client)"
   ]
  },
  {
   "cell_type": "code",
   "execution_count": 22,
   "metadata": {},
   "outputs": [],
   "source": [
    "Ec = 40e9\n",
    "EDelta = 20e9\n",
    "eigvals = 2\n",
    "phi_ext = 0\n",
    "\n",
    "El_list = 5 * 1e9 * np.logspace(-2, 1, 60)\n",
    "r_list = np.linspace(0.05, 0.95, 60)\n",
    "El_r_pairs = [(El, r) for El in El_list for r in r_list]\n",
    "\n",
    "phi_matrix_elements_list = np.zeros((len(El_list), len(r_list)))\n",
    "n_matrix_elements_list = np.zeros((len(El_list), len(r_list)))\n",
    "d2E01dphi2_list = np.zeros((len(El_list), len(r_list)))"
   ]
  },
  {
   "cell_type": "code",
   "execution_count": 23,
   "metadata": {},
   "outputs": [],
   "source": [
    "@delayed\n",
    "def process_r(El, r):\n",
    "    eigvals_list, _, matrix_op_sqr_list = eigensystem_and_matrix_elements_sqr_fbq(Ec, El, EDelta, 0, r,100, eigvals)\n",
    "    phi_matrix_element = matrix_op_sqr_list[0]\n",
    "    n_matrix_element = matrix_op_sqr_list[1]\n",
    "\n",
    "    phi_ext_list = np.linspace(0, 0.1, 10)\n",
    "    eigvals_list = np.array([np.real(eigensystem_and_matrix_elements_sqr_fbq(Ec, El, EDelta, phi_ext_aux, r, N = 100, eigvals = 2)[0][1] - eigensystem_and_matrix_elements_sqr_fbq(Ec, El, EDelta, 0, r, N = 50, eigvals = 2)[0][0]) for phi_ext_aux in phi_ext_list])\n",
    "\n",
    "    phi_ext_list = np.concatenate([-phi_ext_list[::-1][0:-1], phi_ext_list])\n",
    "    eigvals_list = np.concatenate([eigvals_list[::-1][0:-1], eigvals_list])\n",
    "\n",
    "    dE01_dphi = np.gradient(eigvals_list, phi_ext_list, edge_order=1)\n",
    "    d2E01_dphi2 = np.gradient(dE01_dphi, phi_ext_list, edge_order=1)\n",
    "    d2E01dphi2 = d2E01_dphi2[len(phi_ext_list) // 2]\n",
    "\n",
    "    return phi_matrix_element, n_matrix_element, d2E01dphi2\n"
   ]
  },
  {
   "cell_type": "code",
   "execution_count": 24,
   "metadata": {},
   "outputs": [
    {
     "data": {
      "application/vnd.jupyter.widget-view+json": {
       "model_id": "e802753cf324431190070e9e09c8ab70",
       "version_major": 2,
       "version_minor": 0
      },
      "text/plain": [
       "VBox()"
      ]
     },
     "metadata": {},
     "output_type": "display_data"
    }
   ],
   "source": [
    "futures = client.map(process_r, El_r_pairs)  # Reemplaza 'func' por tu función y 'data' por tus datos\n",
    "results = client.gather(futures)\n",
    "progress(futures)"
   ]
  },
  {
   "cell_type": "code",
   "execution_count": 25,
   "metadata": {},
   "outputs": [],
   "source": [
    "# Crear un dask bag a partir de la lista de tuplas y mapear la función process_r\n",
    "results_bag = db.from_sequence(El_r_pairs).map(lambda x: process_r(x[0], x[1]))\n",
    "\n",
    "# Calcular los resultados\n",
    "computed_results = dask.compute(*results_bag)\n",
    "\n",
    "# Asignar los resultados a las matrices correspondientes\n",
    "k = 0\n",
    "for i, El in enumerate(El_list):\n",
    "    for j, r in enumerate(r_list):\n",
    "        phi_matrix_element, n_matrix_element, d2E01dphi2 = computed_results[k]\n",
    "        phi_matrix_elements_list[i, j] = El * np.abs(phi_matrix_element)\n",
    "        n_matrix_elements_list[i, j] = 8 * Ec * np.abs(n_matrix_element)\n",
    "        d2E01dphi2_list[i, j] = np.abs(d2E01dphi2)\n",
    "        k += 1\n"
   ]
  },
  {
   "cell_type": "code",
   "execution_count": 82,
   "metadata": {},
   "outputs": [],
   "source": [
    "# Utilizar Dask para paralelizar y ejecutar los bucles for anidados\n",
    "results = []\n",
    "for i, El in enumerate(El_list):\n",
    "    for j, r in enumerate(r_list):\n",
    "        result = dask.delayed(process_r)(El, r)\n",
    "        results.append(result)\n"
   ]
  },
  {
   "cell_type": "code",
   "execution_count": 83,
   "metadata": {},
   "outputs": [],
   "source": [
    "# Calcular y asignar los resultados\n",
    "computed_results = dask.compute(*results)\n",
    "\n",
    "# Asignar los resultados a las matrices correspondientes\n",
    "k = 0\n",
    "\n",
    "for i, El in enumerate(El_list):\n",
    "    for j, r in enumerate(r_list):\n",
    "        phi_matrix_element, n_matrix_element, d2E01dphi2 = computed_results[k]\n",
    "        phi_matrix_elements_list[i, j] = El * np.abs(phi_matrix_element)\n",
    "        n_matrix_elements_list[i, j] = 8 * Ec * np.abs(n_matrix_element)\n",
    "        d2E01dphi2_list[i, j] = np.abs(d2E01dphi2)\n",
    "        k += 1"
   ]
  },
  {
   "cell_type": "code",
   "execution_count": null,
   "metadata": {},
   "outputs": [],
   "source": [
    "client.close()\n",
    "cluster.close()"
   ]
  },
  {
   "cell_type": "code",
   "execution_count": 38,
   "metadata": {},
   "outputs": [
    {
     "data": {
      "image/png": "[encoded data removed]",
      "text/plain": [
       "<Figure size 1200x500 with 4 Axes>"
      ]
     },
     "metadata": {},
     "output_type": "display_data"
    }
   ],
   "source": [
    "# Escala logarítmica para los colores\n",
    "norm = colors.LogNorm()\n",
    "El_mesh, r_mesh = np.meshgrid(El_list, r_list, indexing=\"ij\")\n",
    "# Graficar phi_matrix_elements_list vs El y r\n",
    "fig1, ax = plt.subplots(1,2, figsize =(12,5))\n",
    "contour1 = ax[0].pcolormesh(El_mesh / 1e9, r_mesh, phi_matrix_elements_list, cmap=\"plasma\", norm=norm)\n",
    "ax[0].set_xscale(\"log\")\n",
    "# ax[0].set_yscale(\"log\")\n",
    "ax[0].set_xlabel(r\"$E_L$ (GHz)\")\n",
    "ax[0].set_ylabel(r\"$r$\")\n",
    "ax[0].set_title(r\"$E_L | \\langle 1 | \\hat{\\phi} | 0 \\rangle|$\")\n",
    "fig1.colorbar(contour1)\n",
    "\n",
    "# Graficar d2E01dphi2_list vs El y r\n",
    "contour2 = ax[1].pcolormesh(El_mesh / 1e9, r_mesh, np.abs(d2E01dphi2_list), cmap=\"plasma\", norm=norm)\n",
    "ax[1].set_xscale(\"log\")\n",
    "# ax[1].set_yscale(\"log\")\n",
    "ax[1].set_xlabel(r\"$E_L$ (GHz)\")\n",
    "ax[1].set_ylabel(r\"$r$\")\n",
    "ax[1].set_title(r\"$| \\partial^2 f_{01} /\\partial \\phi_{ext}^2 |$\")\n",
    "fig2.colorbar(contour2)\n",
    "\n",
    "plt.tight_layout()\n",
    "\n",
    "plt.show()\n",
    "\n"
   ]
  },
  {
   "cell_type": "code",
   "execution_count": null,
   "metadata": {},
   "outputs": [],
   "source": []
  }
 ],
 "metadata": {
  "kernelspec": {
   "display_name": "parallel",
   "language": "python",
   "name": "python3"
  },
  "language_info": {
   "codemirror_mode": {
    "name": "ipython",
    "version": 3
   },
   "file_extension": ".py",
   "mimetype": "text/x-python",
   "name": "python",
   "nbconvert_exporter": "python",
   "pygments_lexer": "ipython3",
   "version": "3.10.9"
  },
  "orig_nbformat": 4
 },
 "nbformat": 4,
 "nbformat_minor": 2
}
